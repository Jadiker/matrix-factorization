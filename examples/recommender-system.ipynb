{
 "cells": [
  {
   "cell_type": "code",
   "execution_count": 1,
   "metadata": {
    "tags": []
   },
   "outputs": [],
   "source": [
    "# Data manipulation\n",
    "import numpy as np\n",
    "import pandas as pd\n",
    "pd.options.display.max_rows = 100\n",
    "\n",
    "# Recommender systems\n",
    "from sklearn.metrics import mean_squared_error\n",
    "from sklearn.model_selection import train_test_split\n",
    "import surprise as sp\n",
    "\n",
    "# Other\n",
    "import os\n",
    "import random\n",
    "import sys\n",
    "\n",
    "# Custom modules\n",
    "module_path = os.path.abspath(os.path.join('..'))\n",
    "if module_path not in sys.path:\n",
    "    sys.path.append(module_path)\n",
    "from src import BaselineModel, MatrixFactorization, train_update_test_split\n",
    "\n",
    "# Reload imported code \n",
    "%load_ext autoreload\n",
    "%autoreload 2\n",
    "\n",
    "rand_seed = 2\n",
    "np.random.seed(rand_seed)\n",
    "random.seed(rand_seed)"
   ]
  },
  {
   "cell_type": "markdown",
   "metadata": {},
   "source": [
    "# Load data"
   ]
  },
  {
   "cell_type": "markdown",
   "metadata": {},
   "source": [
    "**Movie data found here https://grouplens.org/datasets/movielens/**"
   ]
  },
  {
   "cell_type": "code",
   "execution_count": 2,
   "metadata": {},
   "outputs": [
    {
     "data": {
      "text/html": [
       "<div>\n",
       "<style scoped>\n",
       "    .dataframe tbody tr th:only-of-type {\n",
       "        vertical-align: middle;\n",
       "    }\n",
       "\n",
       "    .dataframe tbody tr th {\n",
       "        vertical-align: top;\n",
       "    }\n",
       "\n",
       "    .dataframe thead th {\n",
       "        text-align: right;\n",
       "    }\n",
       "</style>\n",
       "<table border=\"1\" class=\"dataframe\">\n",
       "  <thead>\n",
       "    <tr style=\"text-align: right;\">\n",
       "      <th></th>\n",
       "      <th>user_id</th>\n",
       "      <th>item_id</th>\n",
       "      <th>rating</th>\n",
       "    </tr>\n",
       "  </thead>\n",
       "  <tbody>\n",
       "    <tr>\n",
       "      <th>0</th>\n",
       "      <td>1</td>\n",
       "      <td>1193</td>\n",
       "      <td>5</td>\n",
       "    </tr>\n",
       "    <tr>\n",
       "      <th>1</th>\n",
       "      <td>1</td>\n",
       "      <td>661</td>\n",
       "      <td>3</td>\n",
       "    </tr>\n",
       "    <tr>\n",
       "      <th>2</th>\n",
       "      <td>1</td>\n",
       "      <td>914</td>\n",
       "      <td>3</td>\n",
       "    </tr>\n",
       "    <tr>\n",
       "      <th>3</th>\n",
       "      <td>1</td>\n",
       "      <td>3408</td>\n",
       "      <td>4</td>\n",
       "    </tr>\n",
       "    <tr>\n",
       "      <th>4</th>\n",
       "      <td>1</td>\n",
       "      <td>2355</td>\n",
       "      <td>5</td>\n",
       "    </tr>\n",
       "    <tr>\n",
       "      <th>5</th>\n",
       "      <td>1</td>\n",
       "      <td>1197</td>\n",
       "      <td>3</td>\n",
       "    </tr>\n",
       "    <tr>\n",
       "      <th>6</th>\n",
       "      <td>1</td>\n",
       "      <td>1287</td>\n",
       "      <td>5</td>\n",
       "    </tr>\n",
       "    <tr>\n",
       "      <th>7</th>\n",
       "      <td>1</td>\n",
       "      <td>2804</td>\n",
       "      <td>5</td>\n",
       "    </tr>\n",
       "    <tr>\n",
       "      <th>8</th>\n",
       "      <td>1</td>\n",
       "      <td>594</td>\n",
       "      <td>4</td>\n",
       "    </tr>\n",
       "    <tr>\n",
       "      <th>9</th>\n",
       "      <td>1</td>\n",
       "      <td>919</td>\n",
       "      <td>4</td>\n",
       "    </tr>\n",
       "  </tbody>\n",
       "</table>\n",
       "</div>"
      ],
      "text/plain": [
       "   user_id  item_id  rating\n",
       "0        1     1193       5\n",
       "1        1      661       3\n",
       "2        1      914       3\n",
       "3        1     3408       4\n",
       "4        1     2355       5\n",
       "5        1     1197       3\n",
       "6        1     1287       5\n",
       "7        1     2804       5\n",
       "8        1      594       4\n",
       "9        1      919       4"
      ]
     },
     "execution_count": 2,
     "metadata": {},
     "output_type": "execute_result"
    }
   ],
   "source": [
    "cols = ['user_id', 'item_id', 'rating', 'timestamp']\n",
    "movie_data = pd.read_csv('../data/ml-1m/ratings.dat', names = cols, sep = '::', usecols=[0, 1, 2], engine='python')\n",
    "# movie_data = pd.read_csv('../data/ml-100k/u.data', names = cols, sep = '\\t', usecols=[0, 1, 2], engine='python')\n",
    "\n",
    "# Prepare data\n",
    "train, test = train_test_split(movie_data, test_size=0.2)\n",
    "\n",
    "# Prepare data for online learning\n",
    "train_initial, train_update, test_update = train_update_test_split(movie_data, frac_new_users=0.2)\n",
    "\n",
    "movie_data.head(10)"
   ]
  },
  {
   "cell_type": "markdown",
   "metadata": {},
   "source": [
    "# Simple model with global mean"
   ]
  },
  {
   "cell_type": "markdown",
   "metadata": {},
   "source": [
    "This is similar to just the global standard deviation"
   ]
  },
  {
   "cell_type": "code",
   "execution_count": 3,
   "metadata": {
    "tags": []
   },
   "outputs": [
    {
     "name": "stdout",
     "output_type": "stream",
     "text": [
      "\n",
      "Test RMSE: 1.117284\n"
     ]
    }
   ],
   "source": [
    "global_mean = train['rating'].mean()\n",
    "pred = [global_mean for _ in range(test.shape[0])]\n",
    "\n",
    "rmse = mean_squared_error(test['rating'], pred, squared = False)\n",
    "\n",
    "print(f'\\nTest RMSE: {rmse:4f}')"
   ]
  },
  {
   "cell_type": "markdown",
   "metadata": {},
   "source": [
    "# Baseline Model with biases"
   ]
  },
  {
   "cell_type": "markdown",
   "metadata": {},
   "source": [
    "## SGD"
   ]
  },
  {
   "cell_type": "code",
   "execution_count": 4,
   "metadata": {
    "tags": []
   },
   "outputs": [
    {
     "name": "stdout",
     "output_type": "stream",
     "text": [
      "Epoch  1 / 20  -  train_rmse: 0.9159252285487107\n",
      "Epoch  2 / 20  -  train_rmse: 0.9054648413828678\n",
      "Epoch  3 / 20  -  train_rmse: 0.9021557010752497\n",
      "Epoch  4 / 20  -  train_rmse: 0.9006867132228016\n",
      "Epoch  5 / 20  -  train_rmse: 0.8999153812555668\n",
      "Epoch  6 / 20  -  train_rmse: 0.8994658823750281\n",
      "Epoch  7 / 20  -  train_rmse: 0.8991838099413846\n",
      "Epoch  8 / 20  -  train_rmse: 0.898996392067281\n",
      "Epoch  9 / 20  -  train_rmse: 0.8988659401531301\n",
      "Epoch  10 / 20  -  train_rmse: 0.8987715199772648\n",
      "Epoch  11 / 20  -  train_rmse: 0.8987008477189359\n",
      "Epoch  12 / 20  -  train_rmse: 0.8986463860326711\n",
      "Epoch  13 / 20  -  train_rmse: 0.8986033334840108\n",
      "Epoch  14 / 20  -  train_rmse: 0.8985685315752041\n",
      "Epoch  15 / 20  -  train_rmse: 0.8985398432976371\n",
      "Epoch  16 / 20  -  train_rmse: 0.8985157860978665\n",
      "Epoch  17 / 20  -  train_rmse: 0.8984953079118734\n",
      "Epoch  18 / 20  -  train_rmse: 0.8984776465644875\n",
      "Epoch  19 / 20  -  train_rmse: 0.8984622392707795\n",
      "Epoch  20 / 20  -  train_rmse: 0.8984486630733863\n",
      "\n",
      "Test RMSE: 0.9122\n",
      "Wall time: 2.12 s\n"
     ]
    }
   ],
   "source": [
    "%%time\n",
    "\n",
    "baseline_model = BaselineModel(n_epochs = 20, reg = 0.005, verbose=1)\n",
    "baseline_model.fit(train)\n",
    "\n",
    "pred = baseline_model.predict(test)\n",
    "rmse = mean_squared_error(test['rating'], pred, squared = False)\n",
    "\n",
    "print(f'\\nTest RMSE: {rmse:.4f}')"
   ]
  },
  {
   "cell_type": "code",
   "execution_count": 5,
   "metadata": {},
   "outputs": [
    {
     "data": {
      "text/html": [
       "<div>\n",
       "<style scoped>\n",
       "    .dataframe tbody tr th:only-of-type {\n",
       "        vertical-align: middle;\n",
       "    }\n",
       "\n",
       "    .dataframe tbody tr th {\n",
       "        vertical-align: top;\n",
       "    }\n",
       "\n",
       "    .dataframe thead th {\n",
       "        text-align: right;\n",
       "    }\n",
       "</style>\n",
       "<table border=\"1\" class=\"dataframe\">\n",
       "  <thead>\n",
       "    <tr style=\"text-align: right;\">\n",
       "      <th></th>\n",
       "      <th>user_id</th>\n",
       "      <th>item_id</th>\n",
       "      <th>rating_pred</th>\n",
       "    </tr>\n",
       "  </thead>\n",
       "  <tbody>\n",
       "    <tr>\n",
       "      <th>147</th>\n",
       "      <td>200</td>\n",
       "      <td>318</td>\n",
       "      <td>4.794188</td>\n",
       "    </tr>\n",
       "    <tr>\n",
       "      <th>1999</th>\n",
       "      <td>200</td>\n",
       "      <td>2905</td>\n",
       "      <td>4.782433</td>\n",
       "    </tr>\n",
       "    <tr>\n",
       "      <th>2229</th>\n",
       "      <td>200</td>\n",
       "      <td>1178</td>\n",
       "      <td>4.722444</td>\n",
       "    </tr>\n",
       "    <tr>\n",
       "      <th>501</th>\n",
       "      <td>200</td>\n",
       "      <td>50</td>\n",
       "      <td>4.713932</td>\n",
       "    </tr>\n",
       "    <tr>\n",
       "      <th>3401</th>\n",
       "      <td>200</td>\n",
       "      <td>2503</td>\n",
       "      <td>4.697496</td>\n",
       "    </tr>\n",
       "    <tr>\n",
       "      <th>1875</th>\n",
       "      <td>200</td>\n",
       "      <td>1212</td>\n",
       "      <td>4.674459</td>\n",
       "    </tr>\n",
       "    <tr>\n",
       "      <th>15</th>\n",
       "      <td>200</td>\n",
       "      <td>2019</td>\n",
       "      <td>4.667138</td>\n",
       "    </tr>\n",
       "    <tr>\n",
       "      <th>402</th>\n",
       "      <td>200</td>\n",
       "      <td>527</td>\n",
       "      <td>4.664419</td>\n",
       "    </tr>\n",
       "    <tr>\n",
       "      <th>942</th>\n",
       "      <td>200</td>\n",
       "      <td>745</td>\n",
       "      <td>4.645939</td>\n",
       "    </tr>\n",
       "    <tr>\n",
       "      <th>94</th>\n",
       "      <td>200</td>\n",
       "      <td>1148</td>\n",
       "      <td>4.632405</td>\n",
       "    </tr>\n",
       "  </tbody>\n",
       "</table>\n",
       "</div>"
      ],
      "text/plain": [
       "      user_id  item_id  rating_pred\n",
       "147       200      318     4.794188\n",
       "1999      200     2905     4.782433\n",
       "2229      200     1178     4.722444\n",
       "501       200       50     4.713932\n",
       "3401      200     2503     4.697496\n",
       "1875      200     1212     4.674459\n",
       "15        200     2019     4.667138\n",
       "402       200      527     4.664419\n",
       "942       200      745     4.645939\n",
       "94        200     1148     4.632405"
      ]
     },
     "execution_count": 5,
     "metadata": {},
     "output_type": "execute_result"
    }
   ],
   "source": [
    "baseline_model.recommend(user=200)"
   ]
  },
  {
   "cell_type": "markdown",
   "metadata": {},
   "source": [
    "## ALS"
   ]
  },
  {
   "cell_type": "code",
   "execution_count": 6,
   "metadata": {
    "tags": []
   },
   "outputs": [
    {
     "name": "stdout",
     "output_type": "stream",
     "text": [
      "Epoch  1 / 20  -  train_rmse: 0.9176617885927157\n",
      "Epoch  2 / 20  -  train_rmse: 0.8971604837483601\n",
      "Epoch  3 / 20  -  train_rmse: 0.896194271222296\n",
      "Epoch  4 / 20  -  train_rmse: 0.8961360919877157\n",
      "Epoch  5 / 20  -  train_rmse: 0.8961314250532887\n",
      "Epoch  6 / 20  -  train_rmse: 0.896130818212106\n",
      "Epoch  7 / 20  -  train_rmse: 0.8961306848554195\n",
      "Epoch  8 / 20  -  train_rmse: 0.8961306360024889\n",
      "Epoch  9 / 20  -  train_rmse: 0.8961306058768953\n",
      "Epoch  10 / 20  -  train_rmse: 0.8961305803066902\n",
      "Epoch  11 / 20  -  train_rmse: 0.8961305559767178\n",
      "Epoch  12 / 20  -  train_rmse: 0.8961305320922529\n",
      "Epoch  13 / 20  -  train_rmse: 0.8961305084604018\n",
      "Epoch  14 / 20  -  train_rmse: 0.896130485033271\n",
      "Epoch  15 / 20  -  train_rmse: 0.8961304617979958\n",
      "Epoch  16 / 20  -  train_rmse: 0.8961304387501737\n",
      "Epoch  17 / 20  -  train_rmse: 0.8961304158874858\n",
      "Epoch  18 / 20  -  train_rmse: 0.8961303932080759\n",
      "Epoch  19 / 20  -  train_rmse: 0.896130370710279\n",
      "Epoch  20 / 20  -  train_rmse: 0.8961303483924202\n",
      "\n",
      "Test RMSE: 0.9101\n",
      "Wall time: 1.35 s\n"
     ]
    }
   ],
   "source": [
    "%%time\n",
    "\n",
    "baseline_model = BaselineModel(method='als', n_epochs = 20, reg = 0.5, verbose=1)\n",
    "baseline_model.fit(train)\n",
    "\n",
    "pred = baseline_model.predict(test)\n",
    "rmse = mean_squared_error(test['rating'], pred, squared = False)\n",
    "\n",
    "print(f'\\nTest RMSE: {rmse:.4f}')"
   ]
  },
  {
   "cell_type": "markdown",
   "metadata": {},
   "source": [
    "## Updating with new users"
   ]
  },
  {
   "cell_type": "code",
   "execution_count": 7,
   "metadata": {
    "tags": []
   },
   "outputs": [
    {
     "name": "stdout",
     "output_type": "stream",
     "text": [
      "Epoch  1 / 20  -  train_rmse: 0.9146801195330119\n",
      "Epoch  2 / 20  -  train_rmse: 0.9050223594671496\n",
      "Epoch  3 / 20  -  train_rmse: 0.9019987055625731\n",
      "Epoch  4 / 20  -  train_rmse: 0.9006686569140377\n",
      "Epoch  5 / 20  -  train_rmse: 0.8999729081939808\n",
      "Epoch  6 / 20  -  train_rmse: 0.8995657145779568\n",
      "Epoch  7 / 20  -  train_rmse: 0.89930691061048\n",
      "Epoch  8 / 20  -  train_rmse: 0.8991314210618228\n",
      "Epoch  9 / 20  -  train_rmse: 0.8990060235508048\n",
      "Epoch  10 / 20  -  train_rmse: 0.8989124896959825\n",
      "Epoch  11 / 20  -  train_rmse: 0.8988402184047977\n",
      "Epoch  12 / 20  -  train_rmse: 0.8987827332620895\n",
      "Epoch  13 / 20  -  train_rmse: 0.8987359043007539\n",
      "Epoch  14 / 20  -  train_rmse: 0.8986969958933293\n",
      "Epoch  15 / 20  -  train_rmse: 0.8986641335567704\n",
      "Epoch  16 / 20  -  train_rmse: 0.8986359934290962\n",
      "Epoch  17 / 20  -  train_rmse: 0.8986116149856502\n",
      "Epoch  18 / 20  -  train_rmse: 0.8985902844349936\n",
      "Epoch  19 / 20  -  train_rmse: 0.8985714599717707\n",
      "Epoch  20 / 20  -  train_rmse: 0.8985547225547444\n"
     ]
    },
    {
     "data": {
      "text/plain": [
       "BaselineModel(n_epochs=20, reg=0.05)"
      ]
     },
     "execution_count": 7,
     "metadata": {},
     "output_type": "execute_result"
    }
   ],
   "source": [
    "baseline_model = BaselineModel(method='sgd', n_epochs = 20, lr=0.01, reg = 0.05, verbose=1)\n",
    "baseline_model.fit(train_initial)"
   ]
  },
  {
   "cell_type": "code",
   "execution_count": 8,
   "metadata": {
    "tags": []
   },
   "outputs": [
    {
     "name": "stdout",
     "output_type": "stream",
     "text": [
      "Epoch  1 / 20  -  train_rmse: 0.9635727193182636\n",
      "Epoch  2 / 20  -  train_rmse: 0.9500646758033183\n",
      "Epoch  3 / 20  -  train_rmse: 0.9415386383955896\n",
      "Epoch  4 / 20  -  train_rmse: 0.9357062825863587\n",
      "Epoch  5 / 20  -  train_rmse: 0.9314783619674327\n",
      "Epoch  6 / 20  -  train_rmse: 0.9282781751952418\n",
      "Epoch  7 / 20  -  train_rmse: 0.9257735866453076\n",
      "Epoch  8 / 20  -  train_rmse: 0.9237606324250288\n",
      "Epoch  9 / 20  -  train_rmse: 0.9221076203068104\n",
      "Epoch  10 / 20  -  train_rmse: 0.9207259734128911\n",
      "Epoch  11 / 20  -  train_rmse: 0.9195540213709754\n",
      "Epoch  12 / 20  -  train_rmse: 0.9185475311638134\n",
      "Epoch  13 / 20  -  train_rmse: 0.9176739474537375\n",
      "Epoch  14 / 20  -  train_rmse: 0.9169087659571536\n",
      "Epoch  15 / 20  -  train_rmse: 0.916233178625095\n",
      "Epoch  16 / 20  -  train_rmse: 0.9156325014702582\n",
      "Epoch  17 / 20  -  train_rmse: 0.915095097997138\n",
      "Epoch  18 / 20  -  train_rmse: 0.9146116248523293\n",
      "Epoch  19 / 20  -  train_rmse: 0.914174492147414\n",
      "Epoch  20 / 20  -  train_rmse: 0.9137774700652217\n",
      "\n",
      "Test RMSE: 0.9215\n",
      "Wall time: 539 ms\n"
     ]
    }
   ],
   "source": [
    "%%time\n",
    "baseline_model.update_users(train_update, n_epochs=20, lr=0.001, verbose=1)\n",
    "pred = baseline_model.predict(test_update)\n",
    "rmse = mean_squared_error(test_update['rating'], pred, squared = False)\n",
    "\n",
    "print(f'\\nTest RMSE: {rmse:.4f}')"
   ]
  },
  {
   "cell_type": "markdown",
   "metadata": {},
   "source": [
    "# Matrix Factorization"
   ]
  },
  {
   "cell_type": "markdown",
   "metadata": {},
   "source": [
    "## Linear Kernel"
   ]
  },
  {
   "cell_type": "code",
   "execution_count": 9,
   "metadata": {},
   "outputs": [
    {
     "name": "stdout",
     "output_type": "stream",
     "text": [
      "Epoch  1 / 20  -  train_rmse: 1.0131011252294773\n",
      "Epoch  2 / 20  -  train_rmse: 0.9736666969388077\n",
      "Epoch  3 / 20  -  train_rmse: 0.9523944671540961\n",
      "Epoch  4 / 20  -  train_rmse: 0.9387221552225186\n",
      "Epoch  5 / 20  -  train_rmse: 0.928938460851335\n",
      "Epoch  6 / 20  -  train_rmse: 0.9214163756438052\n",
      "Epoch  7 / 20  -  train_rmse: 0.9153321030137026\n",
      "Epoch  8 / 20  -  train_rmse: 0.9102216297519944\n",
      "Epoch  9 / 20  -  train_rmse: 0.9058012779631329\n",
      "Epoch  10 / 20  -  train_rmse: 0.9018860547022041\n",
      "Epoch  11 / 20  -  train_rmse: 0.8983488825183165\n",
      "Epoch  12 / 20  -  train_rmse: 0.8950986431955273\n",
      "Epoch  13 / 20  -  train_rmse: 0.8920675889254348\n",
      "Epoch  14 / 20  -  train_rmse: 0.8892037355110048\n",
      "Epoch  15 / 20  -  train_rmse: 0.8864660582431466\n",
      "Epoch  16 / 20  -  train_rmse: 0.8838213430103019\n",
      "Epoch  17 / 20  -  train_rmse: 0.8812420579217561\n",
      "Epoch  18 / 20  -  train_rmse: 0.8787048792138804\n",
      "Epoch  19 / 20  -  train_rmse: 0.8761896524743615\n",
      "Epoch  20 / 20  -  train_rmse: 0.8736786543849769\n",
      "\n",
      "Test RMSE: 0.9177\n",
      "Wall time: 17 s\n"
     ]
    }
   ],
   "source": [
    "%%time \n",
    "matrix_fact = MatrixFactorization(n_epochs = 20, n_factors = 100, verbose = 1, lr = 0.001, reg = 0.005)\n",
    "matrix_fact.fit(train)\n",
    "\n",
    "pred = matrix_fact.predict(test)\n",
    "rmse = mean_squared_error(test['rating'], pred, squared = False)\n",
    "\n",
    "print(f'\\nTest RMSE: {rmse:.4f}')"
   ]
  },
  {
   "cell_type": "markdown",
   "metadata": {},
   "source": [
    "## Getting list of recommendations for a user"
   ]
  },
  {
   "cell_type": "code",
   "execution_count": 10,
   "metadata": {},
   "outputs": [
    {
     "data": {
      "text/html": [
       "<div>\n",
       "<style scoped>\n",
       "    .dataframe tbody tr th:only-of-type {\n",
       "        vertical-align: middle;\n",
       "    }\n",
       "\n",
       "    .dataframe tbody tr th {\n",
       "        vertical-align: top;\n",
       "    }\n",
       "\n",
       "    .dataframe thead th {\n",
       "        text-align: right;\n",
       "    }\n",
       "</style>\n",
       "<table border=\"1\" class=\"dataframe\">\n",
       "  <thead>\n",
       "    <tr style=\"text-align: right;\">\n",
       "      <th></th>\n",
       "      <th>user_id</th>\n",
       "      <th>item_id</th>\n",
       "      <th>rating_pred</th>\n",
       "    </tr>\n",
       "  </thead>\n",
       "  <tbody>\n",
       "    <tr>\n",
       "      <th>1468</th>\n",
       "      <td>200</td>\n",
       "      <td>922</td>\n",
       "      <td>4.799596</td>\n",
       "    </tr>\n",
       "    <tr>\n",
       "      <th>219</th>\n",
       "      <td>200</td>\n",
       "      <td>750</td>\n",
       "      <td>4.754314</td>\n",
       "    </tr>\n",
       "    <tr>\n",
       "      <th>465</th>\n",
       "      <td>200</td>\n",
       "      <td>745</td>\n",
       "      <td>4.751673</td>\n",
       "    </tr>\n",
       "    <tr>\n",
       "      <th>687</th>\n",
       "      <td>200</td>\n",
       "      <td>912</td>\n",
       "      <td>4.717364</td>\n",
       "    </tr>\n",
       "    <tr>\n",
       "      <th>2139</th>\n",
       "      <td>200</td>\n",
       "      <td>1178</td>\n",
       "      <td>4.678136</td>\n",
       "    </tr>\n",
       "    <tr>\n",
       "      <th>367</th>\n",
       "      <td>200</td>\n",
       "      <td>3435</td>\n",
       "      <td>4.658557</td>\n",
       "    </tr>\n",
       "    <tr>\n",
       "      <th>215</th>\n",
       "      <td>200</td>\n",
       "      <td>527</td>\n",
       "      <td>4.651540</td>\n",
       "    </tr>\n",
       "    <tr>\n",
       "      <th>888</th>\n",
       "      <td>200</td>\n",
       "      <td>904</td>\n",
       "      <td>4.641466</td>\n",
       "    </tr>\n",
       "    <tr>\n",
       "      <th>445</th>\n",
       "      <td>200</td>\n",
       "      <td>50</td>\n",
       "      <td>4.640540</td>\n",
       "    </tr>\n",
       "    <tr>\n",
       "      <th>229</th>\n",
       "      <td>200</td>\n",
       "      <td>318</td>\n",
       "      <td>4.631874</td>\n",
       "    </tr>\n",
       "  </tbody>\n",
       "</table>\n",
       "</div>"
      ],
      "text/plain": [
       "      user_id  item_id  rating_pred\n",
       "1468      200      922     4.799596\n",
       "219       200      750     4.754314\n",
       "465       200      745     4.751673\n",
       "687       200      912     4.717364\n",
       "2139      200     1178     4.678136\n",
       "367       200     3435     4.658557\n",
       "215       200      527     4.651540\n",
       "888       200      904     4.641466\n",
       "445       200       50     4.640540\n",
       "229       200      318     4.631874"
      ]
     },
     "execution_count": 10,
     "metadata": {},
     "output_type": "execute_result"
    }
   ],
   "source": [
    "user = 200\n",
    "items_known = train.query('user_id == @user')['item_id']\n",
    "matrix_fact.recommend(user=user, items_known=items_known)"
   ]
  },
  {
   "cell_type": "markdown",
   "metadata": {},
   "source": [
    "## Updating with new users"
   ]
  },
  {
   "cell_type": "code",
   "execution_count": 11,
   "metadata": {
    "tags": []
   },
   "outputs": [
    {
     "name": "stdout",
     "output_type": "stream",
     "text": [
      "Epoch  1 / 20  -  train_rmse: 1.0568610899535198\n",
      "Epoch  2 / 20  -  train_rmse: 0.9781091388392953\n",
      "Epoch  3 / 20  -  train_rmse: 0.9429025413735869\n",
      "Epoch  4 / 20  -  train_rmse: 0.926466677767547\n",
      "Epoch  5 / 20  -  train_rmse: 0.9187575999414697\n",
      "Epoch  6 / 20  -  train_rmse: 0.9150129094612953\n",
      "Epoch  7 / 20  -  train_rmse: 0.9131338912290606\n",
      "Epoch  8 / 20  -  train_rmse: 0.9121715039702479\n",
      "Epoch  9 / 20  -  train_rmse: 0.9116745732404521\n",
      "Epoch  10 / 20  -  train_rmse: 0.911418889611707\n",
      "Epoch  11 / 20  -  train_rmse: 0.911289048442608\n",
      "Epoch  12 / 20  -  train_rmse: 0.9112240375586808\n",
      "Epoch  13 / 20  -  train_rmse: 0.9111910006598881\n",
      "Epoch  14 / 20  -  train_rmse: 0.9111720883027641\n",
      "Epoch  15 / 20  -  train_rmse: 0.9111576447321493\n",
      "Epoch  16 / 20  -  train_rmse: 0.9111425728282068\n",
      "Epoch  17 / 20  -  train_rmse: 0.9111243439852966\n",
      "Epoch  18 / 20  -  train_rmse: 0.9111018837050248\n",
      "Epoch  19 / 20  -  train_rmse: 0.9110749354880822\n",
      "Epoch  20 / 20  -  train_rmse: 0.9110436921486067\n"
     ]
    },
    {
     "data": {
      "text/plain": [
       "MatrixFactorization(gamma=0.01, kernel='rbf', lr=0.5, n_epochs=20, reg=0.005)"
      ]
     },
     "execution_count": 11,
     "metadata": {},
     "output_type": "execute_result"
    }
   ],
   "source": [
    "# matrix_fact = MatrixFactorization(n_epochs = 20, kernel = 'rbf', n_factors = 100, verbose = 1, lr = 0.001, reg = 0.5)\n",
    "matrix_fact = MatrixFactorization(n_epochs = 20, n_factors = 100, verbose = 1, lr = 0.5, reg = 0.005, kernel='rbf')\n",
    "matrix_fact.fit(train_initial)"
   ]
  },
  {
   "cell_type": "code",
   "execution_count": 12,
   "metadata": {
    "tags": []
   },
   "outputs": [
    {
     "name": "stdout",
     "output_type": "stream",
     "text": [
      "Epoch  1 / 20  -  train_rmse: 1.0119572386648612\n",
      "Epoch  2 / 20  -  train_rmse: 0.9654911833226616\n",
      "Epoch  3 / 20  -  train_rmse: 0.9484999592886597\n",
      "Epoch  4 / 20  -  train_rmse: 0.9398415276904925\n",
      "Epoch  5 / 20  -  train_rmse: 0.9347056320743945\n",
      "Epoch  6 / 20  -  train_rmse: 0.9313874481586881\n",
      "Epoch  7 / 20  -  train_rmse: 0.9291214126947662\n",
      "Epoch  8 / 20  -  train_rmse: 0.9275107388390131\n",
      "Epoch  9 / 20  -  train_rmse: 0.9263297441589416\n",
      "Epoch  10 / 20  -  train_rmse: 0.925441414717506\n",
      "Epoch  11 / 20  -  train_rmse: 0.9247584207037933\n",
      "Epoch  12 / 20  -  train_rmse: 0.924222974314968\n",
      "Epoch  13 / 20  -  train_rmse: 0.9237956942759937\n",
      "Epoch  14 / 20  -  train_rmse: 0.9234491018299616\n",
      "Epoch  15 / 20  -  train_rmse: 0.923163645988194\n",
      "Epoch  16 / 20  -  train_rmse: 0.9229251831565568\n",
      "Epoch  17 / 20  -  train_rmse: 0.9227233306625443\n",
      "Epoch  18 / 20  -  train_rmse: 0.9225503649866644\n",
      "Epoch  19 / 20  -  train_rmse: 0.9224004698361524\n",
      "Epoch  20 / 20  -  train_rmse: 0.9222692144472568\n",
      "\n",
      "Test RMSE: 0.9364\n",
      "Wall time: 3.19 s\n"
     ]
    }
   ],
   "source": [
    "%%time\n",
    "\n",
    "# Update model with new users\n",
    "matrix_fact.update_users(train_update, lr=0.5, n_epochs=20, verbose=1)\n",
    "pred = matrix_fact.predict(test_update)\n",
    "rmse = mean_squared_error(test_update['rating'], pred, squared = False)\n",
    "\n",
    "print(f'\\nTest RMSE: {rmse:.4f}')"
   ]
  },
  {
   "cell_type": "markdown",
   "metadata": {},
   "source": [
    "## Sigmoid kernel"
   ]
  },
  {
   "cell_type": "code",
   "execution_count": 13,
   "metadata": {},
   "outputs": [
    {
     "name": "stdout",
     "output_type": "stream",
     "text": [
      "Epoch  1 / 20  -  train_rmse: 1.6534171739501924\n",
      "Epoch  2 / 20  -  train_rmse: 1.5339356687644987\n",
      "Epoch  3 / 20  -  train_rmse: 1.3752401796661198\n",
      "Epoch  4 / 20  -  train_rmse: 1.259981827279546\n",
      "Epoch  5 / 20  -  train_rmse: 1.1824029931387572\n",
      "Epoch  6 / 20  -  train_rmse: 1.125426262537537\n",
      "Epoch  7 / 20  -  train_rmse: 1.0817863732252446\n",
      "Epoch  8 / 20  -  train_rmse: 1.0477191326241873\n",
      "Epoch  9 / 20  -  train_rmse: 1.020687976383859\n",
      "Epoch  10 / 20  -  train_rmse: 0.9988500814222605\n",
      "Epoch  11 / 20  -  train_rmse: 0.9808577080462594\n",
      "Epoch  12 / 20  -  train_rmse: 0.9657270998941859\n",
      "Epoch  13 / 20  -  train_rmse: 0.9527413393270071\n",
      "Epoch  14 / 20  -  train_rmse: 0.9413766531192692\n",
      "Epoch  15 / 20  -  train_rmse: 0.9312469296837175\n",
      "Epoch  16 / 20  -  train_rmse: 0.9220631672265107\n",
      "Epoch  17 / 20  -  train_rmse: 0.9136049542540458\n",
      "Epoch  18 / 20  -  train_rmse: 0.9057012603106378\n",
      "Epoch  19 / 20  -  train_rmse: 0.8982180481120441\n",
      "Epoch  20 / 20  -  train_rmse: 0.8910505137982465\n",
      "\n",
      "Test RMSE: 0.9416\n",
      "Wall time: 10.3 s\n"
     ]
    }
   ],
   "source": [
    "%%time \n",
    "matrix_fact = MatrixFactorization(n_epochs = 20, n_factors = 100, verbose = 1, lr = 0.01, reg = 0.005, kernel='sigmoid')\n",
    "matrix_fact.fit(train)\n",
    "\n",
    "pred = matrix_fact.predict(test)\n",
    "rmse = mean_squared_error(test['rating'], pred, squared = False)\n",
    "\n",
    "print(f'\\nTest RMSE: {rmse:.4f}')"
   ]
  },
  {
   "cell_type": "markdown",
   "metadata": {},
   "source": [
    "## RBF Kernel"
   ]
  },
  {
   "cell_type": "code",
   "execution_count": 14,
   "metadata": {},
   "outputs": [
    {
     "name": "stdout",
     "output_type": "stream",
     "text": [
      "Epoch  1 / 20  -  train_rmse: 1.0649949743072618\n",
      "Epoch  2 / 20  -  train_rmse: 0.9855529577287307\n",
      "Epoch  3 / 20  -  train_rmse: 0.9486559856493921\n",
      "Epoch  4 / 20  -  train_rmse: 0.9294799458611337\n",
      "Epoch  5 / 20  -  train_rmse: 0.9197192571756231\n",
      "Epoch  6 / 20  -  train_rmse: 0.9146795522785521\n",
      "Epoch  7 / 20  -  train_rmse: 0.9120177912276821\n",
      "Epoch  8 / 20  -  train_rmse: 0.9105960686919143\n",
      "Epoch  9 / 20  -  train_rmse: 0.9098426971136084\n",
      "Epoch  10 / 20  -  train_rmse: 0.9094579620113128\n",
      "Epoch  11 / 20  -  train_rmse: 0.9092788657997173\n",
      "Epoch  12 / 20  -  train_rmse: 0.9092141470872686\n",
      "Epoch  13 / 20  -  train_rmse: 0.9092115984347159\n",
      "Epoch  14 / 20  -  train_rmse: 0.9092409432466452\n",
      "Epoch  15 / 20  -  train_rmse: 0.9092845351018265\n",
      "Epoch  16 / 20  -  train_rmse: 0.9093321455718028\n",
      "Epoch  17 / 20  -  train_rmse: 0.9093779654274577\n",
      "Epoch  18 / 20  -  train_rmse: 0.9094188416885474\n",
      "Epoch  19 / 20  -  train_rmse: 0.9094532230504574\n",
      "Epoch  20 / 20  -  train_rmse: 0.9094805203330077\n",
      "\n",
      "Test RMSE: 0.9278\n",
      "Wall time: 18.8 s\n"
     ]
    }
   ],
   "source": [
    "%%time \n",
    "matrix_fact = MatrixFactorization(n_epochs = 20, n_factors = 100, verbose = 1, lr = 0.5, reg = 0.005, kernel='rbf')\n",
    "matrix_fact.fit(train)\n",
    "\n",
    "pred = matrix_fact.predict(test)\n",
    "rmse = mean_squared_error(test['rating'], pred, squared = False)\n",
    "\n",
    "print(f'\\nTest RMSE: {rmse:.4f}')"
   ]
  },
  {
   "cell_type": "markdown",
   "metadata": {},
   "source": [
    "# Surprise"
   ]
  },
  {
   "cell_type": "code",
   "execution_count": null,
   "metadata": {},
   "outputs": [],
   "source": [
    "# Load the movielens-100k dataset (download it if needed),\n",
    "data = sp.Dataset.load_builtin('ml-100k')"
   ]
  },
  {
   "cell_type": "code",
   "execution_count": 22,
   "metadata": {
    "tags": []
   },
   "outputs": [
    {
     "name": "stdout",
     "output_type": "stream",
     "text": [
      "Evaluating RMSE, MAE of algorithm SVD on 5 split(s).\n",
      "\n",
      "                  Fold 1  Fold 2  Fold 3  Fold 4  Fold 5  Mean    Std     \n",
      "RMSE (testset)    0.9333  0.9435  0.9348  0.9342  0.9390  0.9370  0.0038  \n",
      "MAE (testset)     0.7394  0.7446  0.7382  0.7324  0.7399  0.7389  0.0039  \n",
      "Fit time          4.88    4.94    4.82    4.79    4.65    4.82    0.10    \n",
      "Test time         0.13    0.14    0.13    0.21    0.13    0.15    0.03    \n",
      "Wall time: 25.6 s\n"
     ]
    },
    {
     "data": {
      "text/plain": [
       "{'test_rmse': array([0.93326446, 0.94347125, 0.93482663, 0.93419445, 0.93902724]),\n",
       " 'test_mae': array([0.73941536, 0.74455453, 0.73824316, 0.73239435, 0.73991508]),\n",
       " 'fit_time': (4.881997585296631,\n",
       "  4.935999631881714,\n",
       "  4.823998212814331,\n",
       "  4.791991949081421,\n",
       "  4.647997856140137),\n",
       " 'test_time': (0.12800049781799316,\n",
       "  0.136000394821167,\n",
       "  0.13100290298461914,\n",
       "  0.2109992504119873,\n",
       "  0.12800121307373047)}"
      ]
     },
     "execution_count": 22,
     "metadata": {},
     "output_type": "execute_result"
    }
   ],
   "source": [
    "%%time\n",
    "# We'll use the famous SVD algorithm.\n",
    "algo = sp.SVD()\n",
    "\n",
    "# Run 5-fold cross-validation and print results\n",
    "sp.model_selection.cross_validate(algo, data, measures=['RMSE', 'MAE'], cv=5, verbose=True)"
   ]
  },
  {
   "cell_type": "code",
   "execution_count": 24,
   "metadata": {},
   "outputs": [
    {
     "name": "stdout",
     "output_type": "stream",
     "text": [
      "RMSE: 0.9161\n",
      "Wall time: 35.9 s\n"
     ]
    },
    {
     "data": {
      "text/plain": [
       "0.916061209544704"
      ]
     },
     "execution_count": 24,
     "metadata": {},
     "output_type": "execute_result"
    }
   ],
   "source": [
    "%%time\n",
    "\n",
    "surprise_svd = sp.SVD(lr_all=0.001, reg_all=0.005, n_epochs=20, n_factors=50)\n",
    "# surprise_svd = sp.BaselineOnly()\n",
    "\n",
    "reader = sp.Reader()\n",
    "\n",
    "data_train = sp.Dataset.load_from_df(train[['user_id', 'item_id', 'rating']], reader = reader).build_full_trainset()\n",
    "data_test = sp.Dataset.load_from_df(test[['user_id', 'item_id', 'rating']], reader = reader).build_full_trainset().build_testset()\n",
    "surprise_svd.fit(data_train)\n",
    "\n",
    "pred = surprise_svd.test(data_test)\n",
    "sp.accuracy.rmse(pred)"
   ]
  }
 ],
 "metadata": {
  "kernelspec": {
   "display_name": "Python [conda env:recommend]",
   "language": "python",
   "name": "conda-env-recommend-py"
  },
  "language_info": {
   "codemirror_mode": {
    "name": "ipython",
    "version": 3
   },
   "file_extension": ".py",
   "mimetype": "text/x-python",
   "name": "python",
   "nbconvert_exporter": "python",
   "pygments_lexer": "ipython3",
   "version": "3.7.7"
  },
  "toc-autonumbering": true,
  "toc-showcode": false,
  "toc-showmarkdowntxt": false,
  "toc-showtags": false
 },
 "nbformat": 4,
 "nbformat_minor": 4
}
