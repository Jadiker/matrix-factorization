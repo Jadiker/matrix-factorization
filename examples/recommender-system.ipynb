{
 "cells": [
  {
   "cell_type": "code",
   "execution_count": 1,
   "metadata": {
    "tags": []
   },
   "outputs": [],
   "source": [
    "# Data manipulation\n",
    "import numpy as np\n",
    "import pandas as pd\n",
    "pd.options.display.max_rows = 100\n",
    "\n",
    "# Modeling\n",
    "# from matrix_factorization import BaselineModel, KernelMF, train_update_test_split\n",
    "from sklearn.metrics import mean_squared_error\n",
    "from sklearn.model_selection import train_test_split\n",
    "\n",
    "# Other\n",
    "import os\n",
    "import random\n",
    "import sys\n",
    "\n",
    "# Reload imported code \n",
    "%load_ext autoreload\n",
    "%autoreload 2\n",
    "\n",
    "# Print all output\n",
    "from IPython.core.interactiveshell import InteractiveShell\n",
    "InteractiveShell.ast_node_interactivity = \"all\"\n",
    "\n",
    "# Custom modules\n",
    "module_path = os.path.abspath(os.path.join('..'))\n",
    "if module_path not in sys.path:\n",
    "    sys.path.append(module_path)\n",
    "\n",
    "from matrix_factorization import *\n",
    "    \n",
    "rand_seed = 2\n",
    "np.random.seed(rand_seed)\n",
    "random.seed(rand_seed)"
   ]
  },
  {
   "cell_type": "markdown",
   "metadata": {},
   "source": [
    "# Load data"
   ]
  },
  {
   "cell_type": "markdown",
   "metadata": {},
   "source": [
    "**Movie data found here https://grouplens.org/datasets/movielens/**"
   ]
  },
  {
   "cell_type": "code",
   "execution_count": 2,
   "metadata": {},
   "outputs": [
    {
     "data": {
      "text/html": [
       "<div>\n",
       "<style scoped>\n",
       "    .dataframe tbody tr th:only-of-type {\n",
       "        vertical-align: middle;\n",
       "    }\n",
       "\n",
       "    .dataframe tbody tr th {\n",
       "        vertical-align: top;\n",
       "    }\n",
       "\n",
       "    .dataframe thead th {\n",
       "        text-align: right;\n",
       "    }\n",
       "</style>\n",
       "<table border=\"1\" class=\"dataframe\">\n",
       "  <thead>\n",
       "    <tr style=\"text-align: right;\">\n",
       "      <th></th>\n",
       "      <th>user_id</th>\n",
       "      <th>item_id</th>\n",
       "      <th>rating</th>\n",
       "    </tr>\n",
       "  </thead>\n",
       "  <tbody>\n",
       "    <tr>\n",
       "      <th>0</th>\n",
       "      <td>196</td>\n",
       "      <td>242</td>\n",
       "      <td>3</td>\n",
       "    </tr>\n",
       "    <tr>\n",
       "      <th>1</th>\n",
       "      <td>186</td>\n",
       "      <td>302</td>\n",
       "      <td>3</td>\n",
       "    </tr>\n",
       "    <tr>\n",
       "      <th>2</th>\n",
       "      <td>22</td>\n",
       "      <td>377</td>\n",
       "      <td>1</td>\n",
       "    </tr>\n",
       "    <tr>\n",
       "      <th>3</th>\n",
       "      <td>244</td>\n",
       "      <td>51</td>\n",
       "      <td>2</td>\n",
       "    </tr>\n",
       "    <tr>\n",
       "      <th>4</th>\n",
       "      <td>166</td>\n",
       "      <td>346</td>\n",
       "      <td>1</td>\n",
       "    </tr>\n",
       "    <tr>\n",
       "      <th>5</th>\n",
       "      <td>298</td>\n",
       "      <td>474</td>\n",
       "      <td>4</td>\n",
       "    </tr>\n",
       "    <tr>\n",
       "      <th>6</th>\n",
       "      <td>115</td>\n",
       "      <td>265</td>\n",
       "      <td>2</td>\n",
       "    </tr>\n",
       "    <tr>\n",
       "      <th>7</th>\n",
       "      <td>253</td>\n",
       "      <td>465</td>\n",
       "      <td>5</td>\n",
       "    </tr>\n",
       "    <tr>\n",
       "      <th>8</th>\n",
       "      <td>305</td>\n",
       "      <td>451</td>\n",
       "      <td>3</td>\n",
       "    </tr>\n",
       "    <tr>\n",
       "      <th>9</th>\n",
       "      <td>6</td>\n",
       "      <td>86</td>\n",
       "      <td>3</td>\n",
       "    </tr>\n",
       "  </tbody>\n",
       "</table>\n",
       "</div>"
      ],
      "text/plain": [
       "   user_id  item_id  rating\n",
       "0      196      242       3\n",
       "1      186      302       3\n",
       "2       22      377       1\n",
       "3      244       51       2\n",
       "4      166      346       1\n",
       "5      298      474       4\n",
       "6      115      265       2\n",
       "7      253      465       5\n",
       "8      305      451       3\n",
       "9        6       86       3"
      ]
     },
     "execution_count": 2,
     "metadata": {},
     "output_type": "execute_result"
    }
   ],
   "source": [
    "cols = ['user_id', 'item_id', 'rating', 'timestamp']\n",
    "# movie_data = pd.read_csv('../data/ml-1m/ratings.dat', names = cols, sep = '::', usecols=[0, 1, 2], engine='python')\n",
    "movie_data = pd.read_csv('../data/ml-100k/u.data', names = cols, sep = '\\t', usecols=[0, 1, 2], engine='python')\n",
    "\n",
    "X = movie_data[['user_id', 'item_id']]\n",
    "y = movie_data['rating']\n",
    "\n",
    "# Prepare data\n",
    "X_train, X_test, y_train, y_test = train_test_split(X, y, test_size=0.2)\n",
    "\n",
    "# Prepare data for online learning\n",
    "X_train_initial, y_train_initial, X_train_update, y_train_update, X_test_update, y_test_update = train_update_test_split(movie_data, frac_new_users=0.2)\n",
    "\n",
    "movie_data.head(10)"
   ]
  },
  {
   "cell_type": "markdown",
   "metadata": {},
   "source": [
    "# Simple model with global mean"
   ]
  },
  {
   "cell_type": "markdown",
   "metadata": {},
   "source": [
    "This is similar to just the global standard deviation"
   ]
  },
  {
   "cell_type": "code",
   "execution_count": 3,
   "metadata": {
    "tags": []
   },
   "outputs": [
    {
     "name": "stdout",
     "output_type": "stream",
     "text": [
      "\n",
      "Test RMSE: 1.120652\n"
     ]
    }
   ],
   "source": [
    "global_mean = y_train.mean()\n",
    "pred = [global_mean for _ in range(y_test.shape[0])]\n",
    "\n",
    "rmse = mean_squared_error(y_test, pred, squared = False)\n",
    "\n",
    "print(f'\\nTest RMSE: {rmse:4f}')"
   ]
  },
  {
   "cell_type": "markdown",
   "metadata": {},
   "source": [
    "# Baseline Model with biases"
   ]
  },
  {
   "cell_type": "markdown",
   "metadata": {},
   "source": [
    "## SGD"
   ]
  },
  {
   "cell_type": "code",
   "execution_count": 4,
   "metadata": {},
   "outputs": [
    {
     "name": "stdout",
     "output_type": "stream",
     "text": [
      "Epoch  1 / 20  -  train_rmse: 0.9686047785822739\n",
      "Epoch  2 / 20  -  train_rmse: 0.9453664505621137\n",
      "Epoch  3 / 20  -  train_rmse: 0.9351136783733202\n",
      "Epoch  4 / 20  -  train_rmse: 0.9294704369882787\n",
      "Epoch  5 / 20  -  train_rmse: 0.9259923829341642\n",
      "Epoch  6 / 20  -  train_rmse: 0.9234802301835858\n",
      "Epoch  7 / 20  -  train_rmse: 0.9218322975240733\n",
      "Epoch  8 / 20  -  train_rmse: 0.9204146484742777\n",
      "Epoch  9 / 20  -  train_rmse: 0.9195402387388252\n",
      "Epoch  10 / 20  -  train_rmse: 0.9189683375712325\n",
      "Epoch  11 / 20  -  train_rmse: 0.9183769991614104\n",
      "Epoch  12 / 20  -  train_rmse: 0.9179874974998621\n",
      "Epoch  13 / 20  -  train_rmse: 0.9176097352462143\n",
      "Epoch  14 / 20  -  train_rmse: 0.9171260723903609\n",
      "Epoch  15 / 20  -  train_rmse: 0.9168209946156023\n",
      "Epoch  16 / 20  -  train_rmse: 0.9166864353013994\n",
      "Epoch  17 / 20  -  train_rmse: 0.9165443126952022\n",
      "Epoch  18 / 20  -  train_rmse: 0.9164152668839165\n",
      "Epoch  19 / 20  -  train_rmse: 0.9161617476994287\n",
      "Epoch  20 / 20  -  train_rmse: 0.9160456121895796\n",
      "\n",
      "Test RMSE: 0.9299\n",
      "Wall time: 3.06 s\n"
     ]
    }
   ],
   "source": [
    "%%time\n",
    "\n",
    "baseline_model = BaselineModel(method='sgd', n_epochs = 20, reg = 0.005, lr = 0.01, verbose=1)\n",
    "baseline_model.fit(X_train, y_train)\n",
    "\n",
    "pred = baseline_model.predict(X_test)\n",
    "rmse = mean_squared_error(y_test, pred, squared = False)\n",
    "\n",
    "print(f'\\nTest RMSE: {rmse:.4f}')"
   ]
  },
  {
   "cell_type": "code",
   "execution_count": 5,
   "metadata": {},
   "outputs": [
    {
     "data": {
      "text/html": [
       "<div>\n",
       "<style scoped>\n",
       "    .dataframe tbody tr th:only-of-type {\n",
       "        vertical-align: middle;\n",
       "    }\n",
       "\n",
       "    .dataframe tbody tr th {\n",
       "        vertical-align: top;\n",
       "    }\n",
       "\n",
       "    .dataframe thead th {\n",
       "        text-align: right;\n",
       "    }\n",
       "</style>\n",
       "<table border=\"1\" class=\"dataframe\">\n",
       "  <thead>\n",
       "    <tr style=\"text-align: right;\">\n",
       "      <th></th>\n",
       "      <th>user_id</th>\n",
       "      <th>item_id</th>\n",
       "      <th>rating_pred</th>\n",
       "    </tr>\n",
       "  </thead>\n",
       "  <tbody>\n",
       "    <tr>\n",
       "      <th>378</th>\n",
       "      <td>200</td>\n",
       "      <td>318</td>\n",
       "      <td>5.0</td>\n",
       "    </tr>\n",
       "    <tr>\n",
       "      <th>424</th>\n",
       "      <td>200</td>\n",
       "      <td>479</td>\n",
       "      <td>5.0</td>\n",
       "    </tr>\n",
       "    <tr>\n",
       "      <th>790</th>\n",
       "      <td>200</td>\n",
       "      <td>114</td>\n",
       "      <td>5.0</td>\n",
       "    </tr>\n",
       "    <tr>\n",
       "      <th>527</th>\n",
       "      <td>200</td>\n",
       "      <td>484</td>\n",
       "      <td>5.0</td>\n",
       "    </tr>\n",
       "    <tr>\n",
       "      <th>844</th>\n",
       "      <td>200</td>\n",
       "      <td>963</td>\n",
       "      <td>5.0</td>\n",
       "    </tr>\n",
       "    <tr>\n",
       "      <th>133</th>\n",
       "      <td>200</td>\n",
       "      <td>657</td>\n",
       "      <td>5.0</td>\n",
       "    </tr>\n",
       "    <tr>\n",
       "      <th>457</th>\n",
       "      <td>200</td>\n",
       "      <td>357</td>\n",
       "      <td>5.0</td>\n",
       "    </tr>\n",
       "    <tr>\n",
       "      <th>281</th>\n",
       "      <td>200</td>\n",
       "      <td>483</td>\n",
       "      <td>5.0</td>\n",
       "    </tr>\n",
       "    <tr>\n",
       "      <th>726</th>\n",
       "      <td>200</td>\n",
       "      <td>513</td>\n",
       "      <td>5.0</td>\n",
       "    </tr>\n",
       "    <tr>\n",
       "      <th>539</th>\n",
       "      <td>200</td>\n",
       "      <td>923</td>\n",
       "      <td>5.0</td>\n",
       "    </tr>\n",
       "  </tbody>\n",
       "</table>\n",
       "</div>"
      ],
      "text/plain": [
       "     user_id  item_id  rating_pred\n",
       "378      200      318          5.0\n",
       "424      200      479          5.0\n",
       "790      200      114          5.0\n",
       "527      200      484          5.0\n",
       "844      200      963          5.0\n",
       "133      200      657          5.0\n",
       "457      200      357          5.0\n",
       "281      200      483          5.0\n",
       "726      200      513          5.0\n",
       "539      200      923          5.0"
      ]
     },
     "execution_count": 5,
     "metadata": {},
     "output_type": "execute_result"
    }
   ],
   "source": [
    "baseline_model.recommend(user=200)"
   ]
  },
  {
   "cell_type": "markdown",
   "metadata": {},
   "source": [
    "## ALS"
   ]
  },
  {
   "cell_type": "code",
   "execution_count": 6,
   "metadata": {},
   "outputs": [
    {
     "name": "stdout",
     "output_type": "stream",
     "text": [
      "Epoch  1 / 20  -  train_rmse: 0.9312489364350157\n",
      "Epoch  2 / 20  -  train_rmse: 0.9144875214764501\n",
      "Epoch  3 / 20  -  train_rmse: 0.9134856911195807\n",
      "Epoch  4 / 20  -  train_rmse: 0.9133800448918423\n",
      "Epoch  5 / 20  -  train_rmse: 0.9133615794862777\n",
      "Epoch  6 / 20  -  train_rmse: 0.9133565857003941\n",
      "Epoch  7 / 20  -  train_rmse: 0.9133544601244424\n",
      "Epoch  8 / 20  -  train_rmse: 0.9133531004630441\n",
      "Epoch  9 / 20  -  train_rmse: 0.9133519902067218\n",
      "Epoch  10 / 20  -  train_rmse: 0.9133509792033206\n",
      "Epoch  11 / 20  -  train_rmse: 0.9133500175542733\n",
      "Epoch  12 / 20  -  train_rmse: 0.9133490869495551\n",
      "Epoch  13 / 20  -  train_rmse: 0.9133481801287349\n",
      "Epoch  14 / 20  -  train_rmse: 0.9133472939684136\n",
      "Epoch  15 / 20  -  train_rmse: 0.9133464269599311\n",
      "Epoch  16 / 20  -  train_rmse: 0.9133455782426871\n",
      "Epoch  17 / 20  -  train_rmse: 0.9133447472230197\n",
      "Epoch  18 / 20  -  train_rmse: 0.9133439334215674\n",
      "Epoch  19 / 20  -  train_rmse: 0.9133431364114416\n",
      "Epoch  20 / 20  -  train_rmse: 0.9133423557930989\n",
      "\n",
      "Test RMSE: 0.9294\n",
      "Wall time: 1.01 s\n"
     ]
    }
   ],
   "source": [
    "%%time\n",
    "\n",
    "baseline_model = BaselineModel(method='als', n_epochs = 20, reg = 0.5, verbose=1)\n",
    "baseline_model.fit(X_train, y_train)\n",
    "\n",
    "pred = baseline_model.predict(X_test)\n",
    "rmse = mean_squared_error(y_test, pred, squared = False)\n",
    "\n",
    "print(f'\\nTest RMSE: {rmse:.4f}')"
   ]
  },
  {
   "cell_type": "markdown",
   "metadata": {},
   "source": [
    "## Updating with new users"
   ]
  },
  {
   "cell_type": "code",
   "execution_count": 7,
   "metadata": {
    "tags": []
   },
   "outputs": [
    {
     "name": "stdout",
     "output_type": "stream",
     "text": [
      "Epoch  1 / 20  -  train_rmse: 0.9648469718465079\n",
      "Epoch  2 / 20  -  train_rmse: 0.9428549007268147\n",
      "Epoch  3 / 20  -  train_rmse: 0.933359815507563\n",
      "Epoch  4 / 20  -  train_rmse: 0.9282869121659242\n",
      "Epoch  5 / 20  -  train_rmse: 0.9246452147883015\n",
      "Epoch  6 / 20  -  train_rmse: 0.9224963221592593\n",
      "Epoch  7 / 20  -  train_rmse: 0.9210873751265738\n",
      "Epoch  8 / 20  -  train_rmse: 0.9198148526842017\n",
      "Epoch  9 / 20  -  train_rmse: 0.9190979962795893\n",
      "Epoch  10 / 20  -  train_rmse: 0.9181924929724009\n",
      "Epoch  11 / 20  -  train_rmse: 0.9175746422478163\n",
      "Epoch  12 / 20  -  train_rmse: 0.9172790736796215\n",
      "Epoch  13 / 20  -  train_rmse: 0.916719188200985\n",
      "Epoch  14 / 20  -  train_rmse: 0.9164995522990769\n",
      "Epoch  15 / 20  -  train_rmse: 0.9162652209705183\n",
      "Epoch  16 / 20  -  train_rmse: 0.9161349468164517\n",
      "Epoch  17 / 20  -  train_rmse: 0.9158049890489385\n",
      "Epoch  18 / 20  -  train_rmse: 0.9156282513797119\n",
      "Epoch  19 / 20  -  train_rmse: 0.9157443869486565\n",
      "Epoch  20 / 20  -  train_rmse: 0.915292343522453\n"
     ]
    },
    {
     "data": {
      "text/plain": [
       "BaselineModel(n_epochs=20, reg=0.05)"
      ]
     },
     "execution_count": 7,
     "metadata": {},
     "output_type": "execute_result"
    }
   ],
   "source": [
    "baseline_model = BaselineModel(method='sgd', n_epochs = 20, lr=0.01, reg = 0.05, verbose=1)\n",
    "baseline_model.fit(X_train_initial, y_train_initial)"
   ]
  },
  {
   "cell_type": "code",
   "execution_count": 8,
   "metadata": {
    "tags": []
   },
   "outputs": [
    {
     "name": "stdout",
     "output_type": "stream",
     "text": [
      "Epoch  1 / 20  -  train_rmse: 1.019344266663901\n",
      "Epoch  2 / 20  -  train_rmse: 1.0026434848559835\n",
      "Epoch  3 / 20  -  train_rmse: 0.9901902375419621\n",
      "Epoch  4 / 20  -  train_rmse: 0.9807399554407025\n",
      "Epoch  5 / 20  -  train_rmse: 0.9734393366405978\n",
      "Epoch  6 / 20  -  train_rmse: 0.9677053535168566\n",
      "Epoch  7 / 20  -  train_rmse: 0.9631010740660371\n",
      "Epoch  8 / 20  -  train_rmse: 0.9593464832305924\n",
      "Epoch  9 / 20  -  train_rmse: 0.956228132278306\n",
      "Epoch  10 / 20  -  train_rmse: 0.953597496156807\n",
      "Epoch  11 / 20  -  train_rmse: 0.9513585953281702\n",
      "Epoch  12 / 20  -  train_rmse: 0.9494132780961599\n",
      "Epoch  13 / 20  -  train_rmse: 0.9477215344137045\n",
      "Epoch  14 / 20  -  train_rmse: 0.9462276496158921\n",
      "Epoch  15 / 20  -  train_rmse: 0.9449016954637041\n",
      "Epoch  16 / 20  -  train_rmse: 0.943701383621735\n",
      "Epoch  17 / 20  -  train_rmse: 0.9426320119229815\n",
      "Epoch  18 / 20  -  train_rmse: 0.94165973765909\n",
      "Epoch  19 / 20  -  train_rmse: 0.9407697547984482\n",
      "Epoch  20 / 20  -  train_rmse: 0.9399611302791129\n",
      "\n",
      "Test RMSE: 0.9486\n",
      "Wall time: 820 ms\n"
     ]
    }
   ],
   "source": [
    "%%time\n",
    "baseline_model.update_users(X_train_update, y_train_update, n_epochs=20, lr=0.001, verbose=1)\n",
    "pred = baseline_model.predict(X_test_update)\n",
    "rmse = mean_squared_error(y_test_update, pred, squared = False)\n",
    "\n",
    "print(f'\\nTest RMSE: {rmse:.4f}')"
   ]
  },
  {
   "cell_type": "markdown",
   "metadata": {},
   "source": [
    "# Matrix Factorization"
   ]
  },
  {
   "cell_type": "markdown",
   "metadata": {},
   "source": [
    "## Linear Kernel"
   ]
  },
  {
   "cell_type": "code",
   "execution_count": 9,
   "metadata": {},
   "outputs": [
    {
     "name": "stdout",
     "output_type": "stream",
     "text": [
      "Epoch  1 / 20  -  train_rmse: 1.0801575298322\n",
      "Epoch  2 / 20  -  train_rmse: 1.0473535756055057\n",
      "Epoch  3 / 20  -  train_rmse: 1.0244942690795111\n",
      "Epoch  4 / 20  -  train_rmse: 1.0075007581238407\n",
      "Epoch  5 / 20  -  train_rmse: 0.9942400187850499\n",
      "Epoch  6 / 20  -  train_rmse: 0.9834983608869214\n",
      "Epoch  7 / 20  -  train_rmse: 0.9745173746067622\n",
      "Epoch  8 / 20  -  train_rmse: 0.966813617253945\n",
      "Epoch  9 / 20  -  train_rmse: 0.9600678085418083\n",
      "Epoch  10 / 20  -  train_rmse: 0.9540556957314716\n",
      "Epoch  11 / 20  -  train_rmse: 0.9486146196037182\n",
      "Epoch  12 / 20  -  train_rmse: 0.9436378636687951\n",
      "Epoch  13 / 20  -  train_rmse: 0.9390297626064091\n",
      "Epoch  14 / 20  -  train_rmse: 0.9347241390534637\n",
      "Epoch  15 / 20  -  train_rmse: 0.9306742385879399\n",
      "Epoch  16 / 20  -  train_rmse: 0.9268325064246742\n",
      "Epoch  17 / 20  -  train_rmse: 0.9231708515555644\n",
      "Epoch  18 / 20  -  train_rmse: 0.9196592127479206\n",
      "Epoch  19 / 20  -  train_rmse: 0.9162757110307747\n",
      "Epoch  20 / 20  -  train_rmse: 0.9130011417801452\n",
      "\n",
      "Test RMSE: 0.9534\n",
      "Wall time: 8.42 s\n"
     ]
    }
   ],
   "source": [
    "%%time \n",
    "matrix_fact = KernelMF(n_epochs = 20, n_factors = 100, verbose = 1, lr = 0.001, reg = 0.005)\n",
    "matrix_fact.fit(X_train, y_train)\n",
    "\n",
    "pred = matrix_fact.predict(X_test)\n",
    "rmse = mean_squared_error(y_test, pred, squared = False)\n",
    "\n",
    "print(f'\\nTest RMSE: {rmse:.4f}')"
   ]
  },
  {
   "cell_type": "markdown",
   "metadata": {},
   "source": [
    "## Getting list of recommendations for a user"
   ]
  },
  {
   "cell_type": "code",
   "execution_count": 10,
   "metadata": {},
   "outputs": [
    {
     "data": {
      "text/html": [
       "<div>\n",
       "<style scoped>\n",
       "    .dataframe tbody tr th:only-of-type {\n",
       "        vertical-align: middle;\n",
       "    }\n",
       "\n",
       "    .dataframe tbody tr th {\n",
       "        vertical-align: top;\n",
       "    }\n",
       "\n",
       "    .dataframe thead th {\n",
       "        text-align: right;\n",
       "    }\n",
       "</style>\n",
       "<table border=\"1\" class=\"dataframe\">\n",
       "  <thead>\n",
       "    <tr style=\"text-align: right;\">\n",
       "      <th></th>\n",
       "      <th>user_id</th>\n",
       "      <th>item_id</th>\n",
       "      <th>rating_pred</th>\n",
       "    </tr>\n",
       "  </thead>\n",
       "  <tbody>\n",
       "    <tr>\n",
       "      <th>37</th>\n",
       "      <td>200</td>\n",
       "      <td>64</td>\n",
       "      <td>5.000000</td>\n",
       "    </tr>\n",
       "    <tr>\n",
       "      <th>242</th>\n",
       "      <td>200</td>\n",
       "      <td>357</td>\n",
       "      <td>4.956367</td>\n",
       "    </tr>\n",
       "    <tr>\n",
       "      <th>11</th>\n",
       "      <td>200</td>\n",
       "      <td>127</td>\n",
       "      <td>4.913384</td>\n",
       "    </tr>\n",
       "    <tr>\n",
       "      <th>61</th>\n",
       "      <td>200</td>\n",
       "      <td>272</td>\n",
       "      <td>4.903690</td>\n",
       "    </tr>\n",
       "    <tr>\n",
       "      <th>395</th>\n",
       "      <td>200</td>\n",
       "      <td>480</td>\n",
       "      <td>4.838028</td>\n",
       "    </tr>\n",
       "    <tr>\n",
       "      <th>710</th>\n",
       "      <td>200</td>\n",
       "      <td>479</td>\n",
       "      <td>4.837520</td>\n",
       "    </tr>\n",
       "    <tr>\n",
       "      <th>275</th>\n",
       "      <td>200</td>\n",
       "      <td>12</td>\n",
       "      <td>4.819722</td>\n",
       "    </tr>\n",
       "    <tr>\n",
       "      <th>655</th>\n",
       "      <td>200</td>\n",
       "      <td>427</td>\n",
       "      <td>4.810242</td>\n",
       "    </tr>\n",
       "    <tr>\n",
       "      <th>55</th>\n",
       "      <td>200</td>\n",
       "      <td>511</td>\n",
       "      <td>4.805875</td>\n",
       "    </tr>\n",
       "    <tr>\n",
       "      <th>17</th>\n",
       "      <td>200</td>\n",
       "      <td>100</td>\n",
       "      <td>4.803776</td>\n",
       "    </tr>\n",
       "  </tbody>\n",
       "</table>\n",
       "</div>"
      ],
      "text/plain": [
       "     user_id  item_id  rating_pred\n",
       "37       200       64     5.000000\n",
       "242      200      357     4.956367\n",
       "11       200      127     4.913384\n",
       "61       200      272     4.903690\n",
       "395      200      480     4.838028\n",
       "710      200      479     4.837520\n",
       "275      200       12     4.819722\n",
       "655      200      427     4.810242\n",
       "55       200      511     4.805875\n",
       "17       200      100     4.803776"
      ]
     },
     "execution_count": 10,
     "metadata": {},
     "output_type": "execute_result"
    }
   ],
   "source": [
    "user = 200\n",
    "items_known = X_train.query('user_id == @user')['item_id']\n",
    "matrix_fact.recommend(user=user, items_known=items_known)"
   ]
  },
  {
   "cell_type": "markdown",
   "metadata": {},
   "source": [
    "## Updating with new users"
   ]
  },
  {
   "cell_type": "code",
   "execution_count": 11,
   "metadata": {},
   "outputs": [
    {
     "name": "stdout",
     "output_type": "stream",
     "text": [
      "Epoch  1 / 20  -  train_rmse: 1.0705332940129852\n",
      "Epoch  2 / 20  -  train_rmse: 1.0382345850581252\n",
      "Epoch  3 / 20  -  train_rmse: 1.0162136164394588\n",
      "Epoch  4 / 20  -  train_rmse: 0.9999132435689974\n",
      "Epoch  5 / 20  -  train_rmse: 0.9872219881342071\n",
      "Epoch  6 / 20  -  train_rmse: 0.9769264669882989\n",
      "Epoch  7 / 20  -  train_rmse: 0.9683055466691725\n",
      "Epoch  8 / 20  -  train_rmse: 0.9608919823567673\n",
      "Epoch  9 / 20  -  train_rmse: 0.9543918764078243\n",
      "Epoch  10 / 20  -  train_rmse: 0.9485794121612329\n",
      "Epoch  11 / 20  -  train_rmse: 0.943304877324259\n",
      "Epoch  12 / 20  -  train_rmse: 0.9384605161062898\n",
      "Epoch  13 / 20  -  train_rmse: 0.9339626352883069\n",
      "Epoch  14 / 20  -  train_rmse: 0.9297497730296204\n",
      "Epoch  15 / 20  -  train_rmse: 0.9257708120894028\n",
      "Epoch  16 / 20  -  train_rmse: 0.9219861472875341\n",
      "Epoch  17 / 20  -  train_rmse: 0.9183660245607463\n",
      "Epoch  18 / 20  -  train_rmse: 0.9148836025568047\n",
      "Epoch  19 / 20  -  train_rmse: 0.9115182633538961\n",
      "Epoch  20 / 20  -  train_rmse: 0.908251104737101\n"
     ]
    },
    {
     "data": {
      "text/plain": [
       "KernelMF(gamma=0.01, lr=0.001, n_epochs=20, reg=0.005)"
      ]
     },
     "execution_count": 11,
     "metadata": {},
     "output_type": "execute_result"
    }
   ],
   "source": [
    "matrix_fact = KernelMF(n_epochs = 20, n_factors = 100, verbose = 1, lr = 0.001, reg = 0.005)\n",
    "matrix_fact.fit(X_train_initial, y_train_initial)"
   ]
  },
  {
   "cell_type": "code",
   "execution_count": 12,
   "metadata": {},
   "outputs": [
    {
     "name": "stdout",
     "output_type": "stream",
     "text": [
      "Epoch  1 / 20  -  train_rmse: 1.0398070512329172\n",
      "Epoch  2 / 20  -  train_rmse: 1.0205023242966256\n",
      "Epoch  3 / 20  -  train_rmse: 1.0058673036631753\n",
      "Epoch  4 / 20  -  train_rmse: 0.994569994505876\n",
      "Epoch  5 / 20  -  train_rmse: 0.9856862982326481\n",
      "Epoch  6 / 20  -  train_rmse: 0.9785819446494046\n",
      "Epoch  7 / 20  -  train_rmse: 0.9727304709667893\n",
      "Epoch  8 / 20  -  train_rmse: 0.9678411090379412\n",
      "Epoch  9 / 20  -  train_rmse: 0.9636493359569871\n",
      "Epoch  10 / 20  -  train_rmse: 0.9600064702858608\n",
      "Epoch  11 / 20  -  train_rmse: 0.9567916911608662\n",
      "Epoch  12 / 20  -  train_rmse: 0.9539041661646682\n",
      "Epoch  13 / 20  -  train_rmse: 0.9512798086695983\n",
      "Epoch  14 / 20  -  train_rmse: 0.948865081665178\n",
      "Epoch  15 / 20  -  train_rmse: 0.9466174922145003\n",
      "Epoch  16 / 20  -  train_rmse: 0.9445214789672587\n",
      "Epoch  17 / 20  -  train_rmse: 0.9425512951558327\n",
      "Epoch  18 / 20  -  train_rmse: 0.9406809794251239\n",
      "Epoch  19 / 20  -  train_rmse: 0.9388985732382609\n",
      "Epoch  20 / 20  -  train_rmse: 0.9371936241883402\n",
      "\n",
      "Test RMSE: 0.9677\n",
      "Wall time: 1.67 s\n"
     ]
    }
   ],
   "source": [
    "%%time\n",
    "# Update model with new users\n",
    "matrix_fact.update_users(X_train_update, y_train_update, lr=0.001, n_epochs=20, verbose=1)\n",
    "pred = matrix_fact.predict(X_test_update)\n",
    "rmse = mean_squared_error(y_test_update, pred, squared = False)\n",
    "\n",
    "print(f'\\nTest RMSE: {rmse:.4f}')"
   ]
  },
  {
   "cell_type": "markdown",
   "metadata": {},
   "source": [
    "## Sigmoid kernel"
   ]
  },
  {
   "cell_type": "code",
   "execution_count": 13,
   "metadata": {},
   "outputs": [
    {
     "name": "stdout",
     "output_type": "stream",
     "text": [
      "Epoch  1 / 20  -  train_rmse: 1.725481923520382\n",
      "Epoch  2 / 20  -  train_rmse: 1.7002825961415657\n",
      "Epoch  3 / 20  -  train_rmse: 1.6621672871254909\n",
      "Epoch  4 / 20  -  train_rmse: 1.6209576751533759\n",
      "Epoch  5 / 20  -  train_rmse: 1.5755476317807886\n",
      "Epoch  6 / 20  -  train_rmse: 1.5233231690476359\n",
      "Epoch  7 / 20  -  train_rmse: 1.4656804966819397\n",
      "Epoch  8 / 20  -  train_rmse: 1.4093258199041918\n",
      "Epoch  9 / 20  -  train_rmse: 1.3583867662783806\n",
      "Epoch  10 / 20  -  train_rmse: 1.3134218215860078\n",
      "Epoch  11 / 20  -  train_rmse: 1.2739631301583274\n",
      "Epoch  12 / 20  -  train_rmse: 1.2393720007790097\n",
      "Epoch  13 / 20  -  train_rmse: 1.208724044999088\n",
      "Epoch  14 / 20  -  train_rmse: 1.181439192432482\n",
      "Epoch  15 / 20  -  train_rmse: 1.1569561025632533\n",
      "Epoch  16 / 20  -  train_rmse: 1.1349060147014292\n",
      "Epoch  17 / 20  -  train_rmse: 1.1148811095124267\n",
      "Epoch  18 / 20  -  train_rmse: 1.0966100593068233\n",
      "Epoch  19 / 20  -  train_rmse: 1.079846148221734\n",
      "Epoch  20 / 20  -  train_rmse: 1.0642544113528227\n",
      "\n",
      "Test RMSE: 1.1110\n",
      "Wall time: 1.38 s\n"
     ]
    }
   ],
   "source": [
    "%%time \n",
    "matrix_fact = KernelMF(n_epochs = 20, n_factors = 100, verbose = 1, lr = 0.01, reg = 0.005, kernel='sigmoid')\n",
    "matrix_fact.fit(X_train, y_train)\n",
    "\n",
    "pred = matrix_fact.predict(X_test)\n",
    "rmse = mean_squared_error(y_test, pred, squared = False)\n",
    "\n",
    "print(f'\\nTest RMSE: {rmse:.4f}')"
   ]
  },
  {
   "cell_type": "markdown",
   "metadata": {},
   "source": [
    "## RBF Kernel"
   ]
  },
  {
   "cell_type": "code",
   "execution_count": 14,
   "metadata": {},
   "outputs": [
    {
     "name": "stdout",
     "output_type": "stream",
     "text": [
      "Epoch  1 / 20  -  train_rmse: 1.2635558927053938\n",
      "Epoch  2 / 20  -  train_rmse: 1.1111584783217938\n",
      "Epoch  3 / 20  -  train_rmse: 1.0457439238596105\n",
      "Epoch  4 / 20  -  train_rmse: 1.0057746487964505\n",
      "Epoch  5 / 20  -  train_rmse: 0.9742714803037644\n",
      "Epoch  6 / 20  -  train_rmse: 0.9519457726606385\n",
      "Epoch  7 / 20  -  train_rmse: 0.9340352891374744\n",
      "Epoch  8 / 20  -  train_rmse: 0.922432432511659\n",
      "Epoch  9 / 20  -  train_rmse: 0.9114725283772854\n",
      "Epoch  10 / 20  -  train_rmse: 0.9042017586797012\n",
      "Epoch  11 / 20  -  train_rmse: 0.8998170755722176\n",
      "Epoch  12 / 20  -  train_rmse: 0.8947140275777387\n",
      "Epoch  13 / 20  -  train_rmse: 0.892280077616079\n",
      "Epoch  14 / 20  -  train_rmse: 0.888934438328414\n",
      "Epoch  15 / 20  -  train_rmse: 0.8867558814208203\n",
      "Epoch  16 / 20  -  train_rmse: 0.8844556175891591\n",
      "Epoch  17 / 20  -  train_rmse: 0.8830174765348365\n",
      "Epoch  18 / 20  -  train_rmse: 0.882521792804504\n",
      "Epoch  19 / 20  -  train_rmse: 0.8822296243910285\n",
      "Epoch  20 / 20  -  train_rmse: 0.8808961129475015\n",
      "\n",
      "Test RMSE: 0.9682\n",
      "Wall time: 2.2 s\n"
     ]
    }
   ],
   "source": [
    "%%time \n",
    "matrix_fact = KernelMF(n_epochs = 20, n_factors = 100, verbose = 1, lr = 0.5, reg = 0.005, kernel='rbf')\n",
    "matrix_fact.fit(X_train, y_train)\n",
    "\n",
    "pred = matrix_fact.predict(X_test)\n",
    "rmse = mean_squared_error(y_test, pred, squared = False)\n",
    "\n",
    "print(f'\\nTest RMSE: {rmse:.4f}')"
   ]
  },
  {
   "cell_type": "markdown",
   "metadata": {},
   "source": [
    "# Scikit-learn compatability"
   ]
  },
  {
   "cell_type": "code",
   "execution_count": null,
   "metadata": {},
   "outputs": [
    {
     "name": "stdout",
     "output_type": "stream",
     "text": [
      "Fitting 5 folds for each of 81 candidates, totalling 405 fits\n"
     ]
    },
    {
     "name": "stderr",
     "output_type": "stream",
     "text": [
      "[Parallel(n_jobs=-1)]: Using backend LokyBackend with 4 concurrent workers.\n",
      "[Parallel(n_jobs=-1)]: Done  42 tasks      | elapsed:   23.6s\n",
      "[Parallel(n_jobs=-1)]: Done 192 tasks      | elapsed:  1.3min\n"
     ]
    }
   ],
   "source": [
    "from sklearn.model_selection import GridSearchCV, ParameterGrid\n",
    "\n",
    "param_grid = {\n",
    "    'kernel': ['linear', 'sigmoid', 'rbf'],\n",
    "    'n_factors': [10, 20, 50],\n",
    "    'n_epochs': [10, 20, 50],\n",
    "    'reg': [0, 0.005, 0.1]\n",
    "}\n",
    "\n",
    "grid_search = GridSearchCV(KernelMF(verbose=0), scoring = 'neg_root_mean_squared_error', param_grid=param_grid, n_jobs=-1, cv=5, verbose=1)\n",
    "grid_search.fit(X_train, y_train)"
   ]
  },
  {
   "cell_type": "code",
   "execution_count": null,
   "metadata": {},
   "outputs": [],
   "source": [
    "grid_search.best_score_\n",
    "grid_search.best_params_"
   ]
  }
 ],
 "metadata": {
  "kernelspec": {
   "display_name": "Python [conda env:recommend]",
   "language": "python",
   "name": "conda-env-recommend-py"
  },
  "language_info": {
   "codemirror_mode": {
    "name": "ipython",
    "version": 3
   },
   "file_extension": ".py",
   "mimetype": "text/x-python",
   "name": "python",
   "nbconvert_exporter": "python",
   "pygments_lexer": "ipython3",
   "version": "3.7.7"
  },
  "toc-autonumbering": true,
  "toc-showcode": false,
  "toc-showmarkdowntxt": false,
  "toc-showtags": false
 },
 "nbformat": 4,
 "nbformat_minor": 4
}
