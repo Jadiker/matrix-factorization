{
 "cells": [
  {
   "cell_type": "code",
   "execution_count": 1,
   "metadata": {
    "tags": []
   },
   "outputs": [],
   "source": [
    "# Data manipulation\n",
    "import numpy as np\n",
    "import pandas as pd\n",
    "pd.options.display.max_rows = 100\n",
    "\n",
    "# Modeling\n",
    "from matrix_factorization import BaselineModel, KernelMF, train_update_test_split\n",
    "from sklearn.metrics import mean_squared_error\n",
    "from sklearn.model_selection import train_test_split\n",
    "\n",
    "# Other\n",
    "import os\n",
    "import random\n",
    "import sys\n",
    "\n",
    "# Reload imported code \n",
    "%load_ext autoreload\n",
    "%autoreload 2\n",
    "\n",
    "# Print all output\n",
    "from IPython.core.interactiveshell import InteractiveShell\n",
    "InteractiveShell.ast_node_interactivity = \"all\"\n",
    "\n",
    "rand_seed = 2\n",
    "np.random.seed(rand_seed)\n",
    "random.seed(rand_seed)"
   ]
  },
  {
   "cell_type": "markdown",
   "metadata": {},
   "source": [
    "# Load data"
   ]
  },
  {
   "cell_type": "markdown",
   "metadata": {},
   "source": [
    "**Movie data found here https://grouplens.org/datasets/movielens/**"
   ]
  },
  {
   "cell_type": "code",
   "execution_count": 2,
   "metadata": {},
   "outputs": [
    {
     "data": {
      "text/html": [
       "<div>\n",
       "<style scoped>\n",
       "    .dataframe tbody tr th:only-of-type {\n",
       "        vertical-align: middle;\n",
       "    }\n",
       "\n",
       "    .dataframe tbody tr th {\n",
       "        vertical-align: top;\n",
       "    }\n",
       "\n",
       "    .dataframe thead th {\n",
       "        text-align: right;\n",
       "    }\n",
       "</style>\n",
       "<table border=\"1\" class=\"dataframe\">\n",
       "  <thead>\n",
       "    <tr style=\"text-align: right;\">\n",
       "      <th></th>\n",
       "      <th>user_id</th>\n",
       "      <th>item_id</th>\n",
       "      <th>rating</th>\n",
       "    </tr>\n",
       "  </thead>\n",
       "  <tbody>\n",
       "    <tr>\n",
       "      <th>0</th>\n",
       "      <td>196</td>\n",
       "      <td>242</td>\n",
       "      <td>3</td>\n",
       "    </tr>\n",
       "    <tr>\n",
       "      <th>1</th>\n",
       "      <td>186</td>\n",
       "      <td>302</td>\n",
       "      <td>3</td>\n",
       "    </tr>\n",
       "    <tr>\n",
       "      <th>2</th>\n",
       "      <td>22</td>\n",
       "      <td>377</td>\n",
       "      <td>1</td>\n",
       "    </tr>\n",
       "    <tr>\n",
       "      <th>3</th>\n",
       "      <td>244</td>\n",
       "      <td>51</td>\n",
       "      <td>2</td>\n",
       "    </tr>\n",
       "    <tr>\n",
       "      <th>4</th>\n",
       "      <td>166</td>\n",
       "      <td>346</td>\n",
       "      <td>1</td>\n",
       "    </tr>\n",
       "    <tr>\n",
       "      <th>5</th>\n",
       "      <td>298</td>\n",
       "      <td>474</td>\n",
       "      <td>4</td>\n",
       "    </tr>\n",
       "    <tr>\n",
       "      <th>6</th>\n",
       "      <td>115</td>\n",
       "      <td>265</td>\n",
       "      <td>2</td>\n",
       "    </tr>\n",
       "    <tr>\n",
       "      <th>7</th>\n",
       "      <td>253</td>\n",
       "      <td>465</td>\n",
       "      <td>5</td>\n",
       "    </tr>\n",
       "    <tr>\n",
       "      <th>8</th>\n",
       "      <td>305</td>\n",
       "      <td>451</td>\n",
       "      <td>3</td>\n",
       "    </tr>\n",
       "    <tr>\n",
       "      <th>9</th>\n",
       "      <td>6</td>\n",
       "      <td>86</td>\n",
       "      <td>3</td>\n",
       "    </tr>\n",
       "  </tbody>\n",
       "</table>\n",
       "</div>"
      ],
      "text/plain": [
       "   user_id  item_id  rating\n",
       "0      196      242       3\n",
       "1      186      302       3\n",
       "2       22      377       1\n",
       "3      244       51       2\n",
       "4      166      346       1\n",
       "5      298      474       4\n",
       "6      115      265       2\n",
       "7      253      465       5\n",
       "8      305      451       3\n",
       "9        6       86       3"
      ]
     },
     "execution_count": 2,
     "metadata": {},
     "output_type": "execute_result"
    }
   ],
   "source": [
    "cols = ['user_id', 'item_id', 'rating', 'timestamp']\n",
    "# movie_data = pd.read_csv('../data/ml-1m/ratings.dat', names = cols, sep = '::', usecols=[0, 1, 2], engine='python')\n",
    "movie_data = pd.read_csv('../data/ml-100k/u.data', names = cols, sep = '\\t', usecols=[0, 1, 2], engine='python')\n",
    "\n",
    "X = movie_data[['user_id', 'item_id']]\n",
    "y = movie_data['rating']\n",
    "\n",
    "# Prepare data\n",
    "X_train, X_test, y_train, y_test = train_test_split(X, y, test_size=0.2)\n",
    "\n",
    "# Prepare data for online learning\n",
    "X_train_initial, y_train_initial, X_train_update, y_train_update, X_test_update, y_test_update = train_update_test_split(movie_data, frac_new_users=0.2)\n",
    "\n",
    "movie_data.head(10)"
   ]
  },
  {
   "cell_type": "markdown",
   "metadata": {},
   "source": [
    "# Simple model with global mean"
   ]
  },
  {
   "cell_type": "markdown",
   "metadata": {},
   "source": [
    "This is similar to just the global standard deviation"
   ]
  },
  {
   "cell_type": "code",
   "execution_count": 3,
   "metadata": {
    "tags": []
   },
   "outputs": [
    {
     "name": "stdout",
     "output_type": "stream",
     "text": [
      "\n",
      "Test RMSE: 1.120652\n"
     ]
    }
   ],
   "source": [
    "global_mean = y_train.mean()\n",
    "pred = [global_mean for _ in range(y_test.shape[0])]\n",
    "\n",
    "rmse = mean_squared_error(y_test, pred, squared = False)\n",
    "\n",
    "print(f'\\nTest RMSE: {rmse:4f}')"
   ]
  },
  {
   "cell_type": "markdown",
   "metadata": {},
   "source": [
    "# Baseline Model with biases"
   ]
  },
  {
   "cell_type": "markdown",
   "metadata": {},
   "source": [
    "## SGD"
   ]
  },
  {
   "cell_type": "code",
   "execution_count": 4,
   "metadata": {},
   "outputs": [
    {
     "name": "stdout",
     "output_type": "stream",
     "text": [
      "Epoch  1 / 20  -  train_rmse: 0.968584946965404\n",
      "Epoch  2 / 20  -  train_rmse: 0.9454399191694888\n",
      "Epoch  3 / 20  -  train_rmse: 0.9353488733388631\n",
      "Epoch  4 / 20  -  train_rmse: 0.9296936848263799\n",
      "Epoch  5 / 20  -  train_rmse: 0.926151311570964\n",
      "Epoch  6 / 20  -  train_rmse: 0.923775016755705\n",
      "Epoch  7 / 20  -  train_rmse: 0.922100268641781\n",
      "Epoch  8 / 20  -  train_rmse: 0.9208735985370318\n",
      "Epoch  9 / 20  -  train_rmse: 0.9199463965251449\n",
      "Epoch  10 / 20  -  train_rmse: 0.9192267312470667\n",
      "Epoch  11 / 20  -  train_rmse: 0.9186552785087078\n",
      "Epoch  12 / 20  -  train_rmse: 0.9181924141457299\n",
      "Epoch  13 / 20  -  train_rmse: 0.9178108986051953\n",
      "Epoch  14 / 20  -  train_rmse: 0.9174915391758885\n",
      "Epoch  15 / 20  -  train_rmse: 0.9172205193346755\n",
      "Epoch  16 / 20  -  train_rmse: 0.9169877015010416\n",
      "Epoch  17 / 20  -  train_rmse: 0.9167855187837213\n",
      "Epoch  18 / 20  -  train_rmse: 0.9166082341717784\n",
      "Epoch  19 / 20  -  train_rmse: 0.9164514350842512\n",
      "Epoch  20 / 20  -  train_rmse: 0.9163116821781069\n",
      "\n",
      "Test RMSE: 0.9297\n",
      "Wall time: 1.38 s\n"
     ]
    }
   ],
   "source": [
    "%%time\n",
    "\n",
    "baseline_model = BaselineModel(method='sgd', n_epochs = 20, reg = 0.005, lr = 0.01, verbose=1)\n",
    "baseline_model.fit(X_train, y_train)\n",
    "\n",
    "pred = baseline_model.predict(X_test)\n",
    "rmse = mean_squared_error(y_test, pred, squared = False)\n",
    "\n",
    "print(f'\\nTest RMSE: {rmse:.4f}')"
   ]
  },
  {
   "cell_type": "code",
   "execution_count": 5,
   "metadata": {},
   "outputs": [
    {
     "data": {
      "text/html": [
       "<div>\n",
       "<style scoped>\n",
       "    .dataframe tbody tr th:only-of-type {\n",
       "        vertical-align: middle;\n",
       "    }\n",
       "\n",
       "    .dataframe tbody tr th {\n",
       "        vertical-align: top;\n",
       "    }\n",
       "\n",
       "    .dataframe thead th {\n",
       "        text-align: right;\n",
       "    }\n",
       "</style>\n",
       "<table border=\"1\" class=\"dataframe\">\n",
       "  <thead>\n",
       "    <tr style=\"text-align: right;\">\n",
       "      <th></th>\n",
       "      <th>user_id</th>\n",
       "      <th>item_id</th>\n",
       "      <th>rating_pred</th>\n",
       "    </tr>\n",
       "  </thead>\n",
       "  <tbody>\n",
       "    <tr>\n",
       "      <th>790</th>\n",
       "      <td>200</td>\n",
       "      <td>114</td>\n",
       "      <td>5.0</td>\n",
       "    </tr>\n",
       "    <tr>\n",
       "      <th>34</th>\n",
       "      <td>200</td>\n",
       "      <td>50</td>\n",
       "      <td>5.0</td>\n",
       "    </tr>\n",
       "    <tr>\n",
       "      <th>338</th>\n",
       "      <td>200</td>\n",
       "      <td>64</td>\n",
       "      <td>5.0</td>\n",
       "    </tr>\n",
       "    <tr>\n",
       "      <th>212</th>\n",
       "      <td>200</td>\n",
       "      <td>169</td>\n",
       "      <td>5.0</td>\n",
       "    </tr>\n",
       "    <tr>\n",
       "      <th>988</th>\n",
       "      <td>200</td>\n",
       "      <td>1449</td>\n",
       "      <td>5.0</td>\n",
       "    </tr>\n",
       "    <tr>\n",
       "      <th>388</th>\n",
       "      <td>200</td>\n",
       "      <td>408</td>\n",
       "      <td>5.0</td>\n",
       "    </tr>\n",
       "    <tr>\n",
       "      <th>188</th>\n",
       "      <td>200</td>\n",
       "      <td>178</td>\n",
       "      <td>5.0</td>\n",
       "    </tr>\n",
       "    <tr>\n",
       "      <th>54</th>\n",
       "      <td>200</td>\n",
       "      <td>603</td>\n",
       "      <td>5.0</td>\n",
       "    </tr>\n",
       "    <tr>\n",
       "      <th>726</th>\n",
       "      <td>200</td>\n",
       "      <td>513</td>\n",
       "      <td>5.0</td>\n",
       "    </tr>\n",
       "    <tr>\n",
       "      <th>281</th>\n",
       "      <td>200</td>\n",
       "      <td>483</td>\n",
       "      <td>5.0</td>\n",
       "    </tr>\n",
       "  </tbody>\n",
       "</table>\n",
       "</div>"
      ],
      "text/plain": [
       "     user_id  item_id  rating_pred\n",
       "790      200      114          5.0\n",
       "34       200       50          5.0\n",
       "338      200       64          5.0\n",
       "212      200      169          5.0\n",
       "988      200     1449          5.0\n",
       "388      200      408          5.0\n",
       "188      200      178          5.0\n",
       "54       200      603          5.0\n",
       "726      200      513          5.0\n",
       "281      200      483          5.0"
      ]
     },
     "execution_count": 5,
     "metadata": {},
     "output_type": "execute_result"
    }
   ],
   "source": [
    "baseline_model.recommend(user=200)"
   ]
  },
  {
   "cell_type": "markdown",
   "metadata": {},
   "source": [
    "## ALS"
   ]
  },
  {
   "cell_type": "code",
   "execution_count": 6,
   "metadata": {},
   "outputs": [
    {
     "name": "stdout",
     "output_type": "stream",
     "text": [
      "Epoch  1 / 20  -  train_rmse: 0.9312489364350157\n",
      "Epoch  2 / 20  -  train_rmse: 0.9144875214764501\n",
      "Epoch  3 / 20  -  train_rmse: 0.9134856911195807\n",
      "Epoch  4 / 20  -  train_rmse: 0.9133800448918423\n",
      "Epoch  5 / 20  -  train_rmse: 0.9133615794862777\n",
      "Epoch  6 / 20  -  train_rmse: 0.9133565857003941\n",
      "Epoch  7 / 20  -  train_rmse: 0.9133544601244424\n",
      "Epoch  8 / 20  -  train_rmse: 0.9133531004630441\n",
      "Epoch  9 / 20  -  train_rmse: 0.9133519902067218\n",
      "Epoch  10 / 20  -  train_rmse: 0.9133509792033206\n",
      "Epoch  11 / 20  -  train_rmse: 0.9133500175542733\n",
      "Epoch  12 / 20  -  train_rmse: 0.9133490869495551\n",
      "Epoch  13 / 20  -  train_rmse: 0.9133481801287349\n",
      "Epoch  14 / 20  -  train_rmse: 0.9133472939684136\n",
      "Epoch  15 / 20  -  train_rmse: 0.9133464269599311\n",
      "Epoch  16 / 20  -  train_rmse: 0.9133455782426871\n",
      "Epoch  17 / 20  -  train_rmse: 0.9133447472230197\n",
      "Epoch  18 / 20  -  train_rmse: 0.9133439334215674\n",
      "Epoch  19 / 20  -  train_rmse: 0.9133431364114416\n",
      "Epoch  20 / 20  -  train_rmse: 0.9133423557930989\n",
      "\n",
      "Test RMSE: 0.9294\n",
      "Wall time: 857 ms\n"
     ]
    }
   ],
   "source": [
    "%%time\n",
    "\n",
    "baseline_model = BaselineModel(method='als', n_epochs = 20, reg = 0.5, verbose=1)\n",
    "baseline_model.fit(X_train, y_train)\n",
    "\n",
    "pred = baseline_model.predict(X_test)\n",
    "rmse = mean_squared_error(y_test, pred, squared = False)\n",
    "\n",
    "print(f'\\nTest RMSE: {rmse:.4f}')"
   ]
  },
  {
   "cell_type": "markdown",
   "metadata": {},
   "source": [
    "## Updating with new users"
   ]
  },
  {
   "cell_type": "code",
   "execution_count": 7,
   "metadata": {
    "tags": []
   },
   "outputs": [
    {
     "name": "stdout",
     "output_type": "stream",
     "text": [
      "Epoch  1 / 20  -  train_rmse: 0.964499569923119\n",
      "Epoch  2 / 20  -  train_rmse: 0.9428040600174458\n",
      "Epoch  3 / 20  -  train_rmse: 0.9333717438673879\n",
      "Epoch  4 / 20  -  train_rmse: 0.9281188215275641\n",
      "Epoch  5 / 20  -  train_rmse: 0.9248381206356202\n",
      "Epoch  6 / 20  -  train_rmse: 0.9226356513191752\n",
      "Epoch  7 / 20  -  train_rmse: 0.9210775589005141\n",
      "Epoch  8 / 20  -  train_rmse: 0.9199294720789966\n",
      "Epoch  9 / 20  -  train_rmse: 0.9190550671651979\n",
      "Epoch  10 / 20  -  train_rmse: 0.9183705215546366\n",
      "Epoch  11 / 20  -  train_rmse: 0.917821977784321\n",
      "Epoch  12 / 20  -  train_rmse: 0.9173735592119324\n",
      "Epoch  13 / 20  -  train_rmse: 0.9170006265834857\n",
      "Epoch  14 / 20  -  train_rmse: 0.9166858061210149\n",
      "Epoch  15 / 20  -  train_rmse: 0.9164165597108449\n",
      "Epoch  16 / 20  -  train_rmse: 0.9161836500513875\n",
      "Epoch  17 / 20  -  train_rmse: 0.9159801439630649\n",
      "Epoch  18 / 20  -  train_rmse: 0.91580074929513\n",
      "Epoch  19 / 20  -  train_rmse: 0.9156413641563471\n",
      "Epoch  20 / 20  -  train_rmse: 0.9154987644663583\n"
     ]
    },
    {
     "data": {
      "text/plain": [
       "BaselineModel(n_epochs=20, reg=0.05)"
      ]
     },
     "execution_count": 7,
     "metadata": {},
     "output_type": "execute_result"
    }
   ],
   "source": [
    "baseline_model = BaselineModel(method='sgd', n_epochs = 20, lr=0.01, reg = 0.05, verbose=1)\n",
    "baseline_model.fit(X_train_initial, y_train_initial)"
   ]
  },
  {
   "cell_type": "code",
   "execution_count": 8,
   "metadata": {
    "tags": []
   },
   "outputs": [
    {
     "name": "stdout",
     "output_type": "stream",
     "text": [
      "Epoch  1 / 20  -  train_rmse: 1.0191142772546382\n",
      "Epoch  2 / 20  -  train_rmse: 1.0024027918882694\n",
      "Epoch  3 / 20  -  train_rmse: 0.9899293628487116\n",
      "Epoch  4 / 20  -  train_rmse: 0.9804649221282987\n",
      "Epoch  5 / 20  -  train_rmse: 0.9731535124309144\n",
      "Epoch  6 / 20  -  train_rmse: 0.9673992319805947\n",
      "Epoch  7 / 20  -  train_rmse: 0.9627858735178542\n",
      "Epoch  8 / 20  -  train_rmse: 0.9590209162595595\n",
      "Epoch  9 / 20  -  train_rmse: 0.9558969637901716\n",
      "Epoch  10 / 20  -  train_rmse: 0.9532653733663553\n",
      "Epoch  11 / 20  -  train_rmse: 0.9510182727624278\n",
      "Epoch  12 / 20  -  train_rmse: 0.9490762937405616\n",
      "Epoch  13 / 20  -  train_rmse: 0.9473801822317853\n",
      "Epoch  14 / 20  -  train_rmse: 0.9458850326691678\n",
      "Epoch  15 / 20  -  train_rmse: 0.9445562996890088\n",
      "Epoch  16 / 20  -  train_rmse: 0.9433670167763138\n",
      "Epoch  17 / 20  -  train_rmse: 0.9422958380100659\n",
      "Epoch  18 / 20  -  train_rmse: 0.9413256443922408\n",
      "Epoch  19 / 20  -  train_rmse: 0.9404425402236979\n",
      "Epoch  20 / 20  -  train_rmse: 0.93963512123345\n",
      "\n",
      "Test RMSE: 0.9484\n",
      "Wall time: 434 ms\n"
     ]
    }
   ],
   "source": [
    "%%time\n",
    "baseline_model.update_users(X_train_update, y_train_update, n_epochs=20, lr=0.001, verbose=1)\n",
    "pred = baseline_model.predict(X_test_update)\n",
    "rmse = mean_squared_error(y_test_update, pred, squared = False)\n",
    "\n",
    "print(f'\\nTest RMSE: {rmse:.4f}')"
   ]
  },
  {
   "cell_type": "markdown",
   "metadata": {},
   "source": [
    "# Matrix Factorization"
   ]
  },
  {
   "cell_type": "markdown",
   "metadata": {},
   "source": [
    "## Linear Kernel"
   ]
  },
  {
   "cell_type": "code",
   "execution_count": 9,
   "metadata": {},
   "outputs": [
    {
     "name": "stdout",
     "output_type": "stream",
     "text": [
      "Epoch  1 / 20  -  train_rmse: 1.0801222116631521\n",
      "Epoch  2 / 20  -  train_rmse: 1.0473146520428591\n",
      "Epoch  3 / 20  -  train_rmse: 1.0244607467803393\n",
      "Epoch  4 / 20  -  train_rmse: 1.0074890819726983\n",
      "Epoch  5 / 20  -  train_rmse: 0.9942491923413936\n",
      "Epoch  6 / 20  -  train_rmse: 0.9835138901257094\n",
      "Epoch  7 / 20  -  train_rmse: 0.9745356599913532\n",
      "Epoch  8 / 20  -  train_rmse: 0.9668346620204138\n",
      "Epoch  9 / 20  -  train_rmse: 0.9600896334525281\n",
      "Epoch  10 / 20  -  train_rmse: 0.9540779001745824\n",
      "Epoch  11 / 20  -  train_rmse: 0.9486405218111265\n",
      "Epoch  12 / 20  -  train_rmse: 0.9436611119311279\n",
      "Epoch  13 / 20  -  train_rmse: 0.9390524870345828\n",
      "Epoch  14 / 20  -  train_rmse: 0.9347479880958213\n",
      "Epoch  15 / 20  -  train_rmse: 0.9306956889311894\n",
      "Epoch  16 / 20  -  train_rmse: 0.9268544411303467\n",
      "Epoch  17 / 20  -  train_rmse: 0.9231911174153383\n",
      "Epoch  18 / 20  -  train_rmse: 0.9196786547082368\n",
      "Epoch  19 / 20  -  train_rmse: 0.9162946416048168\n",
      "Epoch  20 / 20  -  train_rmse: 0.9130202831875339\n",
      "\n",
      "Test RMSE: 0.9534\n",
      "Wall time: 6.37 s\n"
     ]
    }
   ],
   "source": [
    "%%time \n",
    "matrix_fact = KernelMF(n_epochs = 20, n_factors = 100, verbose = 1, lr = 0.001, reg = 0.005)\n",
    "matrix_fact.fit(X_train, y_train)\n",
    "\n",
    "pred = matrix_fact.predict(X_test)\n",
    "rmse = mean_squared_error(y_test, pred, squared = False)\n",
    "\n",
    "print(f'\\nTest RMSE: {rmse:.4f}')"
   ]
  },
  {
   "cell_type": "markdown",
   "metadata": {},
   "source": [
    "## Getting list of recommendations for a user"
   ]
  },
  {
   "cell_type": "code",
   "execution_count": 10,
   "metadata": {},
   "outputs": [
    {
     "data": {
      "text/html": [
       "<div>\n",
       "<style scoped>\n",
       "    .dataframe tbody tr th:only-of-type {\n",
       "        vertical-align: middle;\n",
       "    }\n",
       "\n",
       "    .dataframe tbody tr th {\n",
       "        vertical-align: top;\n",
       "    }\n",
       "\n",
       "    .dataframe thead th {\n",
       "        text-align: right;\n",
       "    }\n",
       "</style>\n",
       "<table border=\"1\" class=\"dataframe\">\n",
       "  <thead>\n",
       "    <tr style=\"text-align: right;\">\n",
       "      <th></th>\n",
       "      <th>user_id</th>\n",
       "      <th>item_id</th>\n",
       "      <th>rating_pred</th>\n",
       "    </tr>\n",
       "  </thead>\n",
       "  <tbody>\n",
       "    <tr>\n",
       "      <th>37</th>\n",
       "      <td>200</td>\n",
       "      <td>64</td>\n",
       "      <td>5.000000</td>\n",
       "    </tr>\n",
       "    <tr>\n",
       "      <th>242</th>\n",
       "      <td>200</td>\n",
       "      <td>357</td>\n",
       "      <td>4.954014</td>\n",
       "    </tr>\n",
       "    <tr>\n",
       "      <th>11</th>\n",
       "      <td>200</td>\n",
       "      <td>127</td>\n",
       "      <td>4.915220</td>\n",
       "    </tr>\n",
       "    <tr>\n",
       "      <th>61</th>\n",
       "      <td>200</td>\n",
       "      <td>272</td>\n",
       "      <td>4.908755</td>\n",
       "    </tr>\n",
       "    <tr>\n",
       "      <th>395</th>\n",
       "      <td>200</td>\n",
       "      <td>480</td>\n",
       "      <td>4.841725</td>\n",
       "    </tr>\n",
       "    <tr>\n",
       "      <th>710</th>\n",
       "      <td>200</td>\n",
       "      <td>479</td>\n",
       "      <td>4.839973</td>\n",
       "    </tr>\n",
       "    <tr>\n",
       "      <th>275</th>\n",
       "      <td>200</td>\n",
       "      <td>12</td>\n",
       "      <td>4.820736</td>\n",
       "    </tr>\n",
       "    <tr>\n",
       "      <th>55</th>\n",
       "      <td>200</td>\n",
       "      <td>511</td>\n",
       "      <td>4.811989</td>\n",
       "    </tr>\n",
       "    <tr>\n",
       "      <th>655</th>\n",
       "      <td>200</td>\n",
       "      <td>427</td>\n",
       "      <td>4.809895</td>\n",
       "    </tr>\n",
       "    <tr>\n",
       "      <th>17</th>\n",
       "      <td>200</td>\n",
       "      <td>100</td>\n",
       "      <td>4.803464</td>\n",
       "    </tr>\n",
       "  </tbody>\n",
       "</table>\n",
       "</div>"
      ],
      "text/plain": [
       "     user_id  item_id  rating_pred\n",
       "37       200       64     5.000000\n",
       "242      200      357     4.954014\n",
       "11       200      127     4.915220\n",
       "61       200      272     4.908755\n",
       "395      200      480     4.841725\n",
       "710      200      479     4.839973\n",
       "275      200       12     4.820736\n",
       "55       200      511     4.811989\n",
       "655      200      427     4.809895\n",
       "17       200      100     4.803464"
      ]
     },
     "execution_count": 10,
     "metadata": {},
     "output_type": "execute_result"
    }
   ],
   "source": [
    "user = 200\n",
    "items_known = X_train.query('user_id == @user')['item_id']\n",
    "matrix_fact.recommend(user=user, items_known=items_known)"
   ]
  },
  {
   "cell_type": "markdown",
   "metadata": {},
   "source": [
    "## Updating with new users"
   ]
  },
  {
   "cell_type": "code",
   "execution_count": 11,
   "metadata": {},
   "outputs": [
    {
     "name": "stdout",
     "output_type": "stream",
     "text": [
      "Epoch  1 / 20  -  train_rmse: 1.0705746932381526\n",
      "Epoch  2 / 20  -  train_rmse: 1.0382660426957875\n",
      "Epoch  3 / 20  -  train_rmse: 1.016215024525483\n",
      "Epoch  4 / 20  -  train_rmse: 0.9999227294660362\n",
      "Epoch  5 / 20  -  train_rmse: 0.9872249839452364\n",
      "Epoch  6 / 20  -  train_rmse: 0.9769265257288504\n",
      "Epoch  7 / 20  -  train_rmse: 0.9683048573697514\n",
      "Epoch  8 / 20  -  train_rmse: 0.9608970562505023\n",
      "Epoch  9 / 20  -  train_rmse: 0.9543939579409526\n",
      "Epoch  10 / 20  -  train_rmse: 0.9485821217812994\n",
      "Epoch  11 / 20  -  train_rmse: 0.9433098947660511\n",
      "Epoch  12 / 20  -  train_rmse: 0.9384666913135622\n",
      "Epoch  13 / 20  -  train_rmse: 0.9339699264597934\n",
      "Epoch  14 / 20  -  train_rmse: 0.9297565525057904\n",
      "Epoch  15 / 20  -  train_rmse: 0.9257774469205091\n",
      "Epoch  16 / 20  -  train_rmse: 0.9219936103680543\n",
      "Epoch  17 / 20  -  train_rmse: 0.918373539403859\n",
      "Epoch  18 / 20  -  train_rmse: 0.9148913769568732\n",
      "Epoch  19 / 20  -  train_rmse: 0.911525587551766\n",
      "Epoch  20 / 20  -  train_rmse: 0.9082579928457778\n"
     ]
    },
    {
     "data": {
      "text/plain": [
       "KernelMF(gamma=0.01, lr=0.001, n_epochs=20, reg=0.005)"
      ]
     },
     "execution_count": 11,
     "metadata": {},
     "output_type": "execute_result"
    }
   ],
   "source": [
    "matrix_fact = KernelMF(n_epochs = 20, n_factors = 100, verbose = 1, lr = 0.001, reg = 0.005)\n",
    "matrix_fact.fit(X_train_initial, y_train_initial)"
   ]
  },
  {
   "cell_type": "code",
   "execution_count": 12,
   "metadata": {},
   "outputs": [
    {
     "name": "stdout",
     "output_type": "stream",
     "text": [
      "Epoch  1 / 20  -  train_rmse: 1.0398656868356\n",
      "Epoch  2 / 20  -  train_rmse: 1.0205576874442035\n",
      "Epoch  3 / 20  -  train_rmse: 1.005932072259718\n",
      "Epoch  4 / 20  -  train_rmse: 0.994657890390333\n",
      "Epoch  5 / 20  -  train_rmse: 0.985793674422776\n",
      "Epoch  6 / 20  -  train_rmse: 0.9786755773344993\n",
      "Epoch  7 / 20  -  train_rmse: 0.9728353493432004\n",
      "Epoch  8 / 20  -  train_rmse: 0.9679416274302333\n",
      "Epoch  9 / 20  -  train_rmse: 0.9637585721547791\n",
      "Epoch  10 / 20  -  train_rmse: 0.9601170133421498\n",
      "Epoch  11 / 20  -  train_rmse: 0.9568944335345086\n",
      "Epoch  12 / 20  -  train_rmse: 0.9540011144651367\n",
      "Epoch  13 / 20  -  train_rmse: 0.9513705470566537\n",
      "Epoch  14 / 20  -  train_rmse: 0.9489527779171221\n",
      "Epoch  15 / 20  -  train_rmse: 0.9467097748161197\n",
      "Epoch  16 / 20  -  train_rmse: 0.9446121807344438\n",
      "Epoch  17 / 20  -  train_rmse: 0.9426370248154202\n",
      "Epoch  18 / 20  -  train_rmse: 0.9407660949988312\n",
      "Epoch  19 / 20  -  train_rmse: 0.9389847703547473\n",
      "Epoch  20 / 20  -  train_rmse: 0.9372811746783785\n",
      "\n",
      "Test RMSE: 0.9677\n",
      "Wall time: 1.11 s\n"
     ]
    }
   ],
   "source": [
    "%%time\n",
    "# Update model with new users\n",
    "matrix_fact.update_users(X_train_update, y_train_update, lr=0.001, n_epochs=20, verbose=1)\n",
    "pred = matrix_fact.predict(X_test_update)\n",
    "rmse = mean_squared_error(y_test_update, pred, squared = False)\n",
    "\n",
    "print(f'\\nTest RMSE: {rmse:.4f}')"
   ]
  },
  {
   "cell_type": "markdown",
   "metadata": {},
   "source": [
    "## Sigmoid kernel"
   ]
  },
  {
   "cell_type": "code",
   "execution_count": 13,
   "metadata": {},
   "outputs": [
    {
     "name": "stdout",
     "output_type": "stream",
     "text": [
      "Epoch  1 / 20  -  train_rmse: 1.7254777443622737\n",
      "Epoch  2 / 20  -  train_rmse: 1.7002770272866834\n",
      "Epoch  3 / 20  -  train_rmse: 1.6621854353211043\n",
      "Epoch  4 / 20  -  train_rmse: 1.6210519279111004\n",
      "Epoch  5 / 20  -  train_rmse: 1.5756817133636316\n",
      "Epoch  6 / 20  -  train_rmse: 1.5234665705656611\n",
      "Epoch  7 / 20  -  train_rmse: 1.4658696361682801\n",
      "Epoch  8 / 20  -  train_rmse: 1.4095143392284235\n",
      "Epoch  9 / 20  -  train_rmse: 1.3585098674330331\n",
      "Epoch  10 / 20  -  train_rmse: 1.3134812994218037\n",
      "Epoch  11 / 20  -  train_rmse: 1.274038256061191\n",
      "Epoch  12 / 20  -  train_rmse: 1.2394121109949494\n",
      "Epoch  13 / 20  -  train_rmse: 1.2087791097194398\n",
      "Epoch  14 / 20  -  train_rmse: 1.181472989275656\n",
      "Epoch  15 / 20  -  train_rmse: 1.1569867880380225\n",
      "Epoch  16 / 20  -  train_rmse: 1.1349140014111203\n",
      "Epoch  17 / 20  -  train_rmse: 1.1149046640922917\n",
      "Epoch  18 / 20  -  train_rmse: 1.0966454852532301\n",
      "Epoch  19 / 20  -  train_rmse: 1.0798574505097602\n",
      "Epoch  20 / 20  -  train_rmse: 1.0643001689478164\n",
      "\n",
      "Test RMSE: 1.1112\n",
      "Wall time: 771 ms\n"
     ]
    }
   ],
   "source": [
    "%%time \n",
    "matrix_fact = KernelMF(n_epochs = 20, n_factors = 100, verbose = 1, lr = 0.01, reg = 0.005, kernel='sigmoid')\n",
    "matrix_fact.fit(X_train, y_train)\n",
    "\n",
    "pred = matrix_fact.predict(X_test)\n",
    "rmse = mean_squared_error(y_test, pred, squared = False)\n",
    "\n",
    "print(f'\\nTest RMSE: {rmse:.4f}')"
   ]
  },
  {
   "cell_type": "markdown",
   "metadata": {},
   "source": [
    "## RBF Kernel"
   ]
  },
  {
   "cell_type": "code",
   "execution_count": 14,
   "metadata": {},
   "outputs": [
    {
     "name": "stdout",
     "output_type": "stream",
     "text": [
      "Epoch  1 / 20  -  train_rmse: 1.2617769898308766\n",
      "Epoch  2 / 20  -  train_rmse: 1.1099584186466687\n",
      "Epoch  3 / 20  -  train_rmse: 1.0449538509447247\n",
      "Epoch  4 / 20  -  train_rmse: 1.0032850543994067\n",
      "Epoch  5 / 20  -  train_rmse: 0.9731173033230605\n",
      "Epoch  6 / 20  -  train_rmse: 0.9504936444747265\n",
      "Epoch  7 / 20  -  train_rmse: 0.9333982521769938\n",
      "Epoch  8 / 20  -  train_rmse: 0.920477552089845\n",
      "Epoch  9 / 20  -  train_rmse: 0.9107142631785093\n",
      "Epoch  10 / 20  -  train_rmse: 0.9033277879070493\n",
      "Epoch  11 / 20  -  train_rmse: 0.8977237427403485\n",
      "Epoch  12 / 20  -  train_rmse: 0.8934545543507805\n",
      "Epoch  13 / 20  -  train_rmse: 0.8901858675242217\n",
      "Epoch  14 / 20  -  train_rmse: 0.8876689219940567\n",
      "Epoch  15 / 20  -  train_rmse: 0.8857188281332395\n",
      "Epoch  16 / 20  -  train_rmse: 0.8841980100807602\n",
      "Epoch  17 / 20  -  train_rmse: 0.8830038246632579\n",
      "Epoch  18 / 20  -  train_rmse: 0.8820594029251833\n",
      "Epoch  19 / 20  -  train_rmse: 0.881306916237868\n",
      "Epoch  20 / 20  -  train_rmse: 0.8807026398556485\n",
      "\n",
      "Test RMSE: 0.9686\n",
      "Wall time: 1.47 s\n"
     ]
    }
   ],
   "source": [
    "%%time \n",
    "matrix_fact = KernelMF(n_epochs = 20, n_factors = 100, verbose = 1, lr = 0.5, reg = 0.005, kernel='rbf')\n",
    "matrix_fact.fit(X_train, y_train)\n",
    "\n",
    "pred = matrix_fact.predict(X_test)\n",
    "rmse = mean_squared_error(y_test, pred, squared = False)\n",
    "\n",
    "print(f'\\nTest RMSE: {rmse:.4f}')"
   ]
  },
  {
   "cell_type": "markdown",
   "metadata": {},
   "source": [
    "# Scikit-learn compatability"
   ]
  },
  {
   "cell_type": "code",
   "execution_count": 15,
   "metadata": {},
   "outputs": [
    {
     "name": "stdout",
     "output_type": "stream",
     "text": [
      "Fitting 5 folds for each of 81 candidates, totalling 405 fits\n"
     ]
    },
    {
     "name": "stderr",
     "output_type": "stream",
     "text": [
      "[Parallel(n_jobs=-1)]: Using backend LokyBackend with 4 concurrent workers.\n",
      "[Parallel(n_jobs=-1)]: Done  42 tasks      | elapsed:   17.7s\n",
      "[Parallel(n_jobs=-1)]: Done 192 tasks      | elapsed:   39.8s\n",
      "[Parallel(n_jobs=-1)]: Done 405 out of 405 | elapsed:  1.9min finished\n"
     ]
    },
    {
     "data": {
      "text/plain": [
       "GridSearchCV(cv=5, estimator=KernelMF(gamma=0.01, verbose=0), n_jobs=-1,\n",
       "             param_grid={'kernel': ['linear', 'sigmoid', 'rbf'],\n",
       "                         'n_epochs': [10, 20, 50], 'n_factors': [10, 20, 50],\n",
       "                         'reg': [0, 0.005, 0.1]},\n",
       "             scoring='neg_root_mean_squared_error', verbose=1)"
      ]
     },
     "execution_count": 15,
     "metadata": {},
     "output_type": "execute_result"
    }
   ],
   "source": [
    "from sklearn.model_selection import GridSearchCV, ParameterGrid\n",
    "\n",
    "param_grid = {\n",
    "    'kernel': ['linear', 'sigmoid', 'rbf'],\n",
    "    'n_factors': [10, 20, 50],\n",
    "    'n_epochs': [10, 20, 50],\n",
    "    'reg': [0, 0.005, 0.1]\n",
    "}\n",
    "\n",
    "grid_search = GridSearchCV(KernelMF(verbose=0), scoring = 'neg_root_mean_squared_error', param_grid=param_grid, n_jobs=-1, cv=5, verbose=1)\n",
    "grid_search.fit(X_train, y_train)"
   ]
  },
  {
   "cell_type": "code",
   "execution_count": 16,
   "metadata": {},
   "outputs": [
    {
     "data": {
      "text/plain": [
       "-0.9252857357209816"
      ]
     },
     "execution_count": 16,
     "metadata": {},
     "output_type": "execute_result"
    },
    {
     "data": {
      "text/plain": [
       "{'kernel': 'linear', 'n_epochs': 50, 'n_factors': 50, 'reg': 0.1}"
      ]
     },
     "execution_count": 16,
     "metadata": {},
     "output_type": "execute_result"
    }
   ],
   "source": [
    "grid_search.best_score_\n",
    "grid_search.best_params_"
   ]
  }
 ],
 "metadata": {
  "kernelspec": {
   "display_name": "Python [conda env:test]",
   "language": "python",
   "name": "conda-env-test-py"
  },
  "language_info": {
   "codemirror_mode": {
    "name": "ipython",
    "version": 3
   },
   "file_extension": ".py",
   "mimetype": "text/x-python",
   "name": "python",
   "nbconvert_exporter": "python",
   "pygments_lexer": "ipython3",
   "version": "3.7.7"
  },
  "toc-autonumbering": true,
  "toc-showcode": false,
  "toc-showmarkdowntxt": false,
  "toc-showtags": false
 },
 "nbformat": 4,
 "nbformat_minor": 4
}
