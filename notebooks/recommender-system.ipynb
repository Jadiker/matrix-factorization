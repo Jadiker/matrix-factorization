{
 "cells": [
  {
   "cell_type": "code",
   "execution_count": 106,
   "metadata": {
    "tags": []
   },
   "outputs": [
    {
     "name": "stdout",
     "output_type": "stream",
     "text": [
      "The autoreload extension is already loaded. To reload it, use:\n",
      "  %reload_ext autoreload\n"
     ]
    }
   ],
   "source": [
    "# Data manipulation\n",
    "import numpy as np\n",
    "import pandas as pd\n",
    "pd.options.display.max_rows = 100\n",
    "\n",
    "# Recommender systems\n",
    "from sklearn.metrics import mean_absolute_error, mean_squared_error\n",
    "from sklearn.model_selection import train_test_split\n",
    "import surprise as sp\n",
    "\n",
    "# Other\n",
    "import os\n",
    "import random\n",
    "import sys\n",
    "\n",
    "# Custom modules\n",
    "module_path = os.path.abspath(os.path.join('..'))\n",
    "if module_path not in sys.path:\n",
    "    sys.path.append(module_path)\n",
    "from src import BaselineModel, MatrixFactorization, train_update_test_split\n",
    "\n",
    "# Reload imported code\n",
    "%load_ext autoreload\n",
    "%autoreload 2\n",
    "\n",
    "rand_seed = 2\n",
    "np.random.seed(rand_seed)\n",
    "random.seed(rand_seed)"
   ]
  },
  {
   "cell_type": "markdown",
   "metadata": {},
   "source": [
    "## Purpose"
   ]
  },
  {
   "cell_type": "markdown",
   "metadata": {},
   "source": [
    "This notebook shows some examples on how to use the package using the classic movielens dataset"
   ]
  },
  {
   "cell_type": "markdown",
   "metadata": {},
   "source": [
    "## Load data"
   ]
  },
  {
   "cell_type": "markdown",
   "metadata": {},
   "source": [
    "**Movie data found here https://grouplens.org/datasets/movielens/**"
   ]
  },
  {
   "cell_type": "code",
   "execution_count": 212,
   "metadata": {},
   "outputs": [],
   "source": [
    "cols = ['user_id', 'item_id', 'rating', 'timestamp']\n",
    "movie_data = pd.read_csv('../data/ml-1m/ratings.dat', names = cols, sep = '::', usecols=[0, 1, 2], engine='python')\n",
    "\n",
    "# Prepare data\n",
    "train, test = train_test_split(movie_data, test_size=0.2)\n",
    "\n",
    "# Prepare data for online learning\n",
    "train_initial, train_update, test_update = train_update_test_split(movie_data, frac_new_users=0.2)"
   ]
  },
  {
   "cell_type": "markdown",
   "metadata": {},
   "source": [
    "## Simple model with global mean"
   ]
  },
  {
   "cell_type": "markdown",
   "metadata": {},
   "source": [
    "This is similar to just the global standard deviation"
   ]
  },
  {
   "cell_type": "code",
   "execution_count": 213,
   "metadata": {
    "tags": []
   },
   "outputs": [
    {
     "name": "stdout",
     "output_type": "stream",
     "text": [
      "\n",
      "Test RMSE: 1.117783\n"
     ]
    }
   ],
   "source": [
    "global_mean = train['rating'].mean()\n",
    "pred = [global_mean for _ in range(test.shape[0])]\n",
    "\n",
    "rmse = mean_squared_error(test['rating'], pred, squared = False)\n",
    "\n",
    "print(f'\\nTest RMSE: {rmse:4f}')"
   ]
  },
  {
   "cell_type": "markdown",
   "metadata": {},
   "source": [
    "## Baseline Model with biases"
   ]
  },
  {
   "cell_type": "markdown",
   "metadata": {},
   "source": [
    "### SGD"
   ]
  },
  {
   "cell_type": "code",
   "execution_count": 214,
   "metadata": {
    "tags": []
   },
   "outputs": [
    {
     "name": "stdout",
     "output_type": "stream",
     "text": [
      "Epoch  1 / 20  -  train_rmse: 0.916291295920267\n",
      "Epoch  2 / 20  -  train_rmse: 0.9058303139253466\n",
      "Epoch  3 / 20  -  train_rmse: 0.9025221071941208\n",
      "Epoch  4 / 20  -  train_rmse: 0.9010567557199297\n",
      "Epoch  5 / 20  -  train_rmse: 0.900289130516374\n",
      "Epoch  6 / 20  -  train_rmse: 0.8998424440258098\n",
      "Epoch  7 / 20  -  train_rmse: 0.899562213999701\n",
      "Epoch  8 / 20  -  train_rmse: 0.89937586020524\n",
      "Epoch  9 / 20  -  train_rmse: 0.8992459097976333\n",
      "Epoch  10 / 20  -  train_rmse: 0.8991516023604073\n",
      "Epoch  11 / 20  -  train_rmse: 0.8990807803821095\n",
      "Epoch  12 / 20  -  train_rmse: 0.8990259950662489\n",
      "Epoch  13 / 20  -  train_rmse: 0.8989825065050737\n",
      "Epoch  14 / 20  -  train_rmse: 0.8989471990614153\n",
      "Epoch  15 / 20  -  train_rmse: 0.8989179657736619\n",
      "Epoch  16 / 20  -  train_rmse: 0.8988933452724307\n",
      "Epoch  17 / 20  -  train_rmse: 0.8988723004606296\n",
      "Epoch  18 / 20  -  train_rmse: 0.8988540796981623\n",
      "Epoch  19 / 20  -  train_rmse: 0.8988381275269515\n",
      "Epoch  20 / 20  -  train_rmse: 0.8988240259640466\n",
      "\n",
      "Test RMSE: 0.9098\n",
      "Wall time: 439 ms\n"
     ]
    }
   ],
   "source": [
    "%%time\n",
    "\n",
    "baseline_model = BaselineModel(n_epochs = 20, reg = 0.005, verbose=1)\n",
    "baseline_model.fit(train)\n",
    "\n",
    "pred = baseline_model.predict(test)\n",
    "rmse = mean_squared_error(test['rating'], pred, squared = False)\n",
    "\n",
    "print(f'\\nTest RMSE: {rmse:.4f}')"
   ]
  },
  {
   "cell_type": "markdown",
   "metadata": {},
   "source": [
    "### ALS"
   ]
  },
  {
   "cell_type": "code",
   "execution_count": 215,
   "metadata": {
    "tags": []
   },
   "outputs": [
    {
     "name": "stdout",
     "output_type": "stream",
     "text": [
      "Epoch  1 / 20  -  train_rmse: 0.9180820099926396\n",
      "Epoch  2 / 20  -  train_rmse: 0.8976375884887955\n",
      "Epoch  3 / 20  -  train_rmse: 0.8966705160265632\n",
      "Epoch  4 / 20  -  train_rmse: 0.89661202822231\n",
      "Epoch  5 / 20  -  train_rmse: 0.8966073177045732\n",
      "Epoch  6 / 20  -  train_rmse: 0.8966067032334587\n",
      "Epoch  7 / 20  -  train_rmse: 0.8966065678960716\n",
      "Epoch  8 / 20  -  train_rmse: 0.8966065182762025\n",
      "Epoch  9 / 20  -  train_rmse: 0.896606487693043\n",
      "Epoch  10 / 20  -  train_rmse: 0.8966064617486386\n",
      "Epoch  11 / 20  -  train_rmse: 0.8966064370680196\n",
      "Epoch  12 / 20  -  train_rmse: 0.8966064128404503\n",
      "Epoch  13 / 20  -  train_rmse: 0.8966063888688445\n",
      "Epoch  14 / 20  -  train_rmse: 0.8966063651041888\n",
      "Epoch  15 / 20  -  train_rmse: 0.8966063415332692\n",
      "Epoch  16 / 20  -  train_rmse: 0.8966063181516986\n",
      "Epoch  17 / 20  -  train_rmse: 0.8966062949570798\n",
      "Epoch  18 / 20  -  train_rmse: 0.8966062719475106\n",
      "Epoch  19 / 20  -  train_rmse: 0.8966062491213108\n",
      "Epoch  20 / 20  -  train_rmse: 0.8966062264769168\n",
      "\n",
      "Test RMSE: 0.9083\n",
      "Wall time: 457 ms\n"
     ]
    }
   ],
   "source": [
    "%%time\n",
    "\n",
    "baseline_model = BaselineModel(method='als', n_epochs = 20, reg = 0.5, verbose=1)\n",
    "baseline_model.fit(train)\n",
    "\n",
    "pred = baseline_model.predict(test)\n",
    "rmse = mean_squared_error(test['rating'], pred, squared = False)\n",
    "\n",
    "print(f'\\nTest RMSE: {rmse:.4f}')"
   ]
  },
  {
   "cell_type": "markdown",
   "metadata": {},
   "source": [
    "### Updating with new users"
   ]
  },
  {
   "cell_type": "code",
   "execution_count": 216,
   "metadata": {
    "tags": []
   },
   "outputs": [
    {
     "name": "stdout",
     "output_type": "stream",
     "text": [
      "Epoch  1 / 20  -  train_rmse: 0.9222551151837987\n",
      "Epoch  2 / 20  -  train_rmse: 0.9104955177975218\n",
      "Epoch  3 / 20  -  train_rmse: 0.9073286619098914\n",
      "Epoch  4 / 20  -  train_rmse: 0.9059619115473901\n",
      "Epoch  5 / 20  -  train_rmse: 0.9052502769074252\n",
      "Epoch  6 / 20  -  train_rmse: 0.9048341738159744\n",
      "Epoch  7 / 20  -  train_rmse: 0.9045697185313493\n",
      "Epoch  8 / 20  -  train_rmse: 0.9043903944996496\n",
      "Epoch  9 / 20  -  train_rmse: 0.9042622655119018\n",
      "Epoch  10 / 20  -  train_rmse: 0.9041666970748231\n",
      "Epoch  11 / 20  -  train_rmse: 0.9040928412098005\n",
      "Epoch  12 / 20  -  train_rmse: 0.9040340673839535\n",
      "Epoch  13 / 20  -  train_rmse: 0.903986148670051\n",
      "Epoch  14 / 20  -  train_rmse: 0.9039462883988072\n",
      "Epoch  15 / 20  -  train_rmse: 0.9039125736631315\n",
      "Epoch  16 / 20  -  train_rmse: 0.9038836563415112\n",
      "Epoch  17 / 20  -  train_rmse: 0.9038585604478493\n",
      "Epoch  18 / 20  -  train_rmse: 0.9038365621496433\n",
      "Epoch  19 / 20  -  train_rmse: 0.903817112916474\n",
      "Epoch  20 / 20  -  train_rmse: 0.9037997890025076\n"
     ]
    }
   ],
   "source": [
    "baseline_model = BaselineModel(method='sgd', n_epochs = 20, lr=0.01, reg = 0.05, verbose=1)\n",
    "baseline_model.fit(train_initial)\n",
    "\n",
    "user_biases = baseline_model.user_biases"
   ]
  },
  {
   "cell_type": "code",
   "execution_count": 217,
   "metadata": {
    "tags": []
   },
   "outputs": [
    {
     "name": "stdout",
     "output_type": "stream",
     "text": [
      "Epoch  1 / 20  -  train_rmse: 0.9488961953765018\n",
      "Epoch  2 / 20  -  train_rmse: 0.9362227321026241\n",
      "Epoch  3 / 20  -  train_rmse: 0.9279229038443937\n",
      "Epoch  4 / 20  -  train_rmse: 0.922089363344399\n",
      "Epoch  5 / 20  -  train_rmse: 0.9177689098423024\n",
      "Epoch  6 / 20  -  train_rmse: 0.9144398208093097\n",
      "Epoch  7 / 20  -  train_rmse: 0.9117947393896905\n",
      "Epoch  8 / 20  -  train_rmse: 0.9096415235664184\n",
      "Epoch  9 / 20  -  train_rmse: 0.9078541105214077\n",
      "Epoch  10 / 20  -  train_rmse: 0.9063464234556696\n",
      "Epoch  11 / 20  -  train_rmse: 0.9050576869564634\n",
      "Epoch  12 / 20  -  train_rmse: 0.9039437495333479\n",
      "Epoch  13 / 20  -  train_rmse: 0.9029717394330362\n",
      "Epoch  14 / 20  -  train_rmse: 0.9021166547079046\n",
      "Epoch  15 / 20  -  train_rmse: 0.9013591197496272\n",
      "Epoch  16 / 20  -  train_rmse: 0.9006838691369248\n",
      "Epoch  17 / 20  -  train_rmse: 0.9000786984057629\n",
      "Epoch  18 / 20  -  train_rmse: 0.8995337223935118\n",
      "Epoch  19 / 20  -  train_rmse: 0.8990408408895711\n",
      "Epoch  20 / 20  -  train_rmse: 0.8985933469208418\n",
      "\n",
      "Test RMSE: 0.9047\n",
      "Wall time: 82.3 ms\n"
     ]
    }
   ],
   "source": [
    "%%time\n",
    "baseline_model.update_users(train_update, n_epochs=20, lr=0.001, verbose=1)\n",
    "pred = baseline_model.predict(test_update)\n",
    "rmse = mean_squared_error(test_update['rating'], pred, squared = False)\n",
    "\n",
    "print(f'\\nTest RMSE: {rmse:.4f}')"
   ]
  },
  {
   "cell_type": "markdown",
   "metadata": {},
   "source": [
    "## Matrix Factorization"
   ]
  },
  {
   "cell_type": "code",
   "execution_count": 218,
   "metadata": {
    "tags": []
   },
   "outputs": [
    {
     "name": "stdout",
     "output_type": "stream",
     "text": [
      "Epoch  1 / 20  -  train_rmse: 1.0133183676130273\n",
      "Epoch  2 / 20  -  train_rmse: 0.9739939909084588\n",
      "Epoch  3 / 20  -  train_rmse: 0.9527725729940393\n",
      "Epoch  4 / 20  -  train_rmse: 0.9391270521722095\n",
      "Epoch  5 / 20  -  train_rmse: 0.9293582679036712\n",
      "Epoch  6 / 20  -  train_rmse: 0.9218435556790232\n",
      "Epoch  7 / 20  -  train_rmse: 0.9157609902775945\n",
      "Epoch  8 / 20  -  train_rmse: 0.9106475148366705\n",
      "Epoch  9 / 20  -  train_rmse: 0.9062199750714944\n",
      "Epoch  10 / 20  -  train_rmse: 0.9022936451703484\n",
      "Epoch  11 / 20  -  train_rmse: 0.8987415394475611\n",
      "Epoch  12 / 20  -  train_rmse: 0.895472502322115\n",
      "Epoch  13 / 20  -  train_rmse: 0.89241865011766\n",
      "Epoch  14 / 20  -  train_rmse: 0.8895277869678401\n",
      "Epoch  15 / 20  -  train_rmse: 0.886758619591924\n",
      "Epoch  16 / 20  -  train_rmse: 0.8840776263193174\n",
      "Epoch  17 / 20  -  train_rmse: 0.8814569478488512\n",
      "Epoch  18 / 20  -  train_rmse: 0.878872935340008\n",
      "Epoch  19 / 20  -  train_rmse: 0.8763051383832647\n",
      "Epoch  20 / 20  -  train_rmse: 0.8737355991999893\n",
      "\n",
      "Test RMSE: 0.9160\n",
      "Wall time: 6.68 s\n"
     ]
    }
   ],
   "source": [
    "%%time \n",
    "matrix_fact = MatrixFactorization(n_epochs = 20, n_factors = 100, verbose = 1, lr = 0.001, reg = 0.005)\n",
    "matrix_fact.fit(train)\n",
    "\n",
    "pred = matrix_fact.predict(test)\n",
    "rmse = mean_squared_error(test['rating'], pred, squared = False)\n",
    "\n",
    "print(f'\\nTest RMSE: {rmse:.4f}')"
   ]
  },
  {
   "cell_type": "markdown",
   "metadata": {},
   "source": [
    "### Getting list of recommendations for a user"
   ]
  },
  {
   "cell_type": "code",
   "execution_count": 229,
   "metadata": {},
   "outputs": [
    {
     "data": {
      "text/html": [
       "<div>\n",
       "<style scoped>\n",
       "    .dataframe tbody tr th:only-of-type {\n",
       "        vertical-align: middle;\n",
       "    }\n",
       "\n",
       "    .dataframe tbody tr th {\n",
       "        vertical-align: top;\n",
       "    }\n",
       "\n",
       "    .dataframe thead th {\n",
       "        text-align: right;\n",
       "    }\n",
       "</style>\n",
       "<table border=\"1\" class=\"dataframe\">\n",
       "  <thead>\n",
       "    <tr style=\"text-align: right;\">\n",
       "      <th></th>\n",
       "      <th>user_id</th>\n",
       "      <th>item_id</th>\n",
       "      <th>rating_pred</th>\n",
       "    </tr>\n",
       "  </thead>\n",
       "  <tbody>\n",
       "    <tr>\n",
       "      <th>1250</th>\n",
       "      <td>200</td>\n",
       "      <td>922</td>\n",
       "      <td>4.758032</td>\n",
       "    </tr>\n",
       "    <tr>\n",
       "      <th>1330</th>\n",
       "      <td>200</td>\n",
       "      <td>1207</td>\n",
       "      <td>4.717769</td>\n",
       "    </tr>\n",
       "    <tr>\n",
       "      <th>1199</th>\n",
       "      <td>200</td>\n",
       "      <td>2019</td>\n",
       "      <td>4.647636</td>\n",
       "    </tr>\n",
       "    <tr>\n",
       "      <th>66</th>\n",
       "      <td>200</td>\n",
       "      <td>1250</td>\n",
       "      <td>4.636333</td>\n",
       "    </tr>\n",
       "    <tr>\n",
       "      <th>593</th>\n",
       "      <td>200</td>\n",
       "      <td>50</td>\n",
       "      <td>4.634492</td>\n",
       "    </tr>\n",
       "    <tr>\n",
       "      <th>71</th>\n",
       "      <td>200</td>\n",
       "      <td>260</td>\n",
       "      <td>4.630086</td>\n",
       "    </tr>\n",
       "    <tr>\n",
       "      <th>1206</th>\n",
       "      <td>200</td>\n",
       "      <td>905</td>\n",
       "      <td>4.622763</td>\n",
       "    </tr>\n",
       "    <tr>\n",
       "      <th>633</th>\n",
       "      <td>200</td>\n",
       "      <td>908</td>\n",
       "      <td>4.594477</td>\n",
       "    </tr>\n",
       "    <tr>\n",
       "      <th>322</th>\n",
       "      <td>200</td>\n",
       "      <td>1208</td>\n",
       "      <td>4.584690</td>\n",
       "    </tr>\n",
       "    <tr>\n",
       "      <th>45</th>\n",
       "      <td>200</td>\n",
       "      <td>2858</td>\n",
       "      <td>4.579518</td>\n",
       "    </tr>\n",
       "  </tbody>\n",
       "</table>\n",
       "</div>"
      ],
      "text/plain": [
       "      user_id  item_id  rating_pred\n",
       "1250      200      922     4.758032\n",
       "1330      200     1207     4.717769\n",
       "1199      200     2019     4.647636\n",
       "66        200     1250     4.636333\n",
       "593       200       50     4.634492\n",
       "71        200      260     4.630086\n",
       "1206      200      905     4.622763\n",
       "633       200      908     4.594477\n",
       "322       200     1208     4.584690\n",
       "45        200     2858     4.579518"
      ]
     },
     "execution_count": 229,
     "metadata": {},
     "output_type": "execute_result"
    }
   ],
   "source": [
    "user = 200\n",
    "items_known = train.query('user_id == @user')['item_id']\n",
    "matrix_fact.recommend(user=user, items_known=items_known)"
   ]
  },
  {
   "cell_type": "markdown",
   "metadata": {},
   "source": [
    "### Updating with new users"
   ]
  },
  {
   "cell_type": "code",
   "execution_count": 208,
   "metadata": {
    "tags": []
   },
   "outputs": [
    {
     "name": "stdout",
     "output_type": "stream",
     "text": [
      "Epoch  1 / 20  -  train_rmse: 1.0197651740162348\n",
      "Epoch  2 / 20  -  train_rmse: 0.9868537886030636\n",
      "Epoch  3 / 20  -  train_rmse: 0.9705247035806774\n",
      "Epoch  4 / 20  -  train_rmse: 0.9607933752841796\n",
      "Epoch  5 / 20  -  train_rmse: 0.9543514988978699\n",
      "Epoch  6 / 20  -  train_rmse: 0.9497838824946246\n",
      "Epoch  7 / 20  -  train_rmse: 0.9463846087803535\n",
      "Epoch  8 / 20  -  train_rmse: 0.9437624710821482\n",
      "Epoch  9 / 20  -  train_rmse: 0.9416832366111585\n",
      "Epoch  10 / 20  -  train_rmse: 0.9399980808855553\n",
      "Epoch  11 / 20  -  train_rmse: 0.9386078918598724\n",
      "Epoch  12 / 20  -  train_rmse: 0.9374440972651416\n",
      "Epoch  13 / 20  -  train_rmse: 0.9364577341770643\n",
      "Epoch  14 / 20  -  train_rmse: 0.9356129035878681\n",
      "Epoch  15 / 20  -  train_rmse: 0.93488268564152\n",
      "Epoch  16 / 20  -  train_rmse: 0.9342464992142986\n",
      "Epoch  17 / 20  -  train_rmse: 0.9336883425899541\n",
      "Epoch  18 / 20  -  train_rmse: 0.9331955898802641\n",
      "Epoch  19 / 20  -  train_rmse: 0.9327581483658285\n",
      "Epoch  20 / 20  -  train_rmse: 0.9323678563411486\n"
     ]
    },
    {
     "data": {
      "text/plain": [
       "MatrixFactorization(lr=0.001, n_epochs=20, reg=0.5)"
      ]
     },
     "execution_count": 208,
     "metadata": {},
     "output_type": "execute_result"
    }
   ],
   "source": [
    "matrix_fact = MatrixFactorization(n_epochs = 20, n_factors = 100, verbose = 1, lr = 0.001, reg = 0.5)\n",
    "matrix_fact.fit(train_initial)"
   ]
  },
  {
   "cell_type": "code",
   "execution_count": 209,
   "metadata": {
    "tags": []
   },
   "outputs": [
    {
     "name": "stdout",
     "output_type": "stream",
     "text": [
      "Epoch  1 / 20  -  train_rmse: 0.9646540237204959\n",
      "Epoch  2 / 20  -  train_rmse: 0.9518434410454569\n",
      "Epoch  3 / 20  -  train_rmse: 0.9442733344172113\n",
      "Epoch  4 / 20  -  train_rmse: 0.9392690285421632\n",
      "Epoch  5 / 20  -  train_rmse: 0.9357021214843568\n",
      "Epoch  6 / 20  -  train_rmse: 0.9330206454181479\n",
      "Epoch  7 / 20  -  train_rmse: 0.9309240664004891\n",
      "Epoch  8 / 20  -  train_rmse: 0.9292350818398317\n",
      "Epoch  9 / 20  -  train_rmse: 0.927842347411242\n",
      "Epoch  10 / 20  -  train_rmse: 0.9266723429219486\n",
      "Epoch  11 / 20  -  train_rmse: 0.9256744833955226\n",
      "Epoch  12 / 20  -  train_rmse: 0.9248127495947855\n",
      "Epoch  13 / 20  -  train_rmse: 0.9240607410385152\n",
      "Epoch  14 / 20  -  train_rmse: 0.9233986246488626\n",
      "Epoch  15 / 20  -  train_rmse: 0.9228111822962562\n",
      "Epoch  16 / 20  -  train_rmse: 0.9222865209610683\n",
      "Epoch  17 / 20  -  train_rmse: 0.9218151964373533\n",
      "Epoch  18 / 20  -  train_rmse: 0.9213896030893373\n",
      "Epoch  19 / 20  -  train_rmse: 0.9210035394539674\n",
      "Epoch  20 / 20  -  train_rmse: 0.9206518929042135\n",
      "\n",
      "Test RMSE: 0.9288\n",
      "Wall time: 1.32 s\n"
     ]
    }
   ],
   "source": [
    "%%time\n",
    "\n",
    "# Update model with new users\n",
    "matrix_fact.update_users(train_update, lr=0.001, n_epochs=20, verbose=1)\n",
    "pred = matrix_fact.predict(test_update)\n",
    "rmse = mean_squared_error(test_update['rating'], pred, squared = False)\n",
    "\n",
    "print(f'\\nTest RMSE: {rmse:.4f}')"
   ]
  },
  {
   "cell_type": "markdown",
   "metadata": {},
   "source": [
    "## Surprise"
   ]
  },
  {
   "cell_type": "code",
   "execution_count": 11,
   "metadata": {},
   "outputs": [],
   "source": [
    "# Load the movielens-100k dataset (download it if needed),\n",
    "data = sp.Dataset.load_builtin('ml-100k')"
   ]
  },
  {
   "cell_type": "code",
   "execution_count": 12,
   "metadata": {
    "tags": []
   },
   "outputs": [
    {
     "name": "stdout",
     "output_type": "stream",
     "text": [
      "Evaluating RMSE, MAE of algorithm SVD on 5 split(s).\n",
      "\n",
      "                  Fold 1  Fold 2  Fold 3  Fold 4  Fold 5  Mean    Std     \n",
      "RMSE (testset)    0.9397  0.9355  0.9292  0.9388  0.9341  0.9355  0.0037  \n",
      "MAE (testset)     0.7399  0.7374  0.7332  0.7386  0.7353  0.7369  0.0024  \n",
      "Fit time          4.25    4.16    4.22    4.22    4.23    4.22    0.03    \n",
      "Test time         0.17    0.12    0.11    0.16    0.12    0.14    0.02    \n",
      "Wall time: 22.4 s\n"
     ]
    },
    {
     "data": {
      "text/plain": [
       "{'test_rmse': array([0.93967479, 0.93553074, 0.92923385, 0.93884081, 0.93411477]),\n",
       " 'test_mae': array([0.73994964, 0.73736547, 0.73319142, 0.738612  , 0.73534611]),\n",
       " 'fit_time': (4.249607563018799,\n",
       "  4.164863586425781,\n",
       "  4.2217137813568115,\n",
       "  4.221713066101074,\n",
       "  4.229688882827759),\n",
       " 'test_time': (0.16755151748657227,\n",
       "  0.12466549873352051,\n",
       "  0.11167263984680176,\n",
       "  0.16453123092651367,\n",
       "  0.12067866325378418)}"
      ]
     },
     "execution_count": 12,
     "metadata": {},
     "output_type": "execute_result"
    }
   ],
   "source": [
    "%%time\n",
    "# We'll use the famous SVD algorithm.\n",
    "algo = sp.SVD()\n",
    "\n",
    "# Run 5-fold cross-validation and print results\n",
    "sp.model_selection.cross_validate(algo, data, measures=['RMSE', 'MAE'], cv=5, verbose=True)"
   ]
  },
  {
   "cell_type": "code",
   "execution_count": 167,
   "metadata": {
    "tags": []
   },
   "outputs": [
    {
     "name": "stdout",
     "output_type": "stream",
     "text": [
      "Estimating biases using als...\n",
      "RMSE: 0.9106\n",
      "Wall time: 7.84 s\n"
     ]
    },
    {
     "data": {
      "text/plain": [
       "0.9106051680456124"
      ]
     },
     "execution_count": 167,
     "metadata": {},
     "output_type": "execute_result"
    }
   ],
   "source": [
    "%%time\n",
    "\n",
    "# surprise_svd = sp.SVD(lr_all=0.001, reg_all=0.005, n_epochs=20, n_factors=50)\n",
    "surprise_svd = sp.BaselineOnly()\n",
    "\n",
    "reader = sp.Reader()\n",
    "\n",
    "data_train = sp.Dataset.load_from_df(train[['user_id', 'item_id', 'rating']], reader = reader).build_full_trainset()\n",
    "data_test = sp.Dataset.load_from_df(test[['user_id', 'item_id', 'rating']], reader = reader).build_full_trainset().build_testset()\n",
    "surprise_svd.fit(data_train)\n",
    "\n",
    "pred = surprise_svd.test(data_test)\n",
    "sp.accuracy.rmse(pred)"
   ]
  }
 ],
 "metadata": {
  "kernelspec": {
   "display_name": "Python 3.8.3 64-bit ('recommend': conda)",
   "language": "python",
   "name": "python38364bitrecommendcondade76a3c31eb343bd84fdde91589c0bfc"
  },
  "language_info": {
   "codemirror_mode": {
    "name": "ipython",
    "version": 3
   },
   "file_extension": ".py",
   "mimetype": "text/x-python",
   "name": "python",
   "nbconvert_exporter": "python",
   "pygments_lexer": "ipython3",
   "version": "3.7.7"
  }
 },
 "nbformat": 4,
 "nbformat_minor": 4
}
