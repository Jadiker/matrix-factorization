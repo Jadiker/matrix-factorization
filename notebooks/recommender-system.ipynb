{
 "cells": [
  {
   "cell_type": "code",
   "execution_count": 1,
   "metadata": {
    "tags": []
   },
   "outputs": [],
   "source": [
    "# Data manipulation\n",
    "import numpy as np\n",
    "import pandas as pd\n",
    "pd.options.display.max_rows = 100\n",
    "\n",
    "# Recommender systems\n",
    "from sklearn.metrics import mean_absolute_error, mean_squared_error\n",
    "from sklearn.model_selection import train_test_split\n",
    "import surprise as sp\n",
    "\n",
    "# Other\n",
    "import os\n",
    "import random\n",
    "import sys\n",
    "\n",
    "# Reload imported code\n",
    "%load_ext autoreload\n",
    "%autoreload 2\n",
    "\n",
    "# Custom modules\n",
    "module_path = os.path.abspath(os.path.join('..'))\n",
    "if module_path not in sys.path:\n",
    "    sys.path.append(module_path)\n",
    "    \n",
    "from src import BaselineModel, MatrixFactorization, train_update_test_split\n",
    "\n",
    "rand_seed = 2\n",
    "np.random.seed(rand_seed)\n",
    "random.seed(rand_seed)"
   ]
  },
  {
   "cell_type": "markdown",
   "metadata": {},
   "source": [
    "## Load data"
   ]
  },
  {
   "cell_type": "markdown",
   "metadata": {},
   "source": [
    "**Movie data found here https://grouplens.org/datasets/movielens/**"
   ]
  },
  {
   "cell_type": "code",
   "execution_count": 2,
   "metadata": {},
   "outputs": [],
   "source": [
    "cols = ['user_id', 'item_id', 'rating', 'timestamp']\n",
    "movie_data = pd.read_csv('../data/ml-1m/ratings.dat', names = cols, sep = '::', usecols=[0, 1, 2], engine='python')\n",
    "\n",
    "# Prepare data\n",
    "train, test = train_test_split(movie_data, test_size=0.2)\n",
    "\n",
    "# Prepare data for online learning\n",
    "train_initial, train_update, test_update = train_update_test_split(movie_data, frac_new_users=0.2)"
   ]
  },
  {
   "cell_type": "markdown",
   "metadata": {},
   "source": [
    "## Simple model with global mean"
   ]
  },
  {
   "cell_type": "markdown",
   "metadata": {},
   "source": [
    "This is essentially just the global standard deviation"
   ]
  },
  {
   "cell_type": "code",
   "execution_count": 3,
   "metadata": {
    "tags": []
   },
   "outputs": [
    {
     "name": "stdout",
     "output_type": "stream",
     "text": [
      "\n",
      "Test RMSE: 1.117284\n",
      "\n",
      "Or equivalently the standard deviation: 1.117056401449951\n"
     ]
    }
   ],
   "source": [
    "global_mean = train['rating'].mean()\n",
    "pred = [global_mean for _ in range(test.shape[0])]\n",
    "\n",
    "rmse = mean_squared_error(test['rating'], pred, squared = False)\n",
    "\n",
    "print(f'\\nTest RMSE: {rmse:4f}')\n",
    "\n",
    "print(f\"\\nOr equivalently the standard deviation: {train['rating'].std()}\")"
   ]
  },
  {
   "cell_type": "markdown",
   "metadata": {},
   "source": [
    "## Baseline Model with biases"
   ]
  },
  {
   "cell_type": "markdown",
   "metadata": {},
   "source": [
    "### SGD"
   ]
  },
  {
   "cell_type": "code",
   "execution_count": 4,
   "metadata": {
    "tags": []
   },
   "outputs": [
    {
     "name": "stdout",
     "output_type": "stream",
     "text": [
      "Epoch  1 / 20  -  train_rmse: 0.9160605268044618\n",
      "Epoch  2 / 20  -  train_rmse: 0.9056052248600731\n",
      "Epoch  3 / 20  -  train_rmse: 0.9022922945725866\n",
      "Epoch  4 / 20  -  train_rmse: 0.9008197890805594\n",
      "Epoch  5 / 20  -  train_rmse: 0.90004570136268\n",
      "Epoch  6 / 20  -  train_rmse: 0.8995941283431694\n",
      "Epoch  7 / 20  -  train_rmse: 0.8993105442047119\n",
      "Epoch  8 / 20  -  train_rmse: 0.899122047751058\n",
      "Epoch  9 / 20  -  train_rmse: 0.8989908337794819\n",
      "Epoch  10 / 20  -  train_rmse: 0.8988958744519882\n",
      "Epoch  11 / 20  -  train_rmse: 0.898824815825671\n",
      "Epoch  12 / 20  -  train_rmse: 0.8987700702794992\n",
      "Epoch  13 / 20  -  train_rmse: 0.8987268014078751\n",
      "Epoch  14 / 20  -  train_rmse: 0.8986918269548304\n",
      "Epoch  15 / 20  -  train_rmse: 0.898662994107046\n",
      "Epoch  16 / 20  -  train_rmse: 0.8986388100197431\n",
      "Epoch  17 / 20  -  train_rmse: 0.898618216087896\n",
      "Epoch  18 / 20  -  train_rmse: 0.8986004461025785\n",
      "Epoch  19 / 20  -  train_rmse: 0.898584934890502\n",
      "Epoch  20 / 20  -  train_rmse: 0.898571258162793\n",
      "\n",
      "Test RMSE: 0.9120\n",
      "Wall time: 1.45 s\n"
     ]
    }
   ],
   "source": [
    "%%time\n",
    "\n",
    "baseline_model = BaselineModel(n_epochs = 20, reg = 0.005, verbose=1)\n",
    "baseline_model.fit(train)\n",
    "\n",
    "pred = baseline_model.predict(test)\n",
    "rmse = mean_squared_error(test['rating'], pred, squared = False)\n",
    "\n",
    "print(f'\\nTest RMSE: {rmse:.4f}')"
   ]
  },
  {
   "cell_type": "markdown",
   "metadata": {},
   "source": [
    "### ALS"
   ]
  },
  {
   "cell_type": "code",
   "execution_count": 5,
   "metadata": {
    "tags": []
   },
   "outputs": [
    {
     "name": "stdout",
     "output_type": "stream",
     "text": [
      "Epoch  1 / 20  -  train_rmse: 0.9176617885927044\n",
      "Epoch  2 / 20  -  train_rmse: 0.8971604837483708\n",
      "Epoch  3 / 20  -  train_rmse: 0.8961942712223132\n",
      "Epoch  4 / 20  -  train_rmse: 0.8961360919877193\n",
      "Epoch  5 / 20  -  train_rmse: 0.8961314250532659\n",
      "Epoch  6 / 20  -  train_rmse: 0.8961308182120774\n",
      "Epoch  7 / 20  -  train_rmse: 0.8961306848554272\n",
      "Epoch  8 / 20  -  train_rmse: 0.8961306360024888\n",
      "Epoch  9 / 20  -  train_rmse: 0.8961306058768967\n",
      "Epoch  10 / 20  -  train_rmse: 0.896130580306678\n",
      "Epoch  11 / 20  -  train_rmse: 0.8961305559767064\n",
      "Epoch  12 / 20  -  train_rmse: 0.8961305320922546\n",
      "Epoch  13 / 20  -  train_rmse: 0.8961305084604123\n",
      "Epoch  14 / 20  -  train_rmse: 0.8961304850332851\n",
      "Epoch  15 / 20  -  train_rmse: 0.8961304617980095\n",
      "Epoch  16 / 20  -  train_rmse: 0.8961304387501804\n",
      "Epoch  17 / 20  -  train_rmse: 0.8961304158874763\n",
      "Epoch  18 / 20  -  train_rmse: 0.8961303932080733\n",
      "Epoch  19 / 20  -  train_rmse: 0.8961303707102787\n",
      "Epoch  20 / 20  -  train_rmse: 0.8961303483924242\n",
      "\n",
      "Test RMSE: 0.9101\n",
      "Wall time: 1.1 s\n"
     ]
    }
   ],
   "source": [
    "%%time\n",
    "\n",
    "baseline_model = BaselineModel(method='als', n_epochs = 20, reg = 0.5, verbose=1)\n",
    "baseline_model.fit(train)\n",
    "\n",
    "pred = baseline_model.predict(test)\n",
    "rmse = mean_squared_error(test['rating'], pred, squared = False)\n",
    "\n",
    "print(f'\\nTest RMSE: {rmse:.4f}')"
   ]
  },
  {
   "cell_type": "markdown",
   "metadata": {},
   "source": [
    "### Updating with new users"
   ]
  },
  {
   "cell_type": "code",
   "execution_count": 6,
   "metadata": {
    "tags": []
   },
   "outputs": [
    {
     "name": "stdout",
     "output_type": "stream",
     "text": [
      "Epoch  1 / 20  -  train_rmse: 0.917957622300513\n",
      "Epoch  2 / 20  -  train_rmse: 0.9063452473554275\n",
      "Epoch  3 / 20  -  train_rmse: 0.9031838358128945\n",
      "Epoch  4 / 20  -  train_rmse: 0.9018213344663989\n",
      "Epoch  5 / 20  -  train_rmse: 0.9011136211672972\n",
      "Epoch  6 / 20  -  train_rmse: 0.9007003958585306\n",
      "Epoch  7 / 20  -  train_rmse: 0.9004377099085408\n",
      "Epoch  8 / 20  -  train_rmse: 0.9002592687764506\n",
      "Epoch  9 / 20  -  train_rmse: 0.9001313986781218\n",
      "Epoch  10 / 20  -  train_rmse: 0.9000356850623226\n",
      "Epoch  11 / 20  -  train_rmse: 0.8999614423500142\n",
      "Epoch  12 / 20  -  train_rmse: 0.8999021518801612\n",
      "Epoch  13 / 20  -  train_rmse: 0.8998536600787451\n",
      "Epoch  14 / 20  -  train_rmse: 0.8998132163090632\n",
      "Epoch  15 / 20  -  train_rmse: 0.8997789351870569\n",
      "Epoch  16 / 20  -  train_rmse: 0.899749483990946\n",
      "Epoch  17 / 20  -  train_rmse: 0.8997238944171748\n",
      "Epoch  18 / 20  -  train_rmse: 0.899701445537573\n",
      "Epoch  19 / 20  -  train_rmse: 0.8996815888605382\n",
      "Epoch  20 / 20  -  train_rmse: 0.8996638990334523\n"
     ]
    }
   ],
   "source": [
    "baseline_model = BaselineModel(method='sgd', n_epochs = 20, lr=0.01, reg = 0.05, verbose=1)\n",
    "baseline_model.fit(train_initial)\n",
    "\n",
    "user_biases = baseline_model.user_biases"
   ]
  },
  {
   "cell_type": "code",
   "execution_count": 7,
   "metadata": {
    "tags": []
   },
   "outputs": [
    {
     "name": "stdout",
     "output_type": "stream",
     "text": [
      "Epoch  1 / 20  -  train_rmse: 0.9663118338095819\n",
      "Epoch  2 / 20  -  train_rmse: 0.9527029131858415\n",
      "Epoch  3 / 20  -  train_rmse: 0.9440781749790527\n",
      "Epoch  4 / 20  -  train_rmse: 0.9381602217930907\n",
      "Epoch  5 / 20  -  train_rmse: 0.9338601056670158\n",
      "Epoch  6 / 20  -  train_rmse: 0.930598987901338\n",
      "Epoch  7 / 20  -  train_rmse: 0.9280424557723291\n",
      "Epoch  8 / 20  -  train_rmse: 0.9259846714487712\n",
      "Epoch  9 / 20  -  train_rmse: 0.9242925121637688\n",
      "Epoch  10 / 20  -  train_rmse: 0.9228763313930977\n",
      "Epoch  11 / 20  -  train_rmse: 0.9216736567787333\n",
      "Epoch  12 / 20  -  train_rmse: 0.9206396453001708\n",
      "Epoch  13 / 20  -  train_rmse: 0.9197412683231396\n",
      "Epoch  14 / 20  -  train_rmse: 0.9189536463105857\n",
      "Epoch  15 / 20  -  train_rmse: 0.9182576674000171\n",
      "Epoch  16 / 20  -  train_rmse: 0.9176383969553337\n",
      "Epoch  17 / 20  -  train_rmse: 0.9170839883423071\n",
      "Epoch  18 / 20  -  train_rmse: 0.9165849196853852\n",
      "Epoch  19 / 20  -  train_rmse: 0.9161334478156705\n",
      "Epoch  20 / 20  -  train_rmse: 0.9157232102002919\n",
      "\n",
      "Test RMSE: 0.9212\n",
      "Wall time: 446 ms\n"
     ]
    }
   ],
   "source": [
    "%%time\n",
    "baseline_model.update_users(train_update, n_epochs=20, lr=0.001, verbose=1)\n",
    "pred = baseline_model.predict(test_update)\n",
    "rmse = mean_squared_error(test_update['rating'], pred, squared = False)\n",
    "\n",
    "print(f'\\nTest RMSE: {rmse:.4f}')"
   ]
  },
  {
   "cell_type": "markdown",
   "metadata": {},
   "source": [
    "## Matrix Factorization"
   ]
  },
  {
   "cell_type": "code",
   "execution_count": 8,
   "metadata": {
    "tags": []
   },
   "outputs": [
    {
     "name": "stdout",
     "output_type": "stream",
     "text": [
      "Epoch  1 / 20  -  train_rmse: 1.0130595708059675\n",
      "Epoch  2 / 20  -  train_rmse: 0.9736301815027829\n",
      "Epoch  3 / 20  -  train_rmse: 0.9523725166773437\n",
      "Epoch  4 / 20  -  train_rmse: 0.9387101848933337\n",
      "Epoch  5 / 20  -  train_rmse: 0.9289324269879647\n",
      "Epoch  6 / 20  -  train_rmse: 0.9214137266030734\n",
      "Epoch  7 / 20  -  train_rmse: 0.9153311381743325\n",
      "Epoch  8 / 20  -  train_rmse: 0.9102210065253193\n",
      "Epoch  9 / 20  -  train_rmse: 0.905799748609798\n",
      "Epoch  10 / 20  -  train_rmse: 0.9018823390583373\n",
      "Epoch  11 / 20  -  train_rmse: 0.8983416079178681\n",
      "Epoch  12 / 20  -  train_rmse: 0.8950863153079484\n",
      "Epoch  13 / 20  -  train_rmse: 0.8920485764771771\n",
      "Epoch  14 / 20  -  train_rmse: 0.8891762616549006\n",
      "Epoch  15 / 20  -  train_rmse: 0.8864281961059287\n",
      "Epoch  16 / 20  -  train_rmse: 0.8837710152946995\n",
      "Epoch  17 / 20  -  train_rmse: 0.8811770416835768\n",
      "Epoch  18 / 20  -  train_rmse: 0.8786228176904035\n",
      "Epoch  19 / 20  -  train_rmse: 0.8760880763671156\n",
      "Epoch  20 / 20  -  train_rmse: 0.8735550153781546\n",
      "\n",
      "Test RMSE: 0.9179\n",
      "Wall time: 6.87 s\n"
     ]
    }
   ],
   "source": [
    "%%time \n",
    "matrix_fact = MatrixFactorization(n_epochs = 20, n_factors = 100, verbose = 1, lr = 0.001, reg = 0.005)\n",
    "matrix_fact.fit(train)\n",
    "\n",
    "pred = matrix_fact.predict(test)\n",
    "rmse = mean_squared_error(test['rating'], pred, squared = False)\n",
    "\n",
    "print(f'\\nTest RMSE: {rmse:.4f}')"
   ]
  },
  {
   "cell_type": "markdown",
   "metadata": {},
   "source": [
    "### Updating with new users"
   ]
  },
  {
   "cell_type": "code",
   "execution_count": 9,
   "metadata": {
    "tags": []
   },
   "outputs": [
    {
     "name": "stdout",
     "output_type": "stream",
     "text": [
      "Epoch  1 / 20  -  train_rmse: 1.013600881644264\n",
      "Epoch  2 / 20  -  train_rmse: 0.9810877273260235\n",
      "Epoch  3 / 20  -  train_rmse: 0.9650703504949346\n",
      "Epoch  4 / 20  -  train_rmse: 0.9555490886915851\n",
      "Epoch  5 / 20  -  train_rmse: 0.9492481848863172\n",
      "Epoch  6 / 20  -  train_rmse: 0.9447772063597116\n",
      "Epoch  7 / 20  -  train_rmse: 0.9414460807132315\n",
      "Epoch  8 / 20  -  train_rmse: 0.9388734404014725\n",
      "Epoch  9 / 20  -  train_rmse: 0.936831205616552\n",
      "Epoch  10 / 20  -  train_rmse: 0.9351744797049139\n",
      "Epoch  11 / 20  -  train_rmse: 0.9338067187946515\n",
      "Epoch  12 / 20  -  train_rmse: 0.9326610682160079\n",
      "Epoch  13 / 20  -  train_rmse: 0.9316897364879861\n",
      "Epoch  14 / 20  -  train_rmse: 0.9308576367575886\n",
      "Epoch  15 / 20  -  train_rmse: 0.9301384200286485\n",
      "Epoch  16 / 20  -  train_rmse: 0.9295119112272232\n",
      "Epoch  17 / 20  -  train_rmse: 0.9289624005826117\n",
      "Epoch  18 / 20  -  train_rmse: 0.9284774742870956\n",
      "Epoch  19 / 20  -  train_rmse: 0.9280471952987187\n",
      "Epoch  20 / 20  -  train_rmse: 0.9276635174495363\n"
     ]
    },
    {
     "data": {
      "text/plain": [
       "MatrixFactorization(lr=0.001, n_epochs=20, reg=0.5)"
      ]
     },
     "execution_count": 9,
     "metadata": {},
     "output_type": "execute_result"
    }
   ],
   "source": [
    "matrix_fact = MatrixFactorization(n_epochs = 20, n_factors = 100, verbose = 1, lr = 0.001, reg = 0.5)\n",
    "matrix_fact.fit(train_initial)"
   ]
  },
  {
   "cell_type": "code",
   "execution_count": 10,
   "metadata": {
    "tags": []
   },
   "outputs": [
    {
     "name": "stdout",
     "output_type": "stream",
     "text": [
      "Epoch  1 / 20  -  train_rmse: 0.9878377903377871\n",
      "Epoch  2 / 20  -  train_rmse: 0.9755328040280514\n",
      "Epoch  3 / 20  -  train_rmse: 0.967897803944037\n",
      "Epoch  4 / 20  -  train_rmse: 0.96270497883029\n",
      "Epoch  5 / 20  -  train_rmse: 0.958946071799832\n",
      "Epoch  6 / 20  -  train_rmse: 0.956099328365387\n",
      "Epoch  7 / 20  -  train_rmse: 0.9538684251537063\n",
      "Epoch  8 / 20  -  train_rmse: 0.9520728645290876\n",
      "Epoch  9 / 20  -  train_rmse: 0.9505964571331216\n",
      "Epoch  10 / 20  -  train_rmse: 0.9493610139884009\n",
      "Epoch  11 / 20  -  train_rmse: 0.9483119821166791\n",
      "Epoch  12 / 20  -  train_rmse: 0.9474101456391137\n",
      "Epoch  13 / 20  -  train_rmse: 0.9466265960514788\n",
      "Epoch  14 / 20  -  train_rmse: 0.9459395585645287\n",
      "Epoch  15 / 20  -  train_rmse: 0.9453323207173054\n",
      "Epoch  16 / 20  -  train_rmse: 0.9447918412209358\n",
      "Epoch  17 / 20  -  train_rmse: 0.9443077924670416\n",
      "Epoch  18 / 20  -  train_rmse: 0.9438718872706293\n",
      "Epoch  19 / 20  -  train_rmse: 0.9434773964045834\n",
      "Epoch  20 / 20  -  train_rmse: 0.9431187969062885\n",
      "\n",
      "Test RMSE: 0.9490\n",
      "Wall time: 1.19 s\n"
     ]
    }
   ],
   "source": [
    "%%time\n",
    "matrix_fact.update_users(train_update, lr=0.001, n_epochs=20, verbose=1)\n",
    "pred = matrix_fact.predict(test_update)\n",
    "rmse = mean_squared_error(test_update['rating'], pred, squared = False)\n",
    "\n",
    "print(f'\\nTest RMSE: {rmse:.4f}')"
   ]
  },
  {
   "cell_type": "markdown",
   "metadata": {},
   "source": [
    "## Surprise"
   ]
  },
  {
   "cell_type": "code",
   "execution_count": 11,
   "metadata": {},
   "outputs": [],
   "source": [
    "# Load the movielens-100k dataset (download it if needed),\n",
    "data = sp.Dataset.load_builtin('ml-100k')"
   ]
  },
  {
   "cell_type": "code",
   "execution_count": 12,
   "metadata": {
    "tags": []
   },
   "outputs": [
    {
     "name": "stdout",
     "output_type": "stream",
     "text": [
      "Evaluating RMSE, MAE of algorithm SVD on 5 split(s).\n",
      "\n",
      "                  Fold 1  Fold 2  Fold 3  Fold 4  Fold 5  Mean    Std     \n",
      "RMSE (testset)    0.9397  0.9355  0.9292  0.9388  0.9341  0.9355  0.0037  \n",
      "MAE (testset)     0.7399  0.7374  0.7332  0.7386  0.7353  0.7369  0.0024  \n",
      "Fit time          4.25    4.16    4.22    4.22    4.23    4.22    0.03    \n",
      "Test time         0.17    0.12    0.11    0.16    0.12    0.14    0.02    \n",
      "Wall time: 22.4 s\n"
     ]
    },
    {
     "data": {
      "text/plain": [
       "{'test_rmse': array([0.93967479, 0.93553074, 0.92923385, 0.93884081, 0.93411477]),\n",
       " 'test_mae': array([0.73994964, 0.73736547, 0.73319142, 0.738612  , 0.73534611]),\n",
       " 'fit_time': (4.249607563018799,\n",
       "  4.164863586425781,\n",
       "  4.2217137813568115,\n",
       "  4.221713066101074,\n",
       "  4.229688882827759),\n",
       " 'test_time': (0.16755151748657227,\n",
       "  0.12466549873352051,\n",
       "  0.11167263984680176,\n",
       "  0.16453123092651367,\n",
       "  0.12067866325378418)}"
      ]
     },
     "execution_count": 12,
     "metadata": {},
     "output_type": "execute_result"
    }
   ],
   "source": [
    "%%time\n",
    "# We'll use the famous SVD algorithm.\n",
    "algo = sp.SVD()\n",
    "\n",
    "# Run 5-fold cross-validation and print results\n",
    "sp.model_selection.cross_validate(algo, data, measures=['RMSE', 'MAE'], cv=5, verbose=True)"
   ]
  },
  {
   "cell_type": "code",
   "execution_count": 13,
   "metadata": {
    "tags": []
   },
   "outputs": [
    {
     "name": "stdout",
     "output_type": "stream",
     "text": [
      "Estimating biases using als...\n",
      "RMSE: 0.9106\n",
      "Wall time: 6.44 s\n"
     ]
    },
    {
     "data": {
      "text/plain": [
       "0.9106051680456124"
      ]
     },
     "execution_count": 13,
     "metadata": {},
     "output_type": "execute_result"
    }
   ],
   "source": [
    "%%time\n",
    "\n",
    "# surprise_svd = sp.SVD(lr_all=0.001, reg_all=0.005, n_epochs=20, n_factors=50)\n",
    "surprise_svd = sp.BaselineOnly()\n",
    "\n",
    "reader = sp.Reader()\n",
    "\n",
    "data_train = sp.Dataset.load_from_df(train[['user_id', 'item_id', 'rating']], reader = reader).build_full_trainset()\n",
    "data_test = sp.Dataset.load_from_df(test[['user_id', 'item_id', 'rating']], reader = reader).build_full_trainset().build_testset()\n",
    "surprise_svd.fit(data_train)\n",
    "\n",
    "pred = surprise_svd.test(data_test)\n",
    "sp.accuracy.rmse(pred)"
   ]
  }
 ],
 "metadata": {
  "kernelspec": {
   "display_name": "Python 3.8.3 64-bit ('recommend': conda)",
   "language": "python",
   "name": "python38364bitrecommendcondade76a3c31eb343bd84fdde91589c0bfc"
  },
  "language_info": {
   "codemirror_mode": {
    "name": "ipython",
    "version": 3
   },
   "file_extension": ".py",
   "mimetype": "text/x-python",
   "name": "python",
   "nbconvert_exporter": "python",
   "pygments_lexer": "ipython3",
   "version": "3.7.7"
  }
 },
 "nbformat": 4,
 "nbformat_minor": 4
}
