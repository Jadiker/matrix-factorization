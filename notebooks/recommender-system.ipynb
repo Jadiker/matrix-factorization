{
 "cells": [
  {
   "cell_type": "code",
   "execution_count": 1,
   "metadata": {
    "tags": []
   },
   "outputs": [],
   "source": [
    "# Data manipulation\n",
    "import numpy as np\n",
    "import pandas as pd\n",
    "pd.options.display.max_rows = 100\n",
    "\n",
    "# Recommender systems\n",
    "from sklearn.metrics import mean_absolute_error, mean_squared_error\n",
    "from sklearn.model_selection import train_test_split\n",
    "import surprise as sp\n",
    "\n",
    "# Other\n",
    "import os\n",
    "import random\n",
    "import sys\n",
    "\n",
    "# Reload imported code\n",
    "%load_ext autoreload\n",
    "%autoreload 2\n",
    "\n",
    "# Custom modules\n",
    "module_path = os.path.abspath(os.path.join('..'))\n",
    "if module_path not in sys.path:\n",
    "    sys.path.append(module_path)\n",
    "    \n",
    "from src import *\n",
    "\n",
    "rand_seed = 2"
   ]
  },
  {
   "cell_type": "markdown",
   "metadata": {},
   "source": [
    "## Load data"
   ]
  },
  {
   "cell_type": "markdown",
   "metadata": {},
   "source": [
    "**Movie data found here https://grouplens.org/datasets/movielens/**"
   ]
  },
  {
   "cell_type": "code",
   "execution_count": 2,
   "metadata": {},
   "outputs": [],
   "source": [
    "cols = ['user_id', 'item_id', 'rating', 'timestamp']\n",
    "movie_data = pd.read_csv('../data/ml-1m/ratings.dat', names = cols, sep = '::', usecols=[0, 1, 2], engine='python')\n",
    "\n",
    "# Prepare data\n",
    "train = movie_data.sample(frac=0.8, random_state=rand_seed)\n",
    "test = movie_data.drop(train.index.tolist())\n",
    "\n",
    "# Prepare data for updates\n",
    "users_update = [2, 500, 700]\n",
    "train_start = movie_data.query('user_id not in @users_update')\n",
    "data_update = movie_data.query('user_id in @users_update')\n",
    "train_update = data_update.sample(frac=0.8, random_state=rand_seed)\n",
    "test_update = data_update.drop(train_update.index.tolist())"
   ]
  },
  {
   "cell_type": "markdown",
   "metadata": {},
   "source": [
    "## Simple Model with global mean"
   ]
  },
  {
   "cell_type": "markdown",
   "metadata": {},
   "source": [
    "This is essentially just the global standard deviation"
   ]
  },
  {
   "cell_type": "code",
   "execution_count": 3,
   "metadata": {
    "tags": []
   },
   "outputs": [
    {
     "output_type": "stream",
     "name": "stdout",
     "text": "\nTest RMSE: 1.119044\n\n Or equivalently the standard deviation: 1.1166159863745446\n"
    }
   ],
   "source": [
    "global_mean = train['rating'].mean()\n",
    "pred = [global_mean for _ in range(test.shape[0])]\n",
    "\n",
    "rmse = mean_squared_error(test['rating'], pred, squared = False)\n",
    "\n",
    "print(f'\\nTest RMSE: {rmse:4f}')\n",
    "\n",
    "print(f\"\\n Or equivalently the standard deviation: {train['rating'].std()}\")"
   ]
  },
  {
   "cell_type": "markdown",
   "metadata": {},
   "source": [
    "## Baseline Model with biases"
   ]
  },
  {
   "cell_type": "markdown",
   "metadata": {},
   "source": [
    "### SGD"
   ]
  },
  {
   "cell_type": "code",
   "execution_count": 4,
   "metadata": {
    "tags": []
   },
   "outputs": [
    {
     "output_type": "stream",
     "name": "stdout",
     "text": "Epoch  1 / 20  -  train_rmse: 0.933494571686373\nEpoch  2 / 20  -  train_rmse: 0.9148579764576709\nEpoch  3 / 20  -  train_rmse: 0.9078240789151573\nEpoch  4 / 20  -  train_rmse: 0.9042828382011496\nEpoch  5 / 20  -  train_rmse: 0.9022289689573211\nEpoch  6 / 20  -  train_rmse: 0.9009285538160273\nEpoch  7 / 20  -  train_rmse: 0.9000541124488959\nEpoch  8 / 20  -  train_rmse: 0.8994395808144476\nEpoch  9 / 20  -  train_rmse: 0.8989927407083671\nEpoch  10 / 20  -  train_rmse: 0.8986588050589224\nEpoch  11 / 20  -  train_rmse: 0.898403494044068\nEpoch  12 / 20  -  train_rmse: 0.8982044636330987\nEpoch  13 / 20  -  train_rmse: 0.8980466587695454\nEpoch  14 / 20  -  train_rmse: 0.8979196525732741\nEpoch  15 / 20  -  train_rmse: 0.8978160532085211\nEpoch  16 / 20  -  train_rmse: 0.8977305140627257\nEpoch  17 / 20  -  train_rmse: 0.8976590993040879\nEpoch  18 / 20  -  train_rmse: 0.8975988662385087\nEpoch  19 / 20  -  train_rmse: 0.8975475839461394\nEpoch  20 / 20  -  train_rmse: 0.8975035398315944\n\nTest RMSE: 0.9097\nWall time: 1.48 s\n"
    }
   ],
   "source": [
    "%%time\n",
    "\n",
    "baseline_model = BaselineModel(n_epochs = 20, reg = 0.005, verbose=1)\n",
    "baseline_model.fit(train)\n",
    "\n",
    "pred = baseline_model.predict(test)\n",
    "rmse = mean_squared_error(test['rating'], pred, squared = False)\n",
    "\n",
    "print(f'\\nTest RMSE: {rmse:.4f}')"
   ]
  },
  {
   "cell_type": "markdown",
   "metadata": {},
   "source": [
    "### ALS"
   ]
  },
  {
   "cell_type": "code",
   "execution_count": 5,
   "metadata": {
    "tags": []
   },
   "outputs": [
    {
     "output_type": "stream",
     "name": "stdout",
     "text": "Epoch  1 / 20  -  train_rmse: 0.9178374472516706\nEpoch  2 / 20  -  train_rmse: 0.897307281620994\nEpoch  3 / 20  -  train_rmse: 0.8963564345409184\nEpoch  4 / 20  -  train_rmse: 0.8963042132630377\nEpoch  5 / 20  -  train_rmse: 0.8963011841494454\nEpoch  6 / 20  -  train_rmse: 0.8963010029148099\nEpoch  7 / 20  -  train_rmse: 0.8963009914026157\nEpoch  8 / 20  -  train_rmse: 0.8963009905265219\nEpoch  9 / 20  -  train_rmse: 0.8963009904274769\nEpoch  10 / 20  -  train_rmse: 0.896300990410144\nEpoch  11 / 20  -  train_rmse: 0.8963009904063131\nEpoch  12 / 20  -  train_rmse: 0.8963009904053619\nEpoch  13 / 20  -  train_rmse: 0.8963009904050973\nEpoch  14 / 20  -  train_rmse: 0.8963009904050061\nEpoch  15 / 20  -  train_rmse: 0.8963009904049439\nEpoch  16 / 20  -  train_rmse: 0.8963009904049123\nEpoch  17 / 20  -  train_rmse: 0.896300990404848\nEpoch  18 / 20  -  train_rmse: 0.8963009904047935\nEpoch  19 / 20  -  train_rmse: 0.8963009904047731\nEpoch  20 / 20  -  train_rmse: 0.8963009904046988\n\nTest RMSE: 0.9093\nWall time: 1.13 s\n"
    }
   ],
   "source": [
    "%%time\n",
    "\n",
    "baseline_model = BaselineModel(method='als', n_epochs = 20, reg = 0.005, verbose=1)\n",
    "baseline_model.fit(train)\n",
    "\n",
    "pred = baseline_model.predict(test)\n",
    "rmse = mean_squared_error(test['rating'], pred, squared = False)\n",
    "\n",
    "print(f'\\nTest RMSE: {rmse:.4f}')"
   ]
  },
  {
   "cell_type": "markdown",
   "metadata": {},
   "source": [
    "### Updating with new users"
   ]
  },
  {
   "cell_type": "code",
   "execution_count": 7,
   "metadata": {
    "tags": []
   },
   "outputs": [
    {
     "output_type": "stream",
     "name": "stdout",
     "text": "Epoch  1 / 20  -  train_rmse: 0.9191803443219464\nEpoch  2 / 20  -  train_rmse: 0.8987037513062358\nEpoch  3 / 20  -  train_rmse: 0.8977609464578302\nEpoch  4 / 20  -  train_rmse: 0.8977092277636958\nEpoch  5 / 20  -  train_rmse: 0.8977061626808502\nEpoch  6 / 20  -  train_rmse: 0.8977059587033653\nEpoch  7 / 20  -  train_rmse: 0.8977059405810108\nEpoch  8 / 20  -  train_rmse: 0.8977059380120525\nEpoch  9 / 20  -  train_rmse: 0.8977059374795142\nEpoch  10 / 20  -  train_rmse: 0.897705937337243\nEpoch  11 / 20  -  train_rmse: 0.8977059372831977\nEpoch  12 / 20  -  train_rmse: 0.8977059372501258\nEpoch  13 / 20  -  train_rmse: 0.8977059372221129\nEpoch  14 / 20  -  train_rmse: 0.8977059371953395\nEpoch  15 / 20  -  train_rmse: 0.8977059371688736\nEpoch  16 / 20  -  train_rmse: 0.8977059371424928\nEpoch  17 / 20  -  train_rmse: 0.8977059371161288\nEpoch  18 / 20  -  train_rmse: 0.8977059370898027\nEpoch  19 / 20  -  train_rmse: 0.8977059370635059\nEpoch  20 / 20  -  train_rmse: 0.8977059370372027\n\nUpdate model\nEpoch  1 / 20  -  train_rmse: 127.91791734236294\nEpoch  2 / 20  -  train_rmse: 127.73740166511926\nEpoch  3 / 20  -  train_rmse: 127.67496725853252\nEpoch  4 / 20  -  train_rmse: 127.65700766237863\nEpoch  5 / 20  -  train_rmse: 127.65462370586171\nEpoch  6 / 20  -  train_rmse: 127.65687373041655\nEpoch  7 / 20  -  train_rmse: 127.65988137065318\nEpoch  8 / 20  -  train_rmse: 127.66245897363436\nEpoch  9 / 20  -  train_rmse: 127.6643816049387\nEpoch  10 / 20  -  train_rmse: 127.66572699712657\nEpoch  11 / 20  -  train_rmse: 127.66663689173943\nEpoch  12 / 20  -  train_rmse: 127.6672402782877\nEpoch  13 / 20  -  train_rmse: 127.66763569950254\nEpoch  14 / 20  -  train_rmse: 127.6678929432526\nEpoch  15 / 20  -  train_rmse: 127.66805952425187\nEpoch  16 / 20  -  train_rmse: 127.6681670770751\nEpoch  17 / 20  -  train_rmse: 127.66823638443415\nEpoch  18 / 20  -  train_rmse: 127.66828098837591\nEpoch  19 / 20  -  train_rmse: 127.66830966779558\nEpoch  20 / 20  -  train_rmse: 127.66832809530862\n\nTest RMSE: 2.4991\nWall time: 532 ms\n"
    }
   ],
   "source": [
    "%%time\n",
    "baseline_model = BaselineModel(method='als', n_epochs = 20, reg = 0.05, verbose=1)\n",
    "baseline_model.fit(train_start)\n",
    "\n",
    "print('\\nUpdate model')\n",
    "baseline_model.update_users(train_update, verbose=1)\n",
    "pred = baseline_model.predict(test_update)\n",
    "rmse = mean_squared_error(test_update['rating'], pred, squared = False)\n",
    "\n",
    "print(f'\\nTest RMSE: {rmse:.4f}')"
   ]
  },
  {
   "cell_type": "markdown",
   "metadata": {},
   "source": [
    "## Matrix Factorization (FunkSVD) by Simon Funk"
   ]
  },
  {
   "cell_type": "code",
   "execution_count": 7,
   "metadata": {
    "tags": []
   },
   "outputs": [
    {
     "output_type": "stream",
     "name": "stdout",
     "text": "Epoch  1 / 20  -  train_rmse: 1.0127035036057546\nEpoch  2 / 20  -  train_rmse: 0.973399904124025\nEpoch  3 / 20  -  train_rmse: 0.9522201402680913\nEpoch  4 / 20  -  train_rmse: 0.9386090696979279\nEpoch  5 / 20  -  train_rmse: 0.9288639526799425\nEpoch  6 / 20  -  train_rmse: 0.9213635578752073\nEpoch  7 / 20  -  train_rmse: 0.9152878929802353\nEpoch  8 / 20  -  train_rmse: 0.9101754454103971\nEpoch  9 / 20  -  train_rmse: 0.9057441442060727\nEpoch  10 / 20  -  train_rmse: 0.9018099719719699\nEpoch  11 / 20  -  train_rmse: 0.8982463727688216\nEpoch  12 / 20  -  train_rmse: 0.8949624194855501\nEpoch  13 / 20  -  train_rmse: 0.8918903129755686\nEpoch  14 / 20  -  train_rmse: 0.8889778398420741\nEpoch  15 / 20  -  train_rmse: 0.8861836186228284\nEpoch  16 / 20  -  train_rmse: 0.8834739938870996\nEpoch  17 / 20  -  train_rmse: 0.8808209488836901\nEpoch  18 / 20  -  train_rmse: 0.8782006746379216\nEpoch  19 / 20  -  train_rmse: 0.8755925796334392\nEpoch  20 / 20  -  train_rmse: 0.8729786073783997\n\nTest RMSE: 0.9171\nWall time: 7.36 s\n"
    }
   ],
   "source": [
    "%%time \n",
    "random.seed(2)\n",
    "np.random.seed(2)\n",
    "matrix_fact = MatrixFactorization(n_epochs = 20, n_factors = 100, verbose = 1, lr = 0.001, reg = 0.005)\n",
    "matrix_fact.fit(train)\n",
    "\n",
    "pred = matrix_fact.predict(test)\n",
    "rmse = mean_squared_error(test['rating'], pred, squared = False)\n",
    "\n",
    "print(f'\\nTest RMSE: {rmse:.4f}')"
   ]
  },
  {
   "cell_type": "markdown",
   "metadata": {},
   "source": [
    "## Surprise"
   ]
  },
  {
   "cell_type": "code",
   "execution_count": 13,
   "metadata": {},
   "outputs": [],
   "source": [
    "# Load the movielens-100k dataset (download it if needed),\n",
    "data = sp.Dataset.load_builtin('ml-100k')"
   ]
  },
  {
   "cell_type": "code",
   "execution_count": 14,
   "metadata": {},
   "outputs": [
    {
     "name": "stdout",
     "output_type": "stream",
     "text": [
      "Evaluating RMSE, MAE of algorithm SVD on 5 split(s).\n",
      "\n",
      "                  Fold 1  Fold 2  Fold 3  Fold 4  Fold 5  Mean    Std     \n",
      "RMSE (testset)    0.9315  0.9319  0.9371  0.9483  0.9311  0.9360  0.0065  \n",
      "MAE (testset)     0.7346  0.7348  0.7381  0.7454  0.7353  0.7376  0.0041  \n",
      "Fit time          5.25    4.75    4.70    4.66    4.71    4.81    0.22    \n",
      "Test time         0.16    0.13    0.20    0.14    0.12    0.15    0.03    \n",
      "Wall time: 25.7 s\n"
     ]
    },
    {
     "data": {
      "text/plain": [
       "{'test_rmse': array([0.93150639, 0.93190626, 0.93712494, 0.94831838, 0.93106516]),\n",
       " 'test_mae': array([0.7345864 , 0.73479604, 0.73812511, 0.74543866, 0.7352659 ]),\n",
       " 'fit_time': (5.246900796890259,\n",
       "  4.746541976928711,\n",
       "  4.704091310501099,\n",
       "  4.6643593311309814,\n",
       "  4.708273649215698),\n",
       " 'test_time': (0.1593332290649414,\n",
       "  0.132645845413208,\n",
       "  0.20246028900146484,\n",
       "  0.140625,\n",
       "  0.12167477607727051)}"
      ]
     },
     "execution_count": 14,
     "metadata": {},
     "output_type": "execute_result"
    }
   ],
   "source": [
    "%%time\n",
    "# We'll use the famous SVD algorithm.\n",
    "algo = sp.AlgoBase()\n",
    "\n",
    "# Run 5-fold cross-validation and print results\n",
    "sp.model_selection.cross_validate(algo, data, measures=['RMSE', 'MAE'], cv=5, verbose=True)"
   ]
  },
  {
   "cell_type": "code",
   "execution_count": 90,
   "metadata": {},
   "outputs": [
    {
     "name": "stdout",
     "output_type": "stream",
     "text": [
      "Estimating biases using als...\n",
      "RMSE: 0.9091\n",
      "Wall time: 7.84 s\n"
     ]
    },
    {
     "data": {
      "text/plain": [
       "0.9090794242564598"
      ]
     },
     "execution_count": 90,
     "metadata": {},
     "output_type": "execute_result"
    }
   ],
   "source": [
    "%%time\n",
    "\n",
    "# surprise_svd = sp.SVD(lr_all=0.001, reg_all=0.005, n_epochs=20, n_factors=50)\n",
    "surprise_svd = sp.BaselineOnly()\n",
    "\n",
    "reader = sp.Reader()\n",
    "\n",
    "data_train = sp.Dataset.load_from_df(train[['u_id', 'i_id', 'rating']], reader = reader).build_full_trainset()\n",
    "data_test = sp.Dataset.load_from_df(test[['u_id', 'i_id', 'rating']], reader = reader).build_full_trainset().build_testset()\n",
    "surprise_svd.fit(data_train)\n",
    "\n",
    "pred = surprise_svd.test(data_test)\n",
    "sp.accuracy.rmse(pred)"
   ]
  }
 ],
 "metadata": {
  "kernelspec": {
   "display_name": "Python 3.8.3 64-bit ('recommend': conda)",
   "language": "python",
   "name": "python38364bitrecommendcondade76a3c31eb343bd84fdde91589c0bfc"
  },
  "language_info": {
   "codemirror_mode": {
    "name": "ipython",
    "version": 3
   },
   "file_extension": ".py",
   "mimetype": "text/x-python",
   "name": "python",
   "nbconvert_exporter": "python",
   "pygments_lexer": "ipython3",
   "version": "3.7.7-final"
  }
 },
 "nbformat": 4,
 "nbformat_minor": 4
}