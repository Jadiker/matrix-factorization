{
 "cells": [
  {
   "cell_type": "code",
   "execution_count": 13,
   "metadata": {},
   "outputs": [
    {
     "output_type": "stream",
     "name": "stdout",
     "text": "The autoreload extension is already loaded. To reload it, use:\n  %reload_ext autoreload\n"
    }
   ],
   "source": [
    "# Data manipulation\n",
    "import numpy as np\n",
    "import pandas as pd\n",
    "pd.options.display.max_rows = 100\n",
    "\n",
    "# Recommender systems\n",
    "from sklearn.metrics import mean_absolute_error, mean_squared_error\n",
    "from sklearn.model_selection import train_test_split\n",
    "import surprise as sp\n",
    "\n",
    "# Other\n",
    "import os\n",
    "import random\n",
    "import sys\n",
    "\n",
    "# Reload imported code\n",
    "%load_ext autoreload\n",
    "%autoreload 2\n",
    "\n",
    "# Custom modules\n",
    "module_path = os.path.abspath(os.path.join('..'))\n",
    "if module_path not in sys.path:\n",
    "    sys.path.append(module_path)\n",
    "    \n",
    "from src import *"
   ]
  },
  {
   "cell_type": "markdown",
   "metadata": {},
   "source": [
    "## Load data"
   ]
  },
  {
   "cell_type": "markdown",
   "metadata": {},
   "source": [
    "**Movie data found here https://grouplens.org/datasets/movielens/**"
   ]
  },
  {
   "cell_type": "code",
   "execution_count": 2,
   "metadata": {},
   "outputs": [],
   "source": [
    "cols = ['u_id', 'i_id', 'rating', 'timestamp']\n",
    "movie_data = pd.read_csv('../data/ml-1m/ratings.dat', names = cols, sep = '::', usecols=[0, 1, 2])\n",
    "\n",
    "# Prepare data\n",
    "train = movie_data.sample(frac=0.8)\n",
    "test = movie_data.drop(train.index.tolist())"
   ]
  },
  {
   "cell_type": "markdown",
   "metadata": {},
   "source": [
    "## Simple Model with global mean"
   ]
  },
  {
   "cell_type": "code",
   "execution_count": 6,
   "metadata": {},
   "outputs": [
    {
     "output_type": "stream",
     "name": "stdout",
     "text": "\nTest RMSE: 1.117850\n"
    }
   ],
   "source": [
    "global_mean = train['rating'].mean()\n",
    "pred = [global_mean for _ in range(test.shape[0])]\n",
    "\n",
    "rmse = mean_squared_error(test['rating'], pred, squared = False)\n",
    "\n",
    "print(f'\\nTest RMSE: {rmse:4f}')"
   ]
  },
  {
   "cell_type": "markdown",
   "metadata": {},
   "source": [
    "## Baseline Model with biases"
   ]
  },
  {
   "cell_type": "markdown",
   "metadata": {},
   "source": [
    "### SGD"
   ]
  },
  {
   "cell_type": "code",
   "execution_count": 26,
   "metadata": {},
   "outputs": [
    {
     "output_type": "stream",
     "name": "stdout",
     "text": "Epoch  1 / 20  -  train_rmse: 0.871980978214218\nEpoch  2 / 20  -  train_rmse: 0.8374227238174543\nEpoch  3 / 20  -  train_rmse: 0.8245628365555198\nEpoch  4 / 20  -  train_rmse: 0.8181313766158749\nEpoch  5 / 20  -  train_rmse: 0.8144161721838907\nEpoch  6 / 20  -  train_rmse: 0.8120702230072291\nEpoch  7 / 20  -  train_rmse: 0.8104958250944153\nEpoch  8 / 20  -  train_rmse: 0.8093910914643307\nEpoch  9 / 20  -  train_rmse: 0.8085888629632715\nEpoch  10 / 20  -  train_rmse: 0.8079900351762842\nEpoch  11 / 20  -  train_rmse: 0.8075326908098902\nEpoch  12 / 20  -  train_rmse: 0.8071765151351332\nEpoch  13 / 20  -  train_rmse: 0.8068943680095578\nEpoch  14 / 20  -  train_rmse: 0.8066674668501668\nEpoch  15 / 20  -  train_rmse: 0.8064825062164301\nEpoch  16 / 20  -  train_rmse: 0.8063298697247823\nEpoch  17 / 20  -  train_rmse: 0.8062024845531691\nEpoch  18 / 20  -  train_rmse: 0.8060950676200299\nEpoch  19 / 20  -  train_rmse: 0.8060036178439534\nEpoch  20 / 20  -  train_rmse: 0.8059250671127095\n\nTest RMSE: 0.9094\nWall time: 352 ms\n"
    }
   ],
   "source": [
    "%%time\n",
    "\n",
    "baseline_model = BaselineModel(n_epochs = 20, reg = 0.005, verbose=1)\n",
    "baseline_model.fit(train)\n",
    "\n",
    "pred = baseline_model.predict(test)\n",
    "rmse = mean_squared_error(test['rating'], pred, squared = False)\n",
    "\n",
    "print(f'\\nTest RMSE: {rmse:.4f}')"
   ]
  },
  {
   "cell_type": "markdown",
   "metadata": {},
   "source": [
    "### ALS"
   ]
  },
  {
   "cell_type": "code",
   "execution_count": 28,
   "metadata": {
    "tags": [
     "outputPrepend",
     "outputPrepend",
     "outputPrepend",
     "outputPrepend",
     "outputPrepend",
     "outputPrepend",
     "outputPrepend",
     "outputPrepend",
     "outputPrepend",
     "outputPrepend",
     "outputPrepend",
     "outputPrepend",
     "outputPrepend",
     "outputPrepend",
     "outputPrepend",
     "outputPrepend",
     "outputPrepend",
     "outputPrepend",
     "outputPrepend",
     "outputPrepend",
     "outputPrepend",
     "outputPrepend",
     "outputPrepend",
     "outputPrepend",
     "outputPrepend",
     "outputPrepend",
     "outputPrepend",
     "outputPrepend",
     "outputPrepend",
     "outputPrepend",
     "outputPrepend",
     "outputPrepend",
     "outputPrepend",
     "outputPrepend",
     "outputPrepend",
     "outputPrepend",
     "outputPrepend",
     "outputPrepend",
     "outputPrepend",
     "outputPrepend",
     "outputPrepend",
     "outputPrepend",
     "outputPrepend",
     "outputPrepend",
     "outputPrepend",
     "outputPrepend",
     "outputPrepend",
     "outputPrepend",
     "outputPrepend",
     "outputPrepend",
     "outputPrepend",
     "outputPrepend",
     "outputPrepend",
     "outputPrepend",
     "outputPrepend",
     "outputPrepend",
     "outputPrepend",
     "outputPrepend",
     "outputPrepend",
     "outputPrepend",
     "outputPrepend",
     "outputPrepend",
     "outputPrepend",
     "outputPrepend",
     "outputPrepend",
     "outputPrepend",
     "outputPrepend",
     "outputPrepend",
     "outputPrepend",
     "outputPrepend",
     "outputPrepend",
     "outputPrepend",
     "outputPrepend",
     "outputPrepend",
     "outputPrepend",
     "outputPrepend",
     "outputPrepend",
     "outputPrepend",
     "outputPrepend",
     "outputPrepend",
     "outputPrepend",
     "outputPrepend",
     "outputPrepend",
     "outputPrepend",
     "outputPrepend",
     "outputPrepend",
     "outputPrepend",
     "outputPrepend",
     "outputPrepend",
     "outputPrepend",
     "outputPrepend",
     "outputPrepend",
     "outputPrepend",
     "outputPrepend",
     "outputPrepend",
     "outputPrepend",
     "outputPrepend",
     "outputPrepend",
     "outputPrepend",
     "outputPrepend",
     "outputPrepend",
     "outputPrepend",
     "outputPrepend",
     "outputPrepend",
     "outputPrepend",
     "outputPrepend",
     "outputPrepend",
     "outputPrepend",
     "outputPrepend",
     "outputPrepend",
     "outputPrepend"
    ]
   },
   "outputs": [
    {
     "output_type": "stream",
     "name": "stdout",
     "text": "Epoch  1 / 20  -  train_rmse: 0.8431114587618241\nEpoch  2 / 20  -  train_rmse: 0.8054503687558924\nEpoch  3 / 20  -  train_rmse: 0.8037076611607052\nEpoch  4 / 20  -  train_rmse: 0.803611324323333\nEpoch  5 / 20  -  train_rmse: 0.8036057069019398\nEpoch  6 / 20  -  train_rmse: 0.8036053692857239\nEpoch  7 / 20  -  train_rmse: 0.8036053477643588\nEpoch  8 / 20  -  train_rmse: 0.8036053461252116\nEpoch  9 / 20  -  train_rmse: 0.8036053459404653\nEpoch  10 / 20  -  train_rmse: 0.8036053459081435\nEpoch  11 / 20  -  train_rmse: 0.803605345900974\nEpoch  12 / 20  -  train_rmse: 0.8036053458992236\nEpoch  13 / 20  -  train_rmse: 0.8036053458987541\nEpoch  14 / 20  -  train_rmse: 0.8036053458985319\nEpoch  15 / 20  -  train_rmse: 0.8036053458984738\nEpoch  16 / 20  -  train_rmse: 0.8036053458983718\nEpoch  17 / 20  -  train_rmse: 0.8036053458982573\nEpoch  18 / 20  -  train_rmse: 0.8036053458981735\nEpoch  19 / 20  -  train_rmse: 0.8036053458980996\nEpoch  20 / 20  -  train_rmse: 0.803605345898018\n\nTest RMSE: 0.9090\nWall time: 2.33 s\n"
    }
   ],
   "source": [
    "%%time\n",
    "\n",
    "baseline_model = BaselineModel(method='als', n_epochs = 20, reg = 0.005, verbose=1)\n",
    "baseline_model.fit(train)\n",
    "\n",
    "pred = baseline_model.predict(test)\n",
    "rmse = mean_squared_error(test['rating'], pred, squared = False)\n",
    "\n",
    "print(f'\\nTest RMSE: {rmse:.4f}')"
   ]
  },
  {
   "cell_type": "markdown",
   "metadata": {},
   "source": [
    "## SVD by Simon Funk"
   ]
  },
  {
   "cell_type": "code",
   "execution_count": 9,
   "metadata": {},
   "outputs": [
    {
     "output_type": "stream",
     "name": "stdout",
     "text": "Epoch  1 / 20  -  train_rmse: 4.7519163235869755\nEpoch  2 / 20  -  train_rmse: 4.07125950177922\nEpoch  3 / 20  -  train_rmse: 3.6994707653121295\nEpoch  4 / 20  -  train_rmse: 3.487612945175548\nEpoch  5 / 20  -  train_rmse: 3.361677161458169\nEpoch  6 / 20  -  train_rmse: 3.2830956906142963\nEpoch  7 / 20  -  train_rmse: 3.2310618451542217\nEpoch  8 / 20  -  train_rmse: 3.194092982634919\nEpoch  9 / 20  -  train_rmse: 3.1657616120427647\nEpoch  10 / 20  -  train_rmse: 3.14243679531888\nEpoch  11 / 20  -  train_rmse: 3.122052194110065\nEpoch  12 / 20  -  train_rmse: 3.1034212511623207\nEpoch  13 / 20  -  train_rmse: 3.085852518150945\nEpoch  14 / 20  -  train_rmse: 3.068932643826073\nEpoch  15 / 20  -  train_rmse: 3.052403973330817\nEpoch  16 / 20  -  train_rmse: 3.036095775003364\nEpoch  17 / 20  -  train_rmse: 3.019885868491791\nEpoch  18 / 20  -  train_rmse: 3.003679427500367\nEpoch  19 / 20  -  train_rmse: 2.9873974174428293\nEpoch  20 / 20  -  train_rmse: 2.9709703793155584\n\nTest RMSE: 0.9163\nWall time: 5.59 s\n"
    }
   ],
   "source": [
    "%%time \n",
    "random.seed(2)\n",
    "np.random.seed(2)\n",
    "matrix_fact = MatrixFactorization(n_epochs = 20, n_factors = 100, verbose = 1, lr = 0.001, reg = 0.005)\n",
    "matrix_fact.fit(train)\n",
    "\n",
    "pred = matrix_fact.predict(test)\n",
    "rmse = mean_squared_error(test['rating'], pred, squared = False)\n",
    "\n",
    "print(f'\\nTest RMSE: {rmse:.4f}')"
   ]
  },
  {
   "cell_type": "markdown",
   "metadata": {},
   "source": [
    "## Surprise"
   ]
  },
  {
   "cell_type": "code",
   "execution_count": 13,
   "metadata": {},
   "outputs": [],
   "source": [
    "# Load the movielens-100k dataset (download it if needed),\n",
    "data = sp.Dataset.load_builtin('ml-100k')"
   ]
  },
  {
   "cell_type": "code",
   "execution_count": 14,
   "metadata": {},
   "outputs": [
    {
     "output_type": "stream",
     "name": "stdout",
     "text": "Evaluating RMSE, MAE of algorithm SVD on 5 split(s).\n\n                  Fold 1  Fold 2  Fold 3  Fold 4  Fold 5  Mean    Std     \nRMSE (testset)    0.9315  0.9319  0.9371  0.9483  0.9311  0.9360  0.0065  \nMAE (testset)     0.7346  0.7348  0.7381  0.7454  0.7353  0.7376  0.0041  \nFit time          5.25    4.75    4.70    4.66    4.71    4.81    0.22    \nTest time         0.16    0.13    0.20    0.14    0.12    0.15    0.03    \nWall time: 25.7 s\n"
    },
    {
     "output_type": "execute_result",
     "data": {
      "text/plain": "{'test_rmse': array([0.93150639, 0.93190626, 0.93712494, 0.94831838, 0.93106516]),\n 'test_mae': array([0.7345864 , 0.73479604, 0.73812511, 0.74543866, 0.7352659 ]),\n 'fit_time': (5.246900796890259,\n  4.746541976928711,\n  4.704091310501099,\n  4.6643593311309814,\n  4.708273649215698),\n 'test_time': (0.1593332290649414,\n  0.132645845413208,\n  0.20246028900146484,\n  0.140625,\n  0.12167477607727051)}"
     },
     "metadata": {},
     "execution_count": 14
    }
   ],
   "source": [
    "%%time\n",
    "# We'll use the famous SVD algorithm.\n",
    "algo = sp.AlgoBase()\n",
    "\n",
    "# Run 5-fold cross-validation and print results\n",
    "sp.model_selection.cross_validate(algo, data, measures=['RMSE', 'MAE'], cv=5, verbose=True)"
   ]
  },
  {
   "cell_type": "code",
   "execution_count": 90,
   "metadata": {},
   "outputs": [
    {
     "output_type": "stream",
     "name": "stdout",
     "text": "Estimating biases using als...\nRMSE: 0.9091\nWall time: 7.84 s\n"
    },
    {
     "output_type": "execute_result",
     "data": {
      "text/plain": "0.9090794242564598"
     },
     "metadata": {},
     "execution_count": 90
    }
   ],
   "source": [
    "%%time\n",
    "\n",
    "# surprise_svd = sp.SVD(lr_all=0.001, reg_all=0.005, n_epochs=20, n_factors=50)\n",
    "surprise_svd = sp.BaselineOnly()\n",
    "\n",
    "reader = sp.Reader()\n",
    "\n",
    "data_train = sp.Dataset.load_from_df(train[['u_id', 'i_id', 'rating']], reader = reader).build_full_trainset()\n",
    "data_test = sp.Dataset.load_from_df(test[['u_id', 'i_id', 'rating']], reader = reader).build_full_trainset().build_testset()\n",
    "surprise_svd.fit(data_train)\n",
    "\n",
    "pred = surprise_svd.test(data_test)\n",
    "sp.accuracy.rmse(pred)"
   ]
  }
 ],
 "metadata": {
  "kernelspec": {
   "display_name": "Python 3.8.3 64-bit ('recommend': conda)",
   "language": "python",
   "name": "python38364bitrecommendcondade76a3c31eb343bd84fdde91589c0bfc"
  },
  "language_info": {
   "codemirror_mode": {
    "name": "ipython",
    "version": 3
   },
   "file_extension": ".py",
   "mimetype": "text/x-python",
   "name": "python",
   "nbconvert_exporter": "python",
   "pygments_lexer": "ipython3",
   "version": "3.7.7-final"
  }
 },
 "nbformat": 4,
 "nbformat_minor": 4
}