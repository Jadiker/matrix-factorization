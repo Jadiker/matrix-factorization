{
 "cells": [
  {
   "cell_type": "code",
   "execution_count": 1,
   "metadata": {},
   "outputs": [],
   "source": [
    "# Data manipulation\n",
    "import numpy as np\n",
    "import pandas as pd\n",
    "pd.options.display.max_rows = 100\n",
    "\n",
    "# Recommender systems\n",
    "from sklearn.metrics import mean_absolute_error, mean_squared_error\n",
    "from sklearn.model_selection import train_test_split\n",
    "import surprise as sp\n",
    "\n",
    "# Other\n",
    "import os\n",
    "import random\n",
    "import sys\n",
    "\n",
    "# Reload imported code\n",
    "%load_ext autoreload\n",
    "%autoreload 2\n",
    "\n",
    "# Custom modules\n",
    "module_path = os.path.abspath(os.path.join('..'))\n",
    "if module_path not in sys.path:\n",
    "    sys.path.append(module_path)\n",
    "    \n",
    "from src import *"
   ]
  },
  {
   "cell_type": "markdown",
   "metadata": {},
   "source": [
    "## Load data"
   ]
  },
  {
   "cell_type": "markdown",
   "metadata": {},
   "source": [
    "**Movie data found here https://grouplens.org/datasets/movielens/**"
   ]
  },
  {
   "cell_type": "code",
   "execution_count": 2,
   "metadata": {},
   "outputs": [],
   "source": [
    "cols = ['u_id', 'i_id', 'rating', 'timestamp']\n",
    "movie_data = pd.read_csv('../data/ml-1m/ratings.dat', names = cols, sep = '::', usecols=[0, 1, 2])\n",
    "\n",
    "# Prepare data\n",
    "train = movie_data.sample(frac=0.8)\n",
    "test = movie_data.drop(train.index.tolist())"
   ]
  },
  {
   "cell_type": "markdown",
   "metadata": {},
   "source": [
    "## Simple Model with global mean"
   ]
  },
  {
   "cell_type": "code",
   "execution_count": 3,
   "metadata": {},
   "outputs": [
    {
     "output_type": "stream",
     "name": "stdout",
     "text": "\nTest RMSE: 1.117268\n"
    }
   ],
   "source": [
    "global_mean = train['rating'].mean()\n",
    "pred = [global_mean for _ in range(test.shape[0])]\n",
    "\n",
    "rmse = mean_squared_error(test['rating'], pred, squared = False)\n",
    "\n",
    "print(f'\\nTest RMSE: {rmse:4f}')"
   ]
  },
  {
   "cell_type": "markdown",
   "metadata": {},
   "source": [
    "## Baseline Model with biases"
   ]
  },
  {
   "cell_type": "code",
   "execution_count": 6,
   "metadata": {},
   "outputs": [
    {
     "output_type": "stream",
     "name": "stdout",
     "text": "Epoch  1 / 20  -  train_rmse: 0.12743109045394502\nEpoch  2 / 20  -  train_rmse: 0.2279631897517531\nEpoch  3 / 20  -  train_rmse: 0.33766202245142213\nEpoch  4 / 20  -  train_rmse: 0.42638235786208967\nEpoch  5 / 20  -  train_rmse: 0.4916609904263343\nEpoch  6 / 20  -  train_rmse: 0.5381164059789344\nEpoch  7 / 20  -  train_rmse: 0.5708272955763287\nEpoch  8 / 20  -  train_rmse: 0.5938506550749628\nEpoch  9 / 20  -  train_rmse: 0.6101406370252674\nEpoch  10 / 20  -  train_rmse: 0.621770036561658\nEpoch  11 / 20  -  train_rmse: 0.630169029453688\nEpoch  12 / 20  -  train_rmse: 0.6363173234609523\nEpoch  13 / 20  -  train_rmse: 0.6408849295459511\nEpoch  14 / 20  -  train_rmse: 0.6443309987010555\nEpoch  15 / 20  -  train_rmse: 0.6469716980846663\nEpoch  16 / 20  -  train_rmse: 0.6490262719430819\nEpoch  17 / 20  -  train_rmse: 0.6506481109593726\nEpoch  18 / 20  -  train_rmse: 0.651945663000393\nEpoch  19 / 20  -  train_rmse: 0.6529965131523516\nEpoch  20 / 20  -  train_rmse: 0.6538568878300737\n\nTest RMSE: 0.9092\nWall time: 1.14 s\n"
    }
   ],
   "source": [
    "%%time\n",
    "\n",
    "baseline_model = BaselineModel(n_epochs = 20, reg = 0.005)\n",
    "baseline_model.fit(train)\n",
    "\n",
    "pred = baseline_model.predict(test)\n",
    "rmse = mean_squared_error(test['rating'], pred, squared = False)\n",
    "\n",
    "print(f'\\nTest RMSE: {rmse:.4f}')"
   ]
  },
  {
   "cell_type": "markdown",
   "metadata": {},
   "source": [
    "## Custom SVD"
   ]
  },
  {
   "cell_type": "code",
   "execution_count": 6,
   "metadata": {},
   "outputs": [
    {
     "output_type": "stream",
     "name": "stdout",
     "text": "Epoch  1 / 20  -  train_rmse: 0.4200119423824712\nEpoch  2 / 20  -  train_rmse: 0.5134161673945182\nEpoch  3 / 20  -  train_rmse: 0.5490851682852552\nEpoch  4 / 20  -  train_rmse: 0.5547686906688019\nEpoch  5 / 20  -  train_rmse: 0.5466300037437639\nEpoch  6 / 20  -  train_rmse: 0.5328242936133687\nEpoch  7 / 20  -  train_rmse: 0.5171638382987964\nEpoch  8 / 20  -  train_rmse: 0.5013124692639045\nEpoch  9 / 20  -  train_rmse: 0.485925623190334\nEpoch  10 / 20  -  train_rmse: 0.47120743485351135\nEpoch  11 / 20  -  train_rmse: 0.45717300346984496\nEpoch  12 / 20  -  train_rmse: 0.44376765423753367\nEpoch  13 / 20  -  train_rmse: 0.43091867509787507\nEpoch  14 / 20  -  train_rmse: 0.4185559896239487\nEpoch  15 / 20  -  train_rmse: 0.4066190389080836\nEpoch  16 / 20  -  train_rmse: 0.3950578946796036\nEpoch  17 / 20  -  train_rmse: 0.38383222864034194\nEpoch  18 / 20  -  train_rmse: 0.37290970429994413\nEpoch  19 / 20  -  train_rmse: 0.3622644141818156\nEpoch  20 / 20  -  train_rmse: 0.35187556748446197\n\nTest RMSE: 0.9136\nWall time: 5.45 s\n"
    }
   ],
   "source": [
    "%%time \n",
    "random.seed(2)\n",
    "np.random.seed(2)\n",
    "svd = SVD(n_epochs = 20, n_factors = 100, verbose = 1, lr = 0.001, reg = 0.005)\n",
    "svd.fit(train)\n",
    "\n",
    "pred = svd.predict(test)\n",
    "rmse = mean_squared_error(test['rating'], pred, squared = False)\n",
    "\n",
    "print(f'\\nTest RMSE: {rmse:.4f}')"
   ]
  },
  {
   "cell_type": "markdown",
   "metadata": {},
   "source": [
    "## Surprise"
   ]
  },
  {
   "cell_type": "code",
   "execution_count": 90,
   "metadata": {},
   "outputs": [],
   "source": [
    "# Load the movielens-100k dataset (download it if needed),\n",
    "data = sp.Dataset.load_builtin('ml-100k')"
   ]
  },
  {
   "cell_type": "code",
   "execution_count": 91,
   "metadata": {},
   "outputs": [
    {
     "name": "stdout",
     "output_type": "stream",
     "text": [
      "Evaluating RMSE, MAE of algorithm SVD on 5 split(s).\n",
      "\n",
      "                  Fold 1  Fold 2  Fold 3  Fold 4  Fold 5  Mean    Std     \n",
      "RMSE (testset)    0.9265  0.9351  0.9324  0.9415  0.9408  0.9353  0.0056  \n",
      "MAE (testset)     0.7294  0.7344  0.7358  0.7421  0.7399  0.7363  0.0044  \n",
      "Fit time          4.16    4.19    4.22    4.25    4.20    4.20    0.03    \n",
      "Test time         0.13    0.45    0.11    0.11    0.11    0.18    0.13    \n",
      "Wall time: 22.6 s\n"
     ]
    },
    {
     "data": {
      "text/plain": [
       "{'test_rmse': array([0.92651162, 0.93507166, 0.93241232, 0.94154717, 0.94084358]),\n",
       " 'test_mae': array([0.72938989, 0.73444756, 0.73576219, 0.74210202, 0.73993852]),\n",
       " 'fit_time': (4.163815021514893,\n",
       "  4.187639236450195,\n",
       "  4.216679334640503,\n",
       "  4.247923374176025,\n",
       "  4.1983418464660645),\n",
       " 'test_time': (0.12666082382202148,\n",
       "  0.45206427574157715,\n",
       "  0.11275815963745117,\n",
       "  0.1120297908782959,\n",
       "  0.11228561401367188)}"
      ]
     },
     "execution_count": 91,
     "metadata": {},
     "output_type": "execute_result"
    }
   ],
   "source": [
    "%%time\n",
    "# We'll use the famous SVD algorithm.\n",
    "algo = sp.SVD()\n",
    "\n",
    "# Run 5-fold cross-validation and print results\n",
    "sp.model_selection.cross_validate(algo, data, measures=['RMSE', 'MAE'], cv=5, verbose=True)"
   ]
  },
  {
   "cell_type": "code",
   "execution_count": 93,
   "metadata": {},
   "outputs": [
    {
     "name": "stdout",
     "output_type": "stream",
     "text": [
      "RMSE: 0.9169\n",
      "Wall time: 31.1 s\n"
     ]
    },
    {
     "data": {
      "text/plain": [
       "0.9168845476049273"
      ]
     },
     "execution_count": 93,
     "metadata": {},
     "output_type": "execute_result"
    }
   ],
   "source": [
    "%%time\n",
    "\n",
    "surprise_svd = sp.SVD(lr_all=0.001, reg_all=0.005, n_epochs=20,\n",
    "          n_factors=50)\n",
    "\n",
    "reader = sp.Reader()\n",
    "\n",
    "data_train = sp.Dataset.load_from_df(train[['u_id', 'i_id', 'rating']], reader = reader).build_full_trainset()\n",
    "data_test = sp.Dataset.load_from_df(test[['u_id', 'i_id', 'rating']], reader = reader).build_full_trainset().build_testset()\n",
    "surprise_svd.fit(data_train)\n",
    "\n",
    "pred = surprise_svd.test(data_test)\n",
    "sp.accuracy.rmse(pred)"
   ]
  },
  {
   "cell_type": "code",
   "execution_count": 21,
   "metadata": {},
   "outputs": [
    {
     "data": {
      "text/plain": [
       "[Prediction(uid=259, iid=200, r_ui=4.0, est=4.1670259763161255, details={'was_impossible': False}),\n",
       " Prediction(uid=259, iid=357, r_ui=5.0, est=4.430772728105106, details={'was_impossible': False}),\n",
       " Prediction(uid=259, iid=179, r_ui=4.0, est=4.20424005908081, details={'was_impossible': False}),\n",
       " Prediction(uid=259, iid=1135, r_ui=5.0, est=3.231236971348656, details={'was_impossible': False}),\n",
       " Prediction(uid=259, iid=15, r_ui=3.0, est=3.91758055378108, details={'was_impossible': False}),\n",
       " Prediction(uid=259, iid=121, r_ui=3.0, est=3.590538369392122, details={'was_impossible': False}),\n",
       " Prediction(uid=259, iid=294, r_ui=3.0, est=3.2821077351936805, details={'was_impossible': False}),\n",
       " Prediction(uid=259, iid=748, r_ui=4.0, est=3.323876222072292, details={'was_impossible': False}),\n",
       " Prediction(uid=259, iid=147, r_ui=4.0, est=3.8508097317210708, details={'was_impossible': False}),\n",
       " Prediction(uid=851, iid=696, r_ui=3.0, est=3.3294724032153775, details={'was_impossible': False}),\n",
       " Prediction(uid=851, iid=473, r_ui=4.0, est=3.4560562799048773, details={'was_impossible': False}),\n",
       " Prediction(uid=851, iid=290, r_ui=4.0, est=3.153519835790711, details={'was_impossible': False}),\n",
       " Prediction(uid=851, iid=717, r_ui=3.0, est=2.8874506227253445, details={'was_impossible': False}),\n",
       " Prediction(uid=851, iid=815, r_ui=3.0, est=3.3480640461758178, details={'was_impossible': False}),\n",
       " Prediction(uid=851, iid=405, r_ui=5.0, est=3.274042812465488, details={'was_impossible': False}),\n",
       " Prediction(uid=851, iid=924, r_ui=4.0, est=3.558746617931548, details={'was_impossible': False}),\n",
       " Prediction(uid=851, iid=1094, r_ui=1.0, est=3.3761615671176846, details={'was_impossible': False}),\n",
       " Prediction(uid=851, iid=1245, r_ui=4.0, est=3.437682521354039, details={'was_impossible': False}),\n",
       " Prediction(uid=851, iid=411, r_ui=3.0, est=2.9552410061418772, details={'was_impossible': False}),\n",
       " Prediction(uid=851, iid=831, r_ui=5.0, est=2.636413116665653, details={'was_impossible': False})]"
      ]
     },
     "execution_count": 21,
     "metadata": {},
     "output_type": "execute_result"
    }
   ],
   "source": [
    "surprise_svd.test(data_test)[:20]"
   ]
  }
 ],
 "metadata": {
  "kernelspec": {
   "display_name": "Python 3.8.3 64-bit ('recommend': conda)",
   "language": "python",
   "name": "python38364bitrecommendcondade76a3c31eb343bd84fdde91589c0bfc"
  },
  "language_info": {
   "codemirror_mode": {
    "name": "ipython",
    "version": 3
   },
   "file_extension": ".py",
   "mimetype": "text/x-python",
   "name": "python",
   "nbconvert_exporter": "python",
   "pygments_lexer": "ipython3",
   "version": "3.7.7-final"
  }
 },
 "nbformat": 4,
 "nbformat_minor": 4
}