{
 "cells": [
  {
   "cell_type": "code",
   "execution_count": 1,
   "metadata": {
    "tags": []
   },
   "outputs": [],
   "source": [
    "# Data manipulation\n",
    "import numpy as np\n",
    "import pandas as pd\n",
    "pd.options.display.max_rows = 100\n",
    "\n",
    "# Recommender systems\n",
    "from sklearn.metrics import mean_absolute_error, mean_squared_error\n",
    "from sklearn.model_selection import train_test_split\n",
    "import surprise as sp\n",
    "\n",
    "# Other\n",
    "import os\n",
    "import random\n",
    "import sys\n",
    "\n",
    "# Custom modules\n",
    "module_path = os.path.abspath(os.path.join('..'))\n",
    "if module_path not in sys.path:\n",
    "    sys.path.append(module_path)\n",
    "from src import BaselineModel, MatrixFactorization, train_update_test_split\n",
    "\n",
    "# Reload imported code\n",
    "%load_ext autoreload\n",
    "%autoreload 2\n",
    "\n",
    "rand_seed = 2\n",
    "np.random.seed(rand_seed)\n",
    "random.seed(rand_seed)"
   ]
  },
  {
   "cell_type": "markdown",
   "metadata": {},
   "source": [
    "## Load data"
   ]
  },
  {
   "cell_type": "markdown",
   "metadata": {},
   "source": [
    "**Movie data found here https://grouplens.org/datasets/movielens/**"
   ]
  },
  {
   "cell_type": "code",
   "execution_count": 2,
   "metadata": {},
   "outputs": [],
   "source": [
    "cols = ['user_id', 'item_id', 'rating', 'timestamp']\n",
    "movie_data = pd.read_csv('../data/ml-1m/ratings.dat', names = cols, sep = '::', usecols=[0, 1, 2], engine='python')\n",
    "movie_data = movie_data.sample(frac=1)\n",
    "# Prepare data\n",
    "train, test = train_test_split(movie_data, test_size=0.2)\n",
    "\n",
    "# Prepare data for online learning\n",
    "train_initial, train_update, test_update = train_update_test_split(movie_data, frac_new_users=0.2)"
   ]
  },
  {
   "cell_type": "markdown",
   "metadata": {},
   "source": [
    "## Simple model with global mean"
   ]
  },
  {
   "cell_type": "markdown",
   "metadata": {},
   "source": [
    "This is similar to just the global standard deviation"
   ]
  },
  {
   "cell_type": "code",
   "execution_count": 3,
   "metadata": {
    "tags": []
   },
   "outputs": [
    {
     "name": "stdout",
     "output_type": "stream",
     "text": [
      "\n",
      "Test RMSE: 1.117193\n"
     ]
    }
   ],
   "source": [
    "global_mean = train['rating'].mean()\n",
    "pred = [global_mean for _ in range(test.shape[0])]\n",
    "\n",
    "rmse = mean_squared_error(test['rating'], pred, squared = False)\n",
    "\n",
    "print(f'\\nTest RMSE: {rmse:4f}')"
   ]
  },
  {
   "cell_type": "markdown",
   "metadata": {},
   "source": [
    "## Baseline Model with biases"
   ]
  },
  {
   "cell_type": "markdown",
   "metadata": {},
   "source": [
    "### SGD"
   ]
  },
  {
   "cell_type": "code",
   "execution_count": 4,
   "metadata": {
    "tags": []
   },
   "outputs": [
    {
     "name": "stdout",
     "output_type": "stream",
     "text": [
      "Epoch  1 / 20  -  train_rmse: 0.916138002653919\n",
      "Epoch  2 / 20  -  train_rmse: 0.9056374391849454\n",
      "Epoch  3 / 20  -  train_rmse: 0.9023088396050357\n",
      "Epoch  4 / 20  -  train_rmse: 0.9008342120744669\n",
      "Epoch  5 / 20  -  train_rmse: 0.9000620153896943\n",
      "Epoch  6 / 20  -  train_rmse: 0.8996126503672814\n",
      "Epoch  7 / 20  -  train_rmse: 0.8993305444154954\n",
      "Epoch  8 / 20  -  train_rmse: 0.8991426935936087\n",
      "Epoch  9 / 20  -  train_rmse: 0.8990114538702991\n",
      "Epoch  10 / 20  -  train_rmse: 0.8989159921593428\n",
      "Epoch  11 / 20  -  train_rmse: 0.8988441181155185\n",
      "Epoch  12 / 20  -  train_rmse: 0.8987883664895142\n",
      "Epoch  13 / 20  -  train_rmse: 0.8987439875478945\n",
      "Epoch  14 / 20  -  train_rmse: 0.898707858368828\n",
      "Epoch  15 / 20  -  train_rmse: 0.898677865613586\n",
      "Epoch  16 / 20  -  train_rmse: 0.8986525418810812\n",
      "Epoch  17 / 20  -  train_rmse: 0.8986308442739734\n",
      "Epoch  18 / 20  -  train_rmse: 0.8986120156337635\n",
      "Epoch  19 / 20  -  train_rmse: 0.8985954953519975\n",
      "Epoch  20 / 20  -  train_rmse: 0.8985808607360918\n",
      "\n",
      "Test RMSE: 0.9110\n",
      "Wall time: 2.13 s\n"
     ]
    }
   ],
   "source": [
    "%%time\n",
    "\n",
    "baseline_model = BaselineModel(n_epochs = 20, reg = 0.005, verbose=1)\n",
    "baseline_model.fit(train)\n",
    "\n",
    "pred = baseline_model.predict(test)\n",
    "rmse = mean_squared_error(test['rating'], pred, squared = False)\n",
    "\n",
    "print(f'\\nTest RMSE: {rmse:.4f}')"
   ]
  },
  {
   "cell_type": "markdown",
   "metadata": {},
   "source": [
    "### ALS"
   ]
  },
  {
   "cell_type": "code",
   "execution_count": 5,
   "metadata": {
    "tags": []
   },
   "outputs": [
    {
     "name": "stdout",
     "output_type": "stream",
     "text": [
      "Epoch  1 / 20  -  train_rmse: 0.9178315267402595\n",
      "Epoch  2 / 20  -  train_rmse: 0.8973630281853254\n",
      "Epoch  3 / 20  -  train_rmse: 0.8963963969718824\n",
      "Epoch  4 / 20  -  train_rmse: 0.896338149748741\n",
      "Epoch  5 / 20  -  train_rmse: 0.8963334709750764\n",
      "Epoch  6 / 20  -  train_rmse: 0.8963328597251499\n",
      "Epoch  7 / 20  -  train_rmse: 0.8963327236190923\n",
      "Epoch  8 / 20  -  train_rmse: 0.8963326724357833\n",
      "Epoch  9 / 20  -  train_rmse: 0.8963326400913297\n",
      "Epoch  10 / 20  -  train_rmse: 0.8963326123394056\n",
      "Epoch  11 / 20  -  train_rmse: 0.8963325858475254\n",
      "Epoch  12 / 20  -  train_rmse: 0.8963325598168373\n",
      "Epoch  13 / 20  -  train_rmse: 0.8963325340534692\n",
      "Epoch  14 / 20  -  train_rmse: 0.8963325085093153\n",
      "Epoch  15 / 20  -  train_rmse: 0.896332483171204\n",
      "Epoch  16 / 20  -  train_rmse: 0.8963324580347655\n",
      "Epoch  17 / 20  -  train_rmse: 0.8963324330974767\n",
      "Epoch  18 / 20  -  train_rmse: 0.8963324083573896\n",
      "Epoch  19 / 20  -  train_rmse: 0.8963323838127704\n",
      "Epoch  20 / 20  -  train_rmse: 0.8963323594618783\n",
      "\n",
      "Test RMSE: 0.9091\n",
      "Wall time: 1.76 s\n"
     ]
    }
   ],
   "source": [
    "%%time\n",
    "\n",
    "baseline_model = BaselineModel(method='als', n_epochs = 20, reg = 0.5, verbose=1)\n",
    "baseline_model.fit(train)\n",
    "\n",
    "pred = baseline_model.predict(test)\n",
    "rmse = mean_squared_error(test['rating'], pred, squared = False)\n",
    "\n",
    "print(f'\\nTest RMSE: {rmse:.4f}')"
   ]
  },
  {
   "cell_type": "markdown",
   "metadata": {},
   "source": [
    "### Updating with new users"
   ]
  },
  {
   "cell_type": "code",
   "execution_count": 6,
   "metadata": {
    "tags": []
   },
   "outputs": [
    {
     "name": "stdout",
     "output_type": "stream",
     "text": [
      "Epoch  1 / 20  -  train_rmse: 0.916681766152793\n",
      "Epoch  2 / 20  -  train_rmse: 0.9067150383041128\n",
      "Epoch  3 / 20  -  train_rmse: 0.9035766076888032\n",
      "Epoch  4 / 20  -  train_rmse: 0.9021866734700877\n",
      "Epoch  5 / 20  -  train_rmse: 0.9014559633972776\n",
      "Epoch  6 / 20  -  train_rmse: 0.9010273176238084\n",
      "Epoch  7 / 20  -  train_rmse: 0.900755015190394\n",
      "Epoch  8 / 20  -  train_rmse: 0.9005709217404749\n",
      "Epoch  9 / 20  -  train_rmse: 0.900440005002407\n",
      "Epoch  10 / 20  -  train_rmse: 0.9003429185430207\n",
      "Epoch  11 / 20  -  train_rmse: 0.9002683530229807\n",
      "Epoch  12 / 20  -  train_rmse: 0.9002093771575651\n",
      "Epoch  13 / 20  -  train_rmse: 0.9001615668582349\n",
      "Epoch  14 / 20  -  train_rmse: 0.900121995882471\n",
      "Epoch  15 / 20  -  train_rmse: 0.9000886663428845\n",
      "Epoch  16 / 20  -  train_rmse: 0.9000601748224009\n",
      "Epoch  17 / 20  -  train_rmse: 0.9000355099217533\n",
      "Epoch  18 / 20  -  train_rmse: 0.9000139257510138\n",
      "Epoch  19 / 20  -  train_rmse: 0.8999948606903906\n",
      "Epoch  20 / 20  -  train_rmse: 0.8999778838996778\n"
     ]
    }
   ],
   "source": [
    "baseline_model = BaselineModel(method='sgd', n_epochs = 20, lr=0.01, reg = 0.05, verbose=1)\n",
    "baseline_model.fit(train_initial)\n",
    "\n",
    "user_biases = baseline_model.user_biases"
   ]
  },
  {
   "cell_type": "code",
   "execution_count": 7,
   "metadata": {
    "tags": []
   },
   "outputs": [
    {
     "name": "stdout",
     "output_type": "stream",
     "text": [
      "Epoch  1 / 20  -  train_rmse: 0.9577807977795892\n",
      "Epoch  2 / 20  -  train_rmse: 0.943916088654542\n",
      "Epoch  3 / 20  -  train_rmse: 0.9348871838092219\n",
      "Epoch  4 / 20  -  train_rmse: 0.9286451402415307\n",
      "Epoch  5 / 20  -  train_rmse: 0.9241347000803877\n",
      "Epoch  6 / 20  -  train_rmse: 0.9207594879844894\n",
      "Epoch  7 / 20  -  train_rmse: 0.9181600603545007\n",
      "Epoch  8 / 20  -  train_rmse: 0.9161091321065541\n",
      "Epoch  9 / 20  -  train_rmse: 0.9144573577035976\n",
      "Epoch  10 / 20  -  train_rmse: 0.9131033878076178\n",
      "Epoch  11 / 20  -  train_rmse: 0.9119765029276343\n",
      "Epoch  12 / 20  -  train_rmse: 0.9110261357359404\n",
      "Epoch  13 / 20  -  train_rmse: 0.910215334968973\n",
      "Epoch  14 / 20  -  train_rmse: 0.90951656842701\n",
      "Epoch  15 / 20  -  train_rmse: 0.9089089585373543\n",
      "Epoch  16 / 20  -  train_rmse: 0.9083764198816021\n",
      "Epoch  17 / 20  -  train_rmse: 0.9079063786664788\n",
      "Epoch  18 / 20  -  train_rmse: 0.9074888759194341\n",
      "Epoch  19 / 20  -  train_rmse: 0.9071159286957357\n",
      "Epoch  20 / 20  -  train_rmse: 0.9067810678715049\n",
      "\n",
      "Test RMSE: 0.9124\n",
      "Wall time: 548 ms\n"
     ]
    }
   ],
   "source": [
    "%%time\n",
    "baseline_model.update_users(train_update, n_epochs=20, lr=0.001, verbose=1)\n",
    "pred = baseline_model.predict(test_update)\n",
    "rmse = mean_squared_error(test_update['rating'], pred, squared = False)\n",
    "\n",
    "print(f'\\nTest RMSE: {rmse:.4f}')"
   ]
  },
  {
   "cell_type": "markdown",
   "metadata": {},
   "source": [
    "## Matrix Factorization"
   ]
  },
  {
   "cell_type": "code",
   "execution_count": 8,
   "metadata": {
    "tags": []
   },
   "outputs": [
    {
     "name": "stdout",
     "output_type": "stream",
     "text": [
      "Epoch  1 / 20  -  train_rmse: 1.0131156932692604\n",
      "Epoch  2 / 20  -  train_rmse: 0.9737452999285628\n",
      "Epoch  3 / 20  -  train_rmse: 0.952540753861357\n",
      "Epoch  4 / 20  -  train_rmse: 0.938917032409236\n",
      "Epoch  5 / 20  -  train_rmse: 0.9291655197256019\n",
      "Epoch  6 / 20  -  train_rmse: 0.9216639521191695\n",
      "Epoch  7 / 20  -  train_rmse: 0.9155920554121091\n",
      "Epoch  8 / 20  -  train_rmse: 0.9104881151741863\n",
      "Epoch  9 / 20  -  train_rmse: 0.9060698901459235\n",
      "Epoch  10 / 20  -  train_rmse: 0.9021532505217927\n",
      "Epoch  11 / 20  -  train_rmse: 0.8986115997821935\n",
      "Epoch  12 / 20  -  train_rmse: 0.8953540410437282\n",
      "Epoch  13 / 20  -  train_rmse: 0.8923128675330885\n",
      "Epoch  14 / 20  -  train_rmse: 0.8894360087812822\n",
      "Epoch  15 / 20  -  train_rmse: 0.8866822640314471\n",
      "Epoch  16 / 20  -  train_rmse: 0.8840181824246149\n",
      "Epoch  17 / 20  -  train_rmse: 0.8814159599330976\n",
      "Epoch  18 / 20  -  train_rmse: 0.8788519900983536\n",
      "Epoch  19 / 20  -  train_rmse: 0.8763058519900032\n",
      "Epoch  20 / 20  -  train_rmse: 0.8737596022833991\n",
      "\n",
      "Test RMSE: 0.9168\n",
      "Wall time: 8.55 s\n"
     ]
    }
   ],
   "source": [
    "%%time \n",
    "matrix_fact = MatrixFactorization(n_epochs = 20, n_factors = 100, verbose = 1, lr = 0.001, reg = 0.005)\n",
    "matrix_fact.fit(train)\n",
    "\n",
    "pred = matrix_fact.predict(test)\n",
    "rmse = mean_squared_error(test['rating'], pred, squared = False)\n",
    "\n",
    "print(f'\\nTest RMSE: {rmse:.4f}')"
   ]
  },
  {
   "cell_type": "markdown",
   "metadata": {},
   "source": [
    "### Getting list of recommendations for a user"
   ]
  },
  {
   "cell_type": "code",
   "execution_count": 9,
   "metadata": {},
   "outputs": [
    {
     "data": {
      "text/html": [
       "<div>\n",
       "<style scoped>\n",
       "    .dataframe tbody tr th:only-of-type {\n",
       "        vertical-align: middle;\n",
       "    }\n",
       "\n",
       "    .dataframe tbody tr th {\n",
       "        vertical-align: top;\n",
       "    }\n",
       "\n",
       "    .dataframe thead th {\n",
       "        text-align: right;\n",
       "    }\n",
       "</style>\n",
       "<table border=\"1\" class=\"dataframe\">\n",
       "  <thead>\n",
       "    <tr style=\"text-align: right;\">\n",
       "      <th></th>\n",
       "      <th>user_id</th>\n",
       "      <th>item_id</th>\n",
       "      <th>rating_pred</th>\n",
       "    </tr>\n",
       "  </thead>\n",
       "  <tbody>\n",
       "    <tr>\n",
       "      <th>815</th>\n",
       "      <td>200</td>\n",
       "      <td>1250</td>\n",
       "      <td>4.721790</td>\n",
       "    </tr>\n",
       "    <tr>\n",
       "      <th>317</th>\n",
       "      <td>200</td>\n",
       "      <td>908</td>\n",
       "      <td>4.674285</td>\n",
       "    </tr>\n",
       "    <tr>\n",
       "      <th>596</th>\n",
       "      <td>200</td>\n",
       "      <td>2019</td>\n",
       "      <td>4.655865</td>\n",
       "    </tr>\n",
       "    <tr>\n",
       "      <th>1113</th>\n",
       "      <td>200</td>\n",
       "      <td>3435</td>\n",
       "      <td>4.642750</td>\n",
       "    </tr>\n",
       "    <tr>\n",
       "      <th>37</th>\n",
       "      <td>200</td>\n",
       "      <td>318</td>\n",
       "      <td>4.635284</td>\n",
       "    </tr>\n",
       "    <tr>\n",
       "      <th>1209</th>\n",
       "      <td>200</td>\n",
       "      <td>1207</td>\n",
       "      <td>4.633416</td>\n",
       "    </tr>\n",
       "    <tr>\n",
       "      <th>1981</th>\n",
       "      <td>200</td>\n",
       "      <td>1178</td>\n",
       "      <td>4.619055</td>\n",
       "    </tr>\n",
       "    <tr>\n",
       "      <th>1988</th>\n",
       "      <td>200</td>\n",
       "      <td>745</td>\n",
       "      <td>4.615561</td>\n",
       "    </tr>\n",
       "    <tr>\n",
       "      <th>655</th>\n",
       "      <td>200</td>\n",
       "      <td>527</td>\n",
       "      <td>4.609948</td>\n",
       "    </tr>\n",
       "    <tr>\n",
       "      <th>189</th>\n",
       "      <td>200</td>\n",
       "      <td>2762</td>\n",
       "      <td>4.609722</td>\n",
       "    </tr>\n",
       "  </tbody>\n",
       "</table>\n",
       "</div>"
      ],
      "text/plain": [
       "      user_id  item_id  rating_pred\n",
       "815       200     1250     4.721790\n",
       "317       200      908     4.674285\n",
       "596       200     2019     4.655865\n",
       "1113      200     3435     4.642750\n",
       "37        200      318     4.635284\n",
       "1209      200     1207     4.633416\n",
       "1981      200     1178     4.619055\n",
       "1988      200      745     4.615561\n",
       "655       200      527     4.609948\n",
       "189       200     2762     4.609722"
      ]
     },
     "execution_count": 9,
     "metadata": {},
     "output_type": "execute_result"
    }
   ],
   "source": [
    "user = 200\n",
    "items_known = train.query('user_id == @user')['item_id']\n",
    "matrix_fact.recommend(user=user, items_known=items_known)"
   ]
  },
  {
   "cell_type": "markdown",
   "metadata": {},
   "source": [
    "### Updating with new users"
   ]
  },
  {
   "cell_type": "code",
   "execution_count": 10,
   "metadata": {
    "tags": []
   },
   "outputs": [
    {
     "name": "stdout",
     "output_type": "stream",
     "text": [
      "Epoch  1 / 20  -  train_rmse: 1.017453407623808\n",
      "Epoch  2 / 20  -  train_rmse: 0.9844477150625434\n",
      "Epoch  3 / 20  -  train_rmse: 0.9681259718442118\n",
      "Epoch  4 / 20  -  train_rmse: 0.9583876429745246\n",
      "Epoch  5 / 20  -  train_rmse: 0.9519254023581528\n",
      "Epoch  6 / 20  -  train_rmse: 0.9473320649242977\n",
      "Epoch  7 / 20  -  train_rmse: 0.9439066747027656\n",
      "Epoch  8 / 20  -  train_rmse: 0.9412604236187501\n",
      "Epoch  9 / 20  -  train_rmse: 0.9391600145529355\n",
      "Epoch  10 / 20  -  train_rmse: 0.9374568087602531\n",
      "Epoch  11 / 20  -  train_rmse: 0.9360515262276466\n",
      "Epoch  12 / 20  -  train_rmse: 0.9348752818165803\n",
      "Epoch  13 / 20  -  train_rmse: 0.9338787603871875\n",
      "Epoch  14 / 20  -  train_rmse: 0.9330257216590568\n",
      "Epoch  15 / 20  -  train_rmse: 0.9322889368641933\n",
      "Epoch  16 / 20  -  train_rmse: 0.9316475551427175\n",
      "Epoch  17 / 20  -  train_rmse: 0.9310853440176857\n",
      "Epoch  18 / 20  -  train_rmse: 0.9305894825490518\n",
      "Epoch  19 / 20  -  train_rmse: 0.9301497143363141\n",
      "Epoch  20 / 20  -  train_rmse: 0.9297577409183222\n"
     ]
    },
    {
     "data": {
      "text/plain": [
       "MatrixFactorization(lr=0.001, n_epochs=20, reg=0.5)"
      ]
     },
     "execution_count": 10,
     "metadata": {},
     "output_type": "execute_result"
    }
   ],
   "source": [
    "matrix_fact = MatrixFactorization(n_epochs = 20, n_factors = 100, verbose = 1, lr = 0.001, reg = 0.5)\n",
    "matrix_fact.fit(train_initial)"
   ]
  },
  {
   "cell_type": "code",
   "execution_count": 11,
   "metadata": {
    "tags": []
   },
   "outputs": [
    {
     "name": "stdout",
     "output_type": "stream",
     "text": [
      "Epoch  1 / 20  -  train_rmse: 0.9753709546570367\n",
      "Epoch  2 / 20  -  train_rmse: 0.9627583441585484\n",
      "Epoch  3 / 20  -  train_rmse: 0.9547804232691787\n",
      "Epoch  4 / 20  -  train_rmse: 0.9493349624667294\n",
      "Epoch  5 / 20  -  train_rmse: 0.9454156730751521\n",
      "Epoch  6 / 20  -  train_rmse: 0.9424806133583435\n",
      "Epoch  7 / 20  -  train_rmse: 0.940213282664107\n",
      "Epoch  8 / 20  -  train_rmse: 0.938417298298735\n",
      "Epoch  9 / 20  -  train_rmse: 0.9369648911723226\n",
      "Epoch  10 / 20  -  train_rmse: 0.9357696846776115\n",
      "Epoch  11 / 20  -  train_rmse: 0.9347713982456956\n",
      "Epoch  12 / 20  -  train_rmse: 0.9339268154225837\n",
      "Epoch  13 / 20  -  train_rmse: 0.9332042285318105\n",
      "Epoch  14 / 20  -  train_rmse: 0.9325799017752063\n",
      "Epoch  15 / 20  -  train_rmse: 0.9320357513480894\n",
      "Epoch  16 / 20  -  train_rmse: 0.9315577835310822\n",
      "Epoch  17 / 20  -  train_rmse: 0.9311350184767716\n",
      "Epoch  18 / 20  -  train_rmse: 0.930758733206125\n",
      "Epoch  19 / 20  -  train_rmse: 0.9304219192355778\n",
      "Epoch  20 / 20  -  train_rmse: 0.9301188875204278\n",
      "\n",
      "Test RMSE: 0.9364\n",
      "Wall time: 1.4 s\n"
     ]
    }
   ],
   "source": [
    "%%time\n",
    "\n",
    "# Update model with new users\n",
    "matrix_fact.update_users(train_update, lr=0.001, n_epochs=20, verbose=1)\n",
    "pred = matrix_fact.predict(test_update)\n",
    "rmse = mean_squared_error(test_update['rating'], pred, squared = False)\n",
    "\n",
    "print(f'\\nTest RMSE: {rmse:.4f}')"
   ]
  },
  {
   "cell_type": "markdown",
   "metadata": {},
   "source": [
    "## Surprise"
   ]
  },
  {
   "cell_type": "code",
   "execution_count": 12,
   "metadata": {},
   "outputs": [],
   "source": [
    "# Load the movielens-100k dataset (download it if needed),\n",
    "data = sp.Dataset.load_builtin('ml-100k')"
   ]
  },
  {
   "cell_type": "code",
   "execution_count": 13,
   "metadata": {
    "tags": []
   },
   "outputs": [
    {
     "name": "stdout",
     "output_type": "stream",
     "text": [
      "Evaluating RMSE, MAE of algorithm SVD on 5 split(s).\n",
      "\n",
      "                  Fold 1  Fold 2  Fold 3  Fold 4  Fold 5  Mean    Std     \n",
      "RMSE (testset)    0.9427  0.9346  0.9333  0.9366  0.9352  0.9365  0.0033  \n",
      "MAE (testset)     0.7440  0.7368  0.7351  0.7370  0.7379  0.7382  0.0030  \n",
      "Fit time          4.86    4.76    4.85    5.03    5.19    4.94    0.15    \n",
      "Test time         0.13    0.16    0.18    0.14    0.21    0.16    0.03    \n",
      "Wall time: 26.5 s\n"
     ]
    },
    {
     "data": {
      "text/plain": [
       "{'test_rmse': array([0.94266318, 0.93461611, 0.93329959, 0.93660388, 0.93519107]),\n",
       " 'test_mae': array([0.74398474, 0.73679712, 0.73513794, 0.73699482, 0.73788392]),\n",
       " 'fit_time': (4.858710289001465,\n",
       "  4.762438774108887,\n",
       "  4.845961332321167,\n",
       "  5.028306245803833,\n",
       "  5.1944146156311035),\n",
       " 'test_time': (0.13063931465148926,\n",
       "  0.16353535652160645,\n",
       "  0.17874550819396973,\n",
       "  0.13814067840576172,\n",
       "  0.21229290962219238)}"
      ]
     },
     "execution_count": 13,
     "metadata": {},
     "output_type": "execute_result"
    }
   ],
   "source": [
    "%%time\n",
    "# We'll use the famous SVD algorithm.\n",
    "algo = sp.SVD()\n",
    "\n",
    "# Run 5-fold cross-validation and print results\n",
    "sp.model_selection.cross_validate(algo, data, measures=['RMSE', 'MAE'], cv=5, verbose=True)"
   ]
  },
  {
   "cell_type": "code",
   "execution_count": 14,
   "metadata": {
    "tags": []
   },
   "outputs": [
    {
     "name": "stdout",
     "output_type": "stream",
     "text": [
      "Estimating biases using als...\n",
      "RMSE: 0.9096\n",
      "Wall time: 7.85 s\n"
     ]
    },
    {
     "data": {
      "text/plain": [
       "0.9095729293919449"
      ]
     },
     "execution_count": 14,
     "metadata": {},
     "output_type": "execute_result"
    }
   ],
   "source": [
    "%%time\n",
    "\n",
    "# surprise_svd = sp.SVD(lr_all=0.001, reg_all=0.005, n_epochs=20, n_factors=50)\n",
    "surprise_svd = sp.BaselineOnly()\n",
    "\n",
    "reader = sp.Reader()\n",
    "\n",
    "data_train = sp.Dataset.load_from_df(train[['user_id', 'item_id', 'rating']], reader = reader).build_full_trainset()\n",
    "data_test = sp.Dataset.load_from_df(test[['user_id', 'item_id', 'rating']], reader = reader).build_full_trainset().build_testset()\n",
    "surprise_svd.fit(data_train)\n",
    "\n",
    "pred = surprise_svd.test(data_test)\n",
    "sp.accuracy.rmse(pred)"
   ]
  }
 ],
 "metadata": {
  "kernelspec": {
   "display_name": "Python 3.8.3 64-bit ('recommend': conda)",
   "language": "python",
   "name": "python38364bitrecommendcondade76a3c31eb343bd84fdde91589c0bfc"
  },
  "language_info": {
   "codemirror_mode": {
    "name": "ipython",
    "version": 3
   },
   "file_extension": ".py",
   "mimetype": "text/x-python",
   "name": "python",
   "nbconvert_exporter": "python",
   "pygments_lexer": "ipython3",
   "version": "3.7.7"
  }
 },
 "nbformat": 4,
 "nbformat_minor": 4
}
